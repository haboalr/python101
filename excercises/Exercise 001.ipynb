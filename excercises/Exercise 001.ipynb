{
 "cells": [
  {
   "cell_type": "markdown",
   "id": "507e511c",
   "metadata": {},
   "source": [
    "**Exercise Notebook 1**  \n",
    "  \n",
    "This notebook contains some simple exercises containing the topics : Variabls, string data type, date type convertion, lists and finally dictionaries.   \n",
    "It is advicable not to use any AI tools while completing this exercise notebook. Of course these tools can be really helpful when you wish to further your understanding and get a better intuition of the concept. If you are having trouble with any part of this notebook, please consult the lecturer.   \n",
    "\n",
    "Author : AqibThennadan "
   ]
  },
  {
   "cell_type": "markdown",
   "id": "550c5c3d",
   "metadata": {},
   "source": [
    "# Exercise 1 : Variables\n",
    "* Fill appropriate values in the variables, as a string.\n",
    "* Print only 'myName' in one line"
   ]
  },
  {
   "cell_type": "code",
   "execution_count": null,
   "id": "1583d0e0",
   "metadata": {},
   "outputs": [],
   "source": [
    "myName = ''\n",
    "dob = ''\n",
    "height = ''\n"
   ]
  },
  {
   "cell_type": "markdown",
   "id": "1710ec8e",
   "metadata": {},
   "source": [
    "**Ex 1.1** Complete the line\n",
    "\n",
    "These are known as **f-strings**, allows you to format your output lines with ease.  \n",
    "Fill in the appropriate variable in the curly brackets"
   ]
  },
  {
   "cell_type": "code",
   "execution_count": null,
   "id": "f3e013c3",
   "metadata": {},
   "outputs": [],
   "source": [
    "print(f'Name : {myName}\\nDate of Birth : {}\\nHeight : {}')"
   ]
  },
  {
   "cell_type": "markdown",
   "id": "ba4b1f22",
   "metadata": {},
   "source": [
    "Wondering what the '\\n' is?   \n",
    "These are called **escape sequences**.  \n",
    "'\\n' represents newline, few other  \n",
    "'\\t'\tTab (horizontal space)  \n",
    "'\\\\'\tLiteral backslash (\\)"
   ]
  },
  {
   "cell_type": "markdown",
   "id": "bc2c0daa",
   "metadata": {},
   "source": [
    "**Ex 1.2**\n",
    "rewrite the above cell, such that each variable is printed in the same line, but seperated by a tabspace."
   ]
  },
  {
   "cell_type": "code",
   "execution_count": null,
   "id": "3949d44f",
   "metadata": {},
   "outputs": [],
   "source": [
    "print(f'Name : ')  # Complete the remaining"
   ]
  },
  {
   "cell_type": "markdown",
   "id": "fb64e5b3",
   "metadata": {},
   "source": [
    "# Exercise 2: Data types  \n",
    "You will now check if the year of birth was a leap year.  \n",
    "\n",
    "You might remember the conditions for a year to be considered a leap year, and the mathematical operations required.    \n",
    "But since we have stored date of birth as a string, we will need to go through a few steps before we could check for a leap year."
   ]
  },
  {
   "cell_type": "code",
   "execution_count": null,
   "id": "354828b5",
   "metadata": {},
   "outputs": [],
   "source": [
    "# Try directly casting the variable into an integer\n",
    "\n",
    "int(dob)"
   ]
  },
  {
   "cell_type": "markdown",
   "id": "2e26665e",
   "metadata": {},
   "source": [
    "**Ex 2.1**\n",
    "* Use the built in string operator `.split()`, to extract the year of birth from our variable `dob`\n",
    "* Store the result of the  split operation in a variable called `items`."
   ]
  },
  {
   "cell_type": "code",
   "execution_count": 7,
   "id": "e8ab47e6",
   "metadata": {},
   "outputs": [],
   "source": [
    "dob = '10.23.33534'"
   ]
  },
  {
   "cell_type": "code",
   "execution_count": null,
   "id": "5327e3c1",
   "metadata": {},
   "outputs": [
    {
     "name": "stdout",
     "output_type": "stream",
     "text": [
      "<class 'list'> ['10', '23', '33534']\n"
     ]
    }
   ],
   "source": [
    "items = _______\n",
    "\n",
    "print(type(items), items)"
   ]
  },
  {
   "cell_type": "markdown",
   "id": "9744bd09",
   "metadata": {},
   "source": [
    "**Ex 2.2**  \n",
    "* From the list `items`, subset the value of year.  \n",
    "* Caste this value to an integer and store in a variable called `year`."
   ]
  },
  {
   "cell_type": "code",
   "execution_count": null,
   "id": "4eda0ae3",
   "metadata": {},
   "outputs": [],
   "source": [
    "year_ = items[_]"
   ]
  },
  {
   "cell_type": "code",
   "execution_count": null,
   "id": "193453ee",
   "metadata": {},
   "outputs": [],
   "source": [
    "'''\n",
    "Nothing to do here, simply run!\n",
    "You are welcome to try and understand how this works; no worries you will learn about conditional statements in the coming lectures.\n",
    "'''\n",
    "\n",
    "if year % 4 != 0:\n",
    "    print(\"Not a leap year\")\n",
    "else:\n",
    "    # Year is divisible by 4\n",
    "    if year % 100 != 0:\n",
    "        print(\"Leap year\")\n",
    "    else:\n",
    "        # Year is divisible by 100\n",
    "        if year % 400 == 0:\n",
    "            print(\"Leap year\")\n",
    "        else:\n",
    "            print(\"Not a leap year\")"
   ]
  },
  {
   "cell_type": "markdown",
   "id": "d834acc5",
   "metadata": {},
   "source": [
    "# Exercise 3 :"
   ]
  },
  {
   "cell_type": "markdown",
   "id": "832be9a0",
   "metadata": {},
   "source": [
    "**Ex 3.1**  \n",
    " \n",
    "Pick atleast 3 destinations you might visit on your next vacation.  \n",
    "* Store the names of these destinations in a list called `dest`.\n"
   ]
  },
  {
   "cell_type": "code",
   "execution_count": null,
   "id": "4b328b91",
   "metadata": {},
   "outputs": [],
   "source": [
    "dest = \n",
    "print(f'Wish I had time for all these {dest}')"
   ]
  },
  {
   "cell_type": "markdown",
   "id": "7cbb75d6",
   "metadata": {},
   "source": [
    "**Ex 3.2**\n",
    "\n",
    " Lets now compare the distance between your home and each of these destinations.  \n",
    "* You will have to create seperate lists that contains:\n",
    "    * destination name \n",
    "    * followed by the distance(number)\n",
    "* assige each to seperate variables 'dest1, dest2, ...destn'.\n",
    "* Nest all these lists into a list called `dest`.   \n",
    "*Notice how this reuses the variable `dest`*"
   ]
  },
  {
   "cell_type": "code",
   "execution_count": null,
   "id": "c3065629",
   "metadata": {},
   "outputs": [],
   "source": [
    "dest1 = ['Bielefeld', 500]  # Replace with a place that exists XD, just an example here.\n",
    "dest2 = ____\n",
    "dest3 = "
   ]
  },
  {
   "cell_type": "code",
   "execution_count": null,
   "id": "3379a8da",
   "metadata": {},
   "outputs": [],
   "source": [
    "dest = [dest1, ] # Complete the remaining"
   ]
  },
  {
   "cell_type": "code",
   "execution_count": null,
   "id": "eae100d0",
   "metadata": {},
   "outputs": [],
   "source": [
    "print(f'My bucket list : {dest}')"
   ]
  },
  {
   "cell_type": "markdown",
   "id": "3d47cb49",
   "metadata": {},
   "source": [
    "**Ex 3.3**  \n",
    "* Choose one more destination, and create a list with the name and distance, like before.\n",
    "* Add this new list to our list `dest`. "
   ]
  },
  {
   "cell_type": "markdown",
   "id": "64eaaaee",
   "metadata": {},
   "source": [
    "# Exercise 4"
   ]
  },
  {
   "cell_type": "markdown",
   "id": "878245f4",
   "metadata": {},
   "source": [
    "**Ex 4.1**  \n",
    "* You will now create a dictionary `bioData`, using what you did in Ex 1.1. "
   ]
  },
  {
   "cell_type": "code",
   "execution_count": null,
   "id": "be7956b7",
   "metadata": {},
   "outputs": [],
   "source": [
    "bioData = {\n",
    "    'name' : myName,\n",
    "    ''              # Complete the remaining\n",
    "}"
   ]
  },
  {
   "cell_type": "code",
   "execution_count": null,
   "id": "5b8645c0",
   "metadata": {},
   "outputs": [],
   "source": [
    "print(f'this is me : {bioData}')"
   ]
  },
  {
   "cell_type": "markdown",
   "id": "8ff12da3",
   "metadata": {},
   "source": [
    "**Ex 4.2**  \n",
    "* Reassign all the values in the dictionary `bioData` with your friends data."
   ]
  },
  {
   "cell_type": "code",
   "execution_count": null,
   "id": "eac6e25e",
   "metadata": {},
   "outputs": [],
   "source": [
    "bioData['name'] = _____ # complete\n",
    "______"
   ]
  },
  {
   "cell_type": "code",
   "execution_count": null,
   "id": "bdfc20dd",
   "metadata": {},
   "outputs": [],
   "source": [
    "print(f'and, this is my friend : {bioData}')"
   ]
  },
  {
   "cell_type": "markdown",
   "id": "b1843b9d",
   "metadata": {},
   "source": [
    "Do you still have the same number of dictionary keys?  \n",
    "If you have extra keys, you may have made a simple typing error.  \n",
    "Double check if you have spelled the keys exactly the same(case sensitive)"
   ]
  },
  {
   "cell_type": "markdown",
   "id": "d4ccc0e0",
   "metadata": {},
   "source": [
    "**Ex 4.3**  \n",
    "* You need to create a dictionary that maps the number of the month to the string name of a month.  \n",
    "* You will create a dictionary with the name `map_month `, which will contain number from 1 to 12, stored as strings, as the keys\n",
    "* the corresponding value will be the name of the month."
   ]
  },
  {
   "cell_type": "code",
   "execution_count": null,
   "id": "335834fc",
   "metadata": {},
   "outputs": [],
   "source": [
    "map_month = {\n",
    "    '01' : 'January',\n",
    "    # Continue\n",
    "}"
   ]
  },
  {
   "cell_type": "markdown",
   "id": "4a535208",
   "metadata": {},
   "source": [
    "Now we will use this map dictionary to return the name of the month from the `Date of Birth` field of the `BioData` dictionary.  \n",
    "Similar to what we did before, you will strip the string to extract the month number, and store it in a variable called `month`."
   ]
  },
  {
   "cell_type": "code",
   "execution_count": null,
   "id": "d8918b42",
   "metadata": {},
   "outputs": [],
   "source": [
    "\n",
    "print(f'Month : {month}, {map_month[month]}')"
   ]
  }
 ],
 "metadata": {
  "kernelspec": {
   "display_name": "env-ede",
   "language": "python",
   "name": "python3"
  },
  "language_info": {
   "codemirror_mode": {
    "name": "ipython",
    "version": 3
   },
   "file_extension": ".py",
   "mimetype": "text/x-python",
   "name": "python",
   "nbconvert_exporter": "python",
   "pygments_lexer": "ipython3",
   "version": "3.11.5"
  }
 },
 "nbformat": 4,
 "nbformat_minor": 5
}
