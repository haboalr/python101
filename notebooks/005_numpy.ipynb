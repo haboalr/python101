{
 "cells": [
  {
   "cell_type": "markdown",
   "id": "b40f4532",
   "metadata": {},
   "source": [
    "# Numpy Introduction\n",
    "\n",
    "###  Learning Objectives\n",
    "- Understand what NumPy is and why it is used\n",
    "- Learn how to create and manipulate NumPy arrays\n",
    "- Perform mathematical and statistical operations with NumPy\n",
    "- Work with random data generation and aggregation functions\n",
    "\n",
    "---"
   ]
  },
  {
   "cell_type": "markdown",
   "id": "c6a02408",
   "metadata": {},
   "source": [
    "## What is NumPy?\n",
    "\n",
    "NumPy (Numerical Python) is a powerful Python library for numerical computing. It provides:\n",
    "- Efficient multi-dimensional arrays (ndarrays) for large datasets\n",
    "- A large collection of high-performance mathematical functions\n",
    "- Broadcasting capabilities for flexible arithmetic operations\n",
    "- Random number generation and sampling tools\n",
    "\n",
    "NumPy forms the backbone of the scientific Python ecosystem and is widely used in data analysis, machine learning, simulations, and image processing.\n",
    "\n",
    "Compared to Python's built-in lists, NumPy arrays are:\n",
    "- Faster\n",
    "- More memory efficient\n",
    "- Easier to perform element-wise operations on\n",
    "\n",
    "---"
   ]
  },
  {
   "cell_type": "markdown",
   "id": "9357a954",
   "metadata": {},
   "source": [
    "## Section 1: Importing the Library\n",
    "To use NumPy, you first need to import it. The convention is to import it using the alias `np`:"
   ]
  },
  {
   "cell_type": "code",
   "execution_count": 1,
   "id": "aefe2a81",
   "metadata": {},
   "outputs": [],
   "source": [
    "import numpy as np #This allows you to access NumPy functions with the prefix `np.` throughout your code."
   ]
  },
  {
   "cell_type": "markdown",
   "id": "0884526c",
   "metadata": {},
   "source": [
    "## Section 2. Creating NumPy Arrays"
   ]
  },
  {
   "cell_type": "markdown",
   "id": "683c7095",
   "metadata": {},
   "source": [
    "#### What is a NumPy Array?\n",
    "\n",
    "A NumPy array (technically called an `ndarray`, or *n*-dimensional array) is a grid of values of the same data type, indexed by a tuple of nonnegative integers. NumPy arrays:\n",
    "\n",
    "- Support fast, vectorized operations (without explicit loops)  \n",
    "- Use less memory and are more efficient than Python lists  \n",
    "- Can be multi-dimensional (1D, 2D, 3D, etc.)  \n",
    "- Are foundational for scientific and numerical computing in Python  \n",
    "\n",
    "Unlike the built-in `list` type that can hold elements of **different types**, NumPy arrays allow only **one data type** for all elements. This means that:\n",
    "- A NumPy array can contain either integers or floats, but **not both at the same time**\n",
    "- This homogeneity allows NumPy to perform **fast linear algebra operations**\n",
    "\n",
    "NumPy also supports a wide range of **mathematical and statistical functions** such as:\n",
    "- Average\n",
    "- Minimum and Maximum\n",
    "- Standard Deviation\n",
    "- Variance\n",
    "- Aggregation functions, and many more\n",
    "\n",
    "After mastering NumPy, you’ll have a **powerful tool for analyzing numerical multi-dimensional data**, forming the backbone of most data science and machine learning workflows.\n",
    "\n",
    "<div align=\"center\">\n",
    "  <img src=\"figures/fig11.png\" alt=\"NumPy Array Illustration\" width=\"600\"/>\n",
    "  <p style=\"font-size:small;\">\n",
    "    Figure 11: NumPy array layout (1D and 2D structures)  \n",
    "    Source: <a href=\"https://www.pythontutorial.net/python-numpy/what-is-numpy/\" target=\"_blank\">\n",
    "    PythonTutorial.net – What is NumPy</a>\n",
    "  </p>\n",
    "</div>\n"
   ]
  },
  {
   "cell_type": "markdown",
   "id": "7f2e5e73",
   "metadata": {},
   "source": [
    "### From Python Lists"
   ]
  },
  {
   "cell_type": "code",
   "execution_count": 12,
   "id": "739002e5",
   "metadata": {},
   "outputs": [
    {
     "name": "stdout",
     "output_type": "stream",
     "text": [
      "NumPy Array: [1 2 3 4 5]\n"
     ]
    }
   ],
   "source": [
    "# Convert a list to a NumPy array\n",
    "my_list = [1,2,3,4,5]\n",
    "\n",
    "# conversion using np.array\n",
    "numpy_array = np.array(my_list)\n",
    "print(\"NumPy Array:\", numpy_array)"
   ]
  },
  {
   "cell_type": "markdown",
   "id": "84033d1f",
   "metadata": {},
   "source": [
    "> Why use NumPy arrays instead of lists?\n",
    "> - Support for vectorized operations (no need for loops)\n",
    "> - More powerful indexing and slicing\n",
    "> - Easier integration with scientific libraries"
   ]
  },
  {
   "cell_type": "markdown",
   "id": "9448a8b2",
   "metadata": {},
   "source": [
    "### Using `np.asarray()`\n",
    "`np.asarray()` behaves similarly to `np.array()`, but avoids copying data if the input is already an array:  \n",
    "This is useful when working with large datasets and memory efficiency is a concern.\n"
   ]
  },
  {
   "cell_type": "code",
   "execution_count": null,
   "id": "db4a9f58",
   "metadata": {},
   "outputs": [
    {
     "name": "stdout",
     "output_type": "stream",
     "text": [
      "Array with np.asarray: [1 2 3 4 5]\n"
     ]
    }
   ],
   "source": [
    "# Conversion using np.asarray()\n",
    "numpy_array2 = np.asarray(my_list)\n",
    "print(\"Array with np.asarray:\", numpy_array2)"
   ]
  },
  {
   "cell_type": "markdown",
   "id": "513670f9",
   "metadata": {},
   "source": [
    "### Creating Arrays with Random Numbers"
   ]
  },
  {
   "cell_type": "code",
   "execution_count": 3,
   "id": "26ea5f4a",
   "metadata": {},
   "outputs": [
    {
     "name": "stdout",
     "output_type": "stream",
     "text": [
      "Random Array: [ 624 1695 1153  384 1749 1051  706  748 1603  461  173   25  168  213\n",
      " 1085  850 1024 1280  561  227  294 1273  563   64 1844 1767 1000  880\n",
      "  980 1095]\n"
     ]
    }
   ],
   "source": [
    "# Create an array with random integers\n",
    "random_array = np.random.randint(0, 2024, 30) # 30 random integers between 0 and 2024\n",
    "print(\"Random Array:\", random_array)"
   ]
  },
  {
   "cell_type": "code",
   "execution_count": 8,
   "id": "086dbb33",
   "metadata": {},
   "outputs": [
    {
     "name": "stdout",
     "output_type": "stream",
     "text": [
      "some normally distributed random numbers: [-0.26354362 -0.87388542  0.12940227 -0.03645156 -0.98572959 -1.36567331\n",
      " -0.81582488 -0.07333171 -0.91803362  1.64299021]\n"
     ]
    }
   ],
   "source": [
    "# Generate normally distributed random numbers\n",
    "normal_array = np.random.randn(1000) # 1000 normally distributed random numbers\n",
    "print(\"some normally distributed random numbers:\", normal_array[:10]) # print first 10 numbers"
   ]
  },
  {
   "cell_type": "markdown",
   "id": "b50855c9",
   "metadata": {},
   "source": [
    "> Why generate random numbers?\n",
    "> - Useful for simulations, initializing weights in machine learning, or testing statistical methods."
   ]
  },
  {
   "cell_type": "markdown",
   "id": "d982160d",
   "metadata": {},
   "source": [
    "## Section 3: Manipulating Arrays"
   ]
  },
  {
   "cell_type": "markdown",
   "id": "d1b54bd7",
   "metadata": {},
   "source": [
    "### Sorting Arrays\n",
    "You can sort an array using:  \n",
    "> This returns a new sorted array and does not modify the original. Use `array.sort()` to sort in-place."
   ]
  },
  {
   "cell_type": "code",
   "execution_count": null,
   "id": "bfcd20fe",
   "metadata": {},
   "outputs": [
    {
     "name": "stdout",
     "output_type": "stream",
     "text": [
      "Sorted array: [  25   64  168  173  213  227  294  384  461  561  563  624  706  748\n",
      "  850  880  980 1000 1024 1051 1085 1095 1153 1273 1280 1603 1695 1749\n",
      " 1767 1844]\n"
     ]
    }
   ],
   "source": [
    "sorted_array = np.sort(random_array)\n",
    "print(\"Sorted array:\", sorted_array)"
   ]
  },
  {
   "cell_type": "markdown",
   "id": "22a98b09",
   "metadata": {},
   "source": [
    "### Indexing and Slicing"
   ]
  },
  {
   "cell_type": "code",
   "execution_count": 14,
   "id": "9aff30e6",
   "metadata": {},
   "outputs": [
    {
     "data": {
      "text/plain": [
       "array([1, 2, 3, 4, 5])"
      ]
     },
     "execution_count": 14,
     "metadata": {},
     "output_type": "execute_result"
    }
   ],
   "source": [
    "numpy_array"
   ]
  },
  {
   "cell_type": "code",
   "execution_count": null,
   "id": "0d5f8d86",
   "metadata": {},
   "outputs": [
    {
     "name": "stdout",
     "output_type": "stream",
     "text": [
      "First element: 1\n",
      "Last element: 5\n"
     ]
    }
   ],
   "source": [
    "print(\"First element:\", numpy_array[0])\n",
    "print(\"Last element:\", numpy_array[-1])"
   ]
  },
  {
   "cell_type": "code",
   "execution_count": 15,
   "id": "5d80f7f7",
   "metadata": {},
   "outputs": [
    {
     "name": "stdout",
     "output_type": "stream",
     "text": [
      "First three elements: [1 2 3]\n",
      "Middle elements: [2 3 4]\n"
     ]
    }
   ],
   "source": [
    "print(\"First three elements:\", numpy_array[:3])\n",
    "print(\"Middle elements:\", numpy_array[1:4])"
   ]
  },
  {
   "cell_type": "markdown",
   "id": "8f698c5d",
   "metadata": {},
   "source": [
    "### Update values"
   ]
  },
  {
   "cell_type": "code",
   "execution_count": null,
   "id": "d1823217",
   "metadata": {},
   "outputs": [
    {
     "name": "stdout",
     "output_type": "stream",
     "text": [
      "Modified array: [100   2   3   4   5]\n"
     ]
    }
   ],
   "source": [
    "numpy_array[0] = 100\n",
    "print(\"Modified array:\", numpy_array)"
   ]
  },
  {
   "cell_type": "markdown",
   "id": "c6229d0d",
   "metadata": {},
   "source": [
    "### Stacking\n",
    "\n",
    "<div align=\"center\">\n",
    "  <img src=\"figures/stacking.png\" alt=\"stacking\" width=\"550\"/>\n",
    "  <p style=\"font-size:small;\">\n",
    "    stacking</a>\n",
    "  </p>\n",
    "</div>\n"
   ]
  },
  {
   "cell_type": "code",
   "execution_count": 17,
   "id": "860524c5",
   "metadata": {},
   "outputs": [
    {
     "name": "stdout",
     "output_type": "stream",
     "text": [
      "Vertical Stack:\n",
      "[[1 2]\n",
      " [3 4]\n",
      " [5 6]]\n",
      "Horizontal Stack:\n",
      "[[1 2 1 2]\n",
      " [3 4 3 4]]\n"
     ]
    }
   ],
   "source": [
    "a = np.array([[1, 2], [3, 4]])\n",
    "b = np.array([[5, 6]])\n",
    "\n",
    "# Vertical stacking\n",
    "vstacked = np.vstack((a, b))\n",
    "print(\"Vertical Stack:\")\n",
    "print(vstacked)\n",
    "\n",
    "# Horizontal stacking\n",
    "hstacked = np.hstack((a, a))\n",
    "print(\"Horizontal Stack:\")\n",
    "print(hstacked)"
   ]
  },
  {
   "cell_type": "markdown",
   "id": "90b66b42",
   "metadata": {},
   "source": [
    "## Section 4: Statistical Calculations"
   ]
  },
  {
   "cell_type": "markdown",
   "id": "2fef6802",
   "metadata": {},
   "source": [
    "### Mean (Average)\n",
    "The arithmetic mean is calculated using `np.mean()` or `.mean()` method:\n",
    "> The mean provides a central tendency of your data, useful in summarizing distributions."
   ]
  },
  {
   "cell_type": "code",
   "execution_count": null,
   "id": "7e458a23",
   "metadata": {},
   "outputs": [
    {
     "name": "stdout",
     "output_type": "stream",
     "text": [
      "Mean using np.mean(): 3.0\n",
      "Mean using .mean(): 3.0\n"
     ]
    }
   ],
   "source": [
    "#  Calculating the mean\n",
    "mean = np.mean(numpy_array)\n",
    "print(\"Mean using np.mean():\", mean)\n",
    "\n",
    "mean2 = numpy_array.mean()\n",
    "print(\"Mean using .mean():\", mean2)"
   ]
  },
  {
   "cell_type": "markdown",
   "id": "bb6360c2",
   "metadata": {},
   "source": [
    "### Standard Deviation\n",
    "This measures how spread out the values are:\n",
    "> A low standard deviation means values are close to the mean, while a high one means they're more spread out"
   ]
  },
  {
   "cell_type": "code",
   "execution_count": 12,
   "id": "a3d59aa6",
   "metadata": {},
   "outputs": [
    {
     "name": "stdout",
     "output_type": "stream",
     "text": [
      "Standard deviation of the normally distributed array: 1.0124964895455801\n"
     ]
    }
   ],
   "source": [
    "# 4.2: Calculating standard deviation\n",
    "std_dev = np.std(normal_array)\n",
    "print(\"Standard deviation of the normally distributed array:\", std_dev)"
   ]
  },
  {
   "cell_type": "markdown",
   "id": "b2613b6b",
   "metadata": {},
   "source": [
    "### Minimum and Maximum\n",
    "> These are useful for range and normalization operations."
   ]
  },
  {
   "cell_type": "code",
   "execution_count": 9,
   "id": "61fa2da5",
   "metadata": {},
   "outputs": [
    {
     "name": "stdout",
     "output_type": "stream",
     "text": [
      "Maximum value: 3.677466538732689\n",
      "Minimum value: -3.965997536317456\n"
     ]
    }
   ],
   "source": [
    "# 4.3: Maximum and minimum of an array\n",
    "max_value = np.max(normal_array)\n",
    "min_value = np.min(normal_array)\n",
    "print(\"Maximum value:\", max_value)\n",
    "print(\"Minimum value:\", min_value)"
   ]
  },
  {
   "cell_type": "code",
   "execution_count": 10,
   "id": "87291ff8",
   "metadata": {},
   "outputs": [
    {
     "name": "stdout",
     "output_type": "stream",
     "text": [
      "Sum of values: 7.825047369297339\n"
     ]
    }
   ],
   "source": [
    "# 4.4: Sum of all values in an array\n",
    "total_sum = np.sum(normal_array)\n",
    "print(\"Sum of values:\", total_sum)"
   ]
  },
  {
   "cell_type": "markdown",
   "id": "8ba3b17e",
   "metadata": {},
   "source": [
    "## Section 5: Conclusion\n",
    "\n",
    "NumPy provides a wide range of functions for numerical computation.  \n",
    "Here is a summary of the functions we covered:\n",
    "\n",
    "| **Function**         | **Description**                                  |\n",
    "|----------------------|--------------------------------------------------|\n",
    "| `np.random.randint`  | Generate random integers                         |\n",
    "| `np.random.randn`    | Generate normally distributed random numbers     |\n",
    "| `np.sort`            | Sort an array                                    |\n",
    "| `np.array`           | Convert a list into a NumPy array                |\n",
    "| `np.asarray`         | Alternative to `np.array`                        |\n",
    "| `np.mean`            | Calculate the mean                               |\n",
    "| `np.std`             | Calculate the standard deviation                 |\n",
    "| `np.max`, `np.min`   | Find the maximum and minimum                     |\n",
    "| `np.sum`             | Calculate the sum of all values                  |\n",
    "| `array.reshape()`    | Reshape an array                                 |\n",
    "| `array.flatten()`    | Flatten a multidimensional array                 |\n",
    "| `np.vstack`          | Stack arrays vertically                          |\n",
    "| `np.hstack`          | Stack arrays horizontally                        |\n",
    "| Indexing/Slicing     | Access, modify, and select subsets of data       |\n",
    "| Boolean Masking      | Filter arrays using conditions                   |\n",
    "\n",
    "\n",
    "Experiment with these functions to develop a deeper understanding!\n"
   ]
  },
  {
   "cell_type": "markdown",
   "id": "06f7e615",
   "metadata": {},
   "source": [
    "---\n",
    "## References\n",
    "1. [W3Schools - Python Modules](https://www.w3schools.com/python/python_modules.asp)\n",
    "2. HS Offenburg - Introductory Python Course\n",
    "3. [Python Packaging Guide](https://packaging.python.org/en/latest/)\n",
    "4. [DataCamp: Intro to Python](https://www.datacamp.com/courses/intro-to-python-for-data-science)\n"
   ]
  },
  {
   "cell_type": "markdown",
   "id": "cbca9e46",
   "metadata": {},
   "source": []
  }
 ],
 "metadata": {
  "kernelspec": {
   "display_name": "base",
   "language": "python",
   "name": "python3"
  },
  "language_info": {
   "codemirror_mode": {
    "name": "ipython",
    "version": 3
   },
   "file_extension": ".py",
   "mimetype": "text/x-python",
   "name": "python",
   "nbconvert_exporter": "python",
   "pygments_lexer": "ipython3",
   "version": "3.12.3"
  }
 },
 "nbformat": 4,
 "nbformat_minor": 5
}
