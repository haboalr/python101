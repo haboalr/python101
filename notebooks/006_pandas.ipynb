{
 "cells": [
  {
   "cell_type": "markdown",
   "id": "a4cb4ea8",
   "metadata": {},
   "source": [
    "# Pandas for Data Analysis: \n",
    "\n",
    "## Learning Objectives\n",
    "- Understand the purpose and importance of the pandas library\n",
    "- Learn about core pandas data structures: Series and DataFrames\n",
    "- Load and inspect real-world datasets\n",
    "- Apply indexing, selection, filtering, and transformation operations\n",
    "- Handle missing data and perform aggregation using groupby\n",
    "---"
   ]
  },
  {
   "cell_type": "markdown",
   "id": "9bdf4dc6",
   "metadata": {},
   "source": [
    "## 1. Introduction to pandas\n",
    "\n",
    "**Pandas** is a powerful Python library designed for data manipulation and analysis. It provides flexible and high-performance data structures that simplify working with structured data like tables, spreadsheets, and databases.\n",
    "\n",
    "Key features include:\n",
    "- Tabular data representation using `DataFrame` objects\n",
    "- Efficient data indexing and selection\n",
    "- Support for handling missing values\n",
    "- Built-in functions for statistical analysis and grouping\n",
    "- Easy input/output (I/O) for CSV, Excel, SQL, etc.\n",
    "\n",
    "---"
   ]
  },
  {
   "cell_type": "markdown",
   "id": "685ebe9c",
   "metadata": {},
   "source": [
    "## 2. Core Data Structures\n",
    "### 2.1 Series\n",
    "\n",
    "A `Series` is a one-dimensional labeled array. Think of it as a single column from a table.  \n",
    "A `DataFrame` is a two-dimensional data structure — essentially a table with rows and columns, similar to an Excel spreadsheet.\n",
    "\n",
    "<br>\n",
    "\n",
    "<p align=\"center\">\n",
    "  <img src=\"fig7.png\" alt=\"Series and DataFrame illustration\" width=\"500\"/>\n",
    "</p>\n",
    "\n",
    "<p align=\"center\">\n",
    "  <em>Figure : A Pandas Series (left) and DataFrame (right).</em>\n",
    "</p>"
   ]
  },
  {
   "cell_type": "code",
   "execution_count": 1,
   "id": "5e8a0d00",
   "metadata": {},
   "outputs": [],
   "source": [
    "import pandas as pd # importing the pandas library, which is used for data manipulation and analysis"
   ]
  },
  {
   "cell_type": "code",
   "execution_count": 2,
   "id": "695c3bcc",
   "metadata": {},
   "outputs": [
    {
     "name": "stdout",
     "output_type": "stream",
     "text": [
      "a    100\n",
      "b    200\n",
      "c    300\n",
      "dtype: int64\n"
     ]
    }
   ],
   "source": [
    "s = pd.Series([100, 200, 300], index=['a', 'b', 'c'])\n",
    "print(s)"
   ]
  },
  {
   "cell_type": "markdown",
   "id": "725f33b7",
   "metadata": {},
   "source": [
    "### 2.2 DataFrame\n",
    "\n",
    "A `DataFrame` is a two-dimensional data structure — essentially a table with rows and columns, similar to an Excel spreadsheet.\n",
    "\n",
    "<br>\n",
    "\n",
    "<p align=\"center\">\n",
    "  <img src=\"figures/fig8.png\" alt=\"Pandas DataFrame illustration\" width=\"600\"/>\n",
    "</p>\n",
    "\n",
    "<p align=\"center\">\n",
    "  <em>Figure : A Pandas DataFrame \n",
    "\n",
    "\n",
    "Each column is a Series; the full table is the DataFrame.\n"
   ]
  },
  {
   "cell_type": "markdown",
   "id": "4964f2b0",
   "metadata": {},
   "source": [
    "#### Create an empty DataFrame"
   ]
  },
  {
   "cell_type": "code",
   "execution_count": 18,
   "id": "2a5fee12",
   "metadata": {},
   "outputs": [
    {
     "name": "stdout",
     "output_type": "stream",
     "text": [
      "empty DataFrame: Empty DataFrame\n",
      "Columns: []\n",
      "Index: []\n"
     ]
    }
   ],
   "source": [
    "\n",
    "df =pd.DataFrame() # create an empty dataframe with no columns or rows\n",
    "print(\"empty DataFrame:\", df)"
   ]
  },
  {
   "cell_type": "markdown",
   "id": "72399043",
   "metadata": {},
   "source": [
    "##### Add columns to the DataFrame"
   ]
  },
  {
   "cell_type": "code",
   "execution_count": 19,
   "id": "2790407f",
   "metadata": {},
   "outputs": [
    {
     "name": "stdout",
     "output_type": "stream",
     "text": [
      "DataFrame with one column:    ColumnName\n",
      "0        3.00\n",
      "1       10.00\n",
      "2       21.00\n",
      "3        3.23\n"
     ]
    }
   ],
   "source": [
    "df['ColumnName'] = [3, 10, 21, 3.23]\n",
    "print(\"DataFrame with one column:\", df)"
   ]
  },
  {
   "cell_type": "code",
   "execution_count": 5,
   "id": "e438d910",
   "metadata": {},
   "outputs": [
    {
     "name": "stdout",
     "output_type": "stream",
     "text": [
      "DataFrame with two columns:    ColumnName TextColumn\n",
      "0        3.00          a\n",
      "1       10.00          b\n",
      "2       21.00          c\n",
      "3        3.23          d\n"
     ]
    }
   ],
   "source": [
    "# add a column with text values\n",
    "df['TextColumn'] = ['a', 'b', 'c', 'd']\n",
    "print(\"DataFrame with two columns:\", df)"
   ]
  },
  {
   "cell_type": "markdown",
   "id": "4bb76c92",
   "metadata": {},
   "source": [
    "#### Create a DataFrame from a Dictionary\n",
    "\n",
    "<div align=\"center\">\n",
    "  <img src=\"figures/pandasdataframe.png\" alt=\"Dataframe from dictionary\" width=\"450\"/>\n",
    "  <p style=\"font-size:small;\">\n",
    "    Dataframe from dictionaryw</a>\n",
    "  </p>\n",
    "</div>\n"
   ]
  },
  {
   "cell_type": "code",
   "execution_count": 15,
   "id": "d6ea60a7",
   "metadata": {},
   "outputs": [
    {
     "name": "stdout",
     "output_type": "stream",
     "text": [
      "DataFrame from dictionary:    Coulmn: TextColumn\n",
      "0     3.00          a\n",
      "1    10.00          b\n",
      "2    21.00          c\n",
      "3     3.23          d\n"
     ]
    }
   ],
   "source": [
    "# create a dictionary\n",
    "mydict = {'Coulmn:' : [3, 10, 21, 3.23], 'TextColumn': ['a', 'b', 'c', 'd']}\n",
    "#creates a dcitionary with two key-value pairs, where the values are lists of data\n",
    "\n",
    "#create a DataFrame from the dictionary\n",
    "df2 = pd.DataFrame(mydict)\n",
    "print(\"DataFrame from dictionary:\", df2)"
   ]
  },
  {
   "cell_type": "code",
   "execution_count": 16,
   "id": "9818879c",
   "metadata": {},
   "outputs": [
    {
     "name": "stdout",
     "output_type": "stream",
     "text": [
      "    Name  Age\n",
      "0  Alice   25\n",
      "1    Bob   30\n"
     ]
    }
   ],
   "source": [
    "data = {\n",
    "    'Name': ['Alice', 'Bob'],\n",
    "    'Age': [25, 30]\n",
    "}\n",
    "df = pd.DataFrame(data)\n",
    "print(df)"
   ]
  },
  {
   "cell_type": "markdown",
   "id": "34bf8f66",
   "metadata": {},
   "source": [
    "#### Add Rows"
   ]
  },
  {
   "cell_type": "code",
   "execution_count": 6,
   "id": "4c315845",
   "metadata": {},
   "outputs": [
    {
     "name": "stdout",
     "output_type": "stream",
     "text": [
      "DataFrame after adding new rows:    ColumnName TextColumn\n",
      "0        3.00          a\n",
      "1       10.00          b\n",
      "2       21.00          c\n",
      "3        3.23          d\n",
      "4      100.00          x\n",
      "5      200.00          y\n",
      "6      300.00          z\n"
     ]
    }
   ],
   "source": [
    "# using the loc command\n",
    "df.loc[4] = [100,'x'] # add a new row with index 4\n",
    "\n",
    "df.loc[len(df)] = [200, 'y'] # add a new row with index equal to the current length of the DataFrame\n",
    "df.loc[len(df)] = [300, 'z'] # add another new row with index equal to the current length of the DataFrame\n",
    "print(\"DataFrame after adding new rows:\", df)"
   ]
  },
  {
   "cell_type": "markdown",
   "id": "eb0a2ca5",
   "metadata": {},
   "source": [
    "#### Importing and Exporting DataFrames"
   ]
  },
  {
   "cell_type": "code",
   "execution_count": 13,
   "id": "4547c14b",
   "metadata": {},
   "outputs": [],
   "source": [
    "# import DatFrame from a external file\n",
    "df_imported = pd.read_csv('input.dat', index_col= None, header= 0, sep=';', decimal=\".\")"
   ]
  },
  {
   "cell_type": "code",
   "execution_count": 15,
   "id": "ff7e3c56",
   "metadata": {},
   "outputs": [
    {
     "data": {
      "application/vnd.microsoft.datawrangler.viewer.v0+json": {
       "columns": [
        {
         "name": "index",
         "rawType": "int64",
         "type": "integer"
        },
        {
         "name": "Zeile1",
         "rawType": "object",
         "type": "string"
        }
       ],
       "ref": "e83639a4-1df9-419a-9304-6166d742fc58",
       "rows": [
        [
         "0",
         "Zeile2"
        ],
        [
         "1",
         "Test1!Test2"
        ],
        [
         "2",
         "79:958!79:958"
        ],
        [
         "3",
         "22:203!22:203"
        ],
        [
         "4",
         "29:216!29:216"
        ],
        [
         "5",
         "56:545!56:545"
        ],
        [
         "6",
         "86:792!86:792"
        ],
        [
         "7",
         "4:012!4:012"
        ],
        [
         "8",
         "16:97!16:97"
        ],
        [
         "9",
         "19:188!19:188"
        ],
        [
         "10",
         "17:542!17:542"
        ],
        [
         "11",
         "66:565!66:565"
        ],
        [
         "12",
         "77:928!77:928"
        ],
        [
         "13",
         "49:02!49:02"
        ],
        [
         "14",
         "97:967!97:967"
        ],
        [
         "15",
         "57:579!57:579"
        ],
        [
         "16",
         "66:061!66:061"
        ],
        [
         "17",
         "33:647!33:647"
        ],
        [
         "18",
         "22:745!22:745"
        ],
        [
         "19",
         "92:01!92:01"
        ],
        [
         "20",
         "18:402!18:402"
        ],
        [
         "21",
         "95:973!95:973"
        ],
        [
         "22",
         "79:958!79:958"
        ],
        [
         "23",
         "22:203!22:203"
        ],
        [
         "24",
         "29:216!29:216"
        ],
        [
         "25",
         "56:545!56:545"
        ],
        [
         "26",
         "86:792!86:792"
        ],
        [
         "27",
         "4:012!4:012"
        ],
        [
         "28",
         "16:97!16:97"
        ],
        [
         "29",
         "19:188!19:188"
        ],
        [
         "30",
         "17:542!17:542"
        ],
        [
         "31",
         "66:565!66:565"
        ],
        [
         "32",
         "77:928!77:928"
        ],
        [
         "33",
         "49:02!49:02"
        ],
        [
         "34",
         "97:967!97:967"
        ],
        [
         "35",
         "57:579!57:579"
        ],
        [
         "36",
         "66:061!66:061"
        ],
        [
         "37",
         "33:647!33:647"
        ],
        [
         "38",
         "22:745!22:745"
        ],
        [
         "39",
         "92:01!92:01"
        ],
        [
         "40",
         "18:402!18:402"
        ],
        [
         "41",
         "95:973!95:973"
        ],
        [
         "42",
         "79:958!79:958"
        ],
        [
         "43",
         "22:203!22:203"
        ],
        [
         "44",
         "29:216!29:216"
        ],
        [
         "45",
         "56:545!56:545"
        ],
        [
         "46",
         "86:792!86:792"
        ],
        [
         "47",
         "4:012!4:012"
        ],
        [
         "48",
         "16:97!16:97"
        ],
        [
         "49",
         "19:188!19:188"
        ]
       ],
       "shape": {
        "columns": 1,
        "rows": 1021
       }
      },
      "text/html": [
       "<div>\n",
       "<style scoped>\n",
       "    .dataframe tbody tr th:only-of-type {\n",
       "        vertical-align: middle;\n",
       "    }\n",
       "\n",
       "    .dataframe tbody tr th {\n",
       "        vertical-align: top;\n",
       "    }\n",
       "\n",
       "    .dataframe thead th {\n",
       "        text-align: right;\n",
       "    }\n",
       "</style>\n",
       "<table border=\"1\" class=\"dataframe\">\n",
       "  <thead>\n",
       "    <tr style=\"text-align: right;\">\n",
       "      <th></th>\n",
       "      <th>Zeile1</th>\n",
       "    </tr>\n",
       "  </thead>\n",
       "  <tbody>\n",
       "    <tr>\n",
       "      <th>0</th>\n",
       "      <td>Zeile2</td>\n",
       "    </tr>\n",
       "    <tr>\n",
       "      <th>1</th>\n",
       "      <td>Test1!Test2</td>\n",
       "    </tr>\n",
       "    <tr>\n",
       "      <th>2</th>\n",
       "      <td>79:958!79:958</td>\n",
       "    </tr>\n",
       "    <tr>\n",
       "      <th>3</th>\n",
       "      <td>22:203!22:203</td>\n",
       "    </tr>\n",
       "    <tr>\n",
       "      <th>4</th>\n",
       "      <td>29:216!29:216</td>\n",
       "    </tr>\n",
       "    <tr>\n",
       "      <th>...</th>\n",
       "      <td>...</td>\n",
       "    </tr>\n",
       "    <tr>\n",
       "      <th>1016</th>\n",
       "      <td>19:188!19:188</td>\n",
       "    </tr>\n",
       "    <tr>\n",
       "      <th>1017</th>\n",
       "      <td>17:542!17:542</td>\n",
       "    </tr>\n",
       "    <tr>\n",
       "      <th>1018</th>\n",
       "      <td>66:565!66:565</td>\n",
       "    </tr>\n",
       "    <tr>\n",
       "      <th>1019</th>\n",
       "      <td>77:928!77:928</td>\n",
       "    </tr>\n",
       "    <tr>\n",
       "      <th>1020</th>\n",
       "      <td>49:02!49:02</td>\n",
       "    </tr>\n",
       "  </tbody>\n",
       "</table>\n",
       "<p>1021 rows × 1 columns</p>\n",
       "</div>"
      ],
      "text/plain": [
       "             Zeile1\n",
       "0            Zeile2\n",
       "1       Test1!Test2\n",
       "2     79:958!79:958\n",
       "3     22:203!22:203\n",
       "4     29:216!29:216\n",
       "...             ...\n",
       "1016  19:188!19:188\n",
       "1017  17:542!17:542\n",
       "1018  66:565!66:565\n",
       "1019  77:928!77:928\n",
       "1020    49:02!49:02\n",
       "\n",
       "[1021 rows x 1 columns]"
      ]
     },
     "execution_count": 15,
     "metadata": {},
     "output_type": "execute_result"
    }
   ],
   "source": [
    "df_imported"
   ]
  },
  {
   "cell_type": "code",
   "execution_count": 12,
   "id": "5e1f8933",
   "metadata": {},
   "outputs": [],
   "source": [
    "# export current Datafram to a csv file\n",
    "df_imported.to_csv('output.csv', index=False)"
   ]
  },
  {
   "cell_type": "markdown",
   "id": "bd965168",
   "metadata": {},
   "source": [
    "## DataFrame Handling\n"
   ]
  },
  {
   "cell_type": "code",
   "execution_count": 7,
   "id": "414703a8",
   "metadata": {},
   "outputs": [],
   "source": [
    "# set \"Textcolumn\" as index\n",
    "df.set_index(df['TextColumn'], inplace=True)  # set 'TextColumn' as the index of the DataFrame"
   ]
  },
  {
   "cell_type": "code",
   "execution_count": 8,
   "id": "999dea41",
   "metadata": {},
   "outputs": [],
   "source": [
    "# drop the 'TextColumn' from the DataFrame\n",
    "df.drop([\"TextColumn\"], axis=1, inplace=True)  # remove 'TextColumn' from the DataFrame"
   ]
  },
  {
   "cell_type": "code",
   "execution_count": 9,
   "id": "8b9ce996",
   "metadata": {},
   "outputs": [],
   "source": [
    "# drop the row with index z\n",
    "df.drop(\"z\", axis=0, inplace=True)  # remove the row with index 'z' from the DataFrame"
   ]
  },
  {
   "cell_type": "code",
   "execution_count": 10,
   "id": "7a9ccfd1",
   "metadata": {},
   "outputs": [],
   "source": [
    "# add a new row tih index \"z\" and none values\n",
    "df.loc[\"z\"] = None "
   ]
  },
  {
   "cell_type": "code",
   "execution_count": 11,
   "id": "5fced48e",
   "metadata": {},
   "outputs": [],
   "source": [
    "# drop all rows tha conatin one mssing value\n",
    "df.dropna(inplace=True)  # remove rows with any missing values"
   ]
  },
  {
   "cell_type": "code",
   "execution_count": 16,
   "id": "e496243b",
   "metadata": {},
   "outputs": [],
   "source": [
    "# Calculate the rolling average (window size 10) for column \"Test1\"\n",
    "#rolling_avg = df_imported[\"Zeile1\"].rolling(window=10).mean()"
   ]
  },
  {
   "cell_type": "markdown",
   "id": "b03a3d3e",
   "metadata": {},
   "source": [
    "---"
   ]
  },
  {
   "cell_type": "markdown",
   "id": "97cb8855",
   "metadata": {},
   "source": [
    "## 3. Loading a Real Dataset\n",
    "We will use the **Palmer Penguins** dataset. It contains measurements for three penguin species from Antarctica."
   ]
  },
  {
   "cell_type": "code",
   "execution_count": 32,
   "id": "bb36637a",
   "metadata": {},
   "outputs": [
    {
     "data": {
      "application/vnd.microsoft.datawrangler.viewer.v0+json": {
       "columns": [
        {
         "name": "index",
         "rawType": "int64",
         "type": "integer"
        },
        {
         "name": "species",
         "rawType": "object",
         "type": "string"
        },
        {
         "name": "island",
         "rawType": "object",
         "type": "string"
        },
        {
         "name": "bill_length_mm",
         "rawType": "float64",
         "type": "float"
        },
        {
         "name": "bill_depth_mm",
         "rawType": "float64",
         "type": "float"
        },
        {
         "name": "flipper_length_mm",
         "rawType": "float64",
         "type": "float"
        },
        {
         "name": "body_mass_g",
         "rawType": "float64",
         "type": "float"
        },
        {
         "name": "sex",
         "rawType": "object",
         "type": "unknown"
        }
       ],
       "ref": "dff44246-2737-4393-b162-b51c881a69d4",
       "rows": [
        [
         "0",
         "Adelie",
         "Torgersen",
         "39.1",
         "18.7",
         "181.0",
         "3750.0",
         "male"
        ],
        [
         "1",
         "Adelie",
         "Torgersen",
         "39.5",
         "17.4",
         "186.0",
         "3800.0",
         "female"
        ],
        [
         "2",
         "Adelie",
         "Torgersen",
         "40.3",
         "18.0",
         "195.0",
         "3250.0",
         "female"
        ],
        [
         "3",
         "Adelie",
         "Torgersen",
         null,
         null,
         null,
         null,
         null
        ],
        [
         "4",
         "Adelie",
         "Torgersen",
         "36.7",
         "19.3",
         "193.0",
         "3450.0",
         "female"
        ]
       ],
       "shape": {
        "columns": 7,
        "rows": 5
       }
      },
      "text/html": [
       "<div>\n",
       "<style scoped>\n",
       "    .dataframe tbody tr th:only-of-type {\n",
       "        vertical-align: middle;\n",
       "    }\n",
       "\n",
       "    .dataframe tbody tr th {\n",
       "        vertical-align: top;\n",
       "    }\n",
       "\n",
       "    .dataframe thead th {\n",
       "        text-align: right;\n",
       "    }\n",
       "</style>\n",
       "<table border=\"1\" class=\"dataframe\">\n",
       "  <thead>\n",
       "    <tr style=\"text-align: right;\">\n",
       "      <th></th>\n",
       "      <th>species</th>\n",
       "      <th>island</th>\n",
       "      <th>bill_length_mm</th>\n",
       "      <th>bill_depth_mm</th>\n",
       "      <th>flipper_length_mm</th>\n",
       "      <th>body_mass_g</th>\n",
       "      <th>sex</th>\n",
       "    </tr>\n",
       "  </thead>\n",
       "  <tbody>\n",
       "    <tr>\n",
       "      <th>0</th>\n",
       "      <td>Adelie</td>\n",
       "      <td>Torgersen</td>\n",
       "      <td>39.1</td>\n",
       "      <td>18.7</td>\n",
       "      <td>181.0</td>\n",
       "      <td>3750.0</td>\n",
       "      <td>male</td>\n",
       "    </tr>\n",
       "    <tr>\n",
       "      <th>1</th>\n",
       "      <td>Adelie</td>\n",
       "      <td>Torgersen</td>\n",
       "      <td>39.5</td>\n",
       "      <td>17.4</td>\n",
       "      <td>186.0</td>\n",
       "      <td>3800.0</td>\n",
       "      <td>female</td>\n",
       "    </tr>\n",
       "    <tr>\n",
       "      <th>2</th>\n",
       "      <td>Adelie</td>\n",
       "      <td>Torgersen</td>\n",
       "      <td>40.3</td>\n",
       "      <td>18.0</td>\n",
       "      <td>195.0</td>\n",
       "      <td>3250.0</td>\n",
       "      <td>female</td>\n",
       "    </tr>\n",
       "    <tr>\n",
       "      <th>3</th>\n",
       "      <td>Adelie</td>\n",
       "      <td>Torgersen</td>\n",
       "      <td>NaN</td>\n",
       "      <td>NaN</td>\n",
       "      <td>NaN</td>\n",
       "      <td>NaN</td>\n",
       "      <td>NaN</td>\n",
       "    </tr>\n",
       "    <tr>\n",
       "      <th>4</th>\n",
       "      <td>Adelie</td>\n",
       "      <td>Torgersen</td>\n",
       "      <td>36.7</td>\n",
       "      <td>19.3</td>\n",
       "      <td>193.0</td>\n",
       "      <td>3450.0</td>\n",
       "      <td>female</td>\n",
       "    </tr>\n",
       "  </tbody>\n",
       "</table>\n",
       "</div>"
      ],
      "text/plain": [
       "  species     island  bill_length_mm  bill_depth_mm  flipper_length_mm  \\\n",
       "0  Adelie  Torgersen            39.1           18.7              181.0   \n",
       "1  Adelie  Torgersen            39.5           17.4              186.0   \n",
       "2  Adelie  Torgersen            40.3           18.0              195.0   \n",
       "3  Adelie  Torgersen             NaN            NaN                NaN   \n",
       "4  Adelie  Torgersen            36.7           19.3              193.0   \n",
       "\n",
       "   body_mass_g     sex  \n",
       "0       3750.0    male  \n",
       "1       3800.0  female  \n",
       "2       3250.0  female  \n",
       "3          NaN     NaN  \n",
       "4       3450.0  female  "
      ]
     },
     "execution_count": 32,
     "metadata": {},
     "output_type": "execute_result"
    }
   ],
   "source": [
    "url = \"https://raw.githubusercontent.com/JohnMount/Penguins/main/penguins.csv\"\n",
    "df = pd.read_csv(url)\n",
    "df.head()"
   ]
  },
  {
   "cell_type": "markdown",
   "id": "da9cae04",
   "metadata": {},
   "source": [
    " `pd.read_csv()` explanation:\n",
    "- `url` is a direct link to the CSV file online\n",
    "- This function returns a `DataFrame`\n",
    "\n",
    "Common parameters:\n",
    "- `index_col`: use a column as the row index\n",
    "- `usecols`: load only specific columns\n",
    "- `na_values`: treat specific strings as NaN\n"
   ]
  },
  {
   "cell_type": "markdown",
   "id": "2b364bbc",
   "metadata": {},
   "source": [
    "### Exploring the dataframe"
   ]
  },
  {
   "cell_type": "code",
   "execution_count": 34,
   "id": "54dd9cfd",
   "metadata": {},
   "outputs": [
    {
     "name": "stdout",
     "output_type": "stream",
     "text": [
      "Shape of DataFrame: (344, 7)\n",
      "Columns in DataFrame: Index(['species', 'island', 'bill_length_mm', 'bill_depth_mm',\n",
      "       'flipper_length_mm', 'body_mass_g', 'sex'],\n",
      "      dtype='object')\n"
     ]
    }
   ],
   "source": [
    "# shape and columns of DF\n",
    "print(\"Shape of DataFrame:\", df.shape)  # prints the shape of the DataFrame (number of rows, number of columns)\n",
    "print(\"Columns in DataFrame:\", df.columns)  # prints the names of the columns in"
   ]
  },
  {
   "cell_type": "markdown",
   "id": "4753b277",
   "metadata": {},
   "source": [
    "#### Information about the DataFrame `DataFrame.info()`\n",
    "\n",
    "- Summary of each column\n",
    "- Mean, std, min, max for numeric columns\n",
    "- Counts and top values for object/categorical columns"
   ]
  },
  {
   "cell_type": "code",
   "execution_count": null,
   "id": "03804532",
   "metadata": {},
   "outputs": [
    {
     "name": "stdout",
     "output_type": "stream",
     "text": [
      "<class 'pandas.core.frame.DataFrame'>\n",
      "RangeIndex: 344 entries, 0 to 343\n",
      "Data columns (total 7 columns):\n",
      " #   Column             Non-Null Count  Dtype  \n",
      "---  ------             --------------  -----  \n",
      " 0   species            344 non-null    object \n",
      " 1   island             344 non-null    object \n",
      " 2   bill_length_mm     342 non-null    float64\n",
      " 3   bill_depth_mm      342 non-null    float64\n",
      " 4   flipper_length_mm  342 non-null    float64\n",
      " 5   body_mass_g        342 non-null    float64\n",
      " 6   sex                333 non-null    object \n",
      "dtypes: float64(4), object(3)\n",
      "memory usage: 18.9+ KB\n",
      "DataFrame Info: None\n"
     ]
    }
   ],
   "source": [
    "\n",
    "print(\"DataFrame Info:\", df.info())  # prints a concise summary of the DataFrame, including data types and non-null counts"
   ]
  },
  {
   "cell_type": "markdown",
   "id": "e11912d0",
   "metadata": {},
   "source": [
    "#### Detecting and Handling Missing Values\n",
    "\n",
    "Why this matters:\n",
    "Missing values (NaN = Not a Number) can break computations or skew analysis. You must inspect and treat them early.\n",
    "```pythondf\n",
    "df.isna()\n",
    "```\n",
    "- Returns True where values are missing, else False.\n",
    "- `.isnull()` is equivalent.\n",
    "\n",
    "```python\n",
    "df.isna().sum()\n",
    "```\n",
    "- Count missing values per column"
   ]
  },
  {
   "cell_type": "code",
   "execution_count": 36,
   "id": "ab0a051f",
   "metadata": {},
   "outputs": [
    {
     "data": {
      "application/vnd.microsoft.datawrangler.viewer.v0+json": {
       "columns": [
        {
         "name": "index",
         "rawType": "int64",
         "type": "integer"
        },
        {
         "name": "species",
         "rawType": "bool",
         "type": "boolean"
        },
        {
         "name": "island",
         "rawType": "bool",
         "type": "boolean"
        },
        {
         "name": "bill_length_mm",
         "rawType": "bool",
         "type": "boolean"
        },
        {
         "name": "bill_depth_mm",
         "rawType": "bool",
         "type": "boolean"
        },
        {
         "name": "flipper_length_mm",
         "rawType": "bool",
         "type": "boolean"
        },
        {
         "name": "body_mass_g",
         "rawType": "bool",
         "type": "boolean"
        },
        {
         "name": "sex",
         "rawType": "bool",
         "type": "boolean"
        }
       ],
       "ref": "d59de126-fac1-44b1-9e51-b54e711d0070",
       "rows": [
        [
         "0",
         "False",
         "False",
         "False",
         "False",
         "False",
         "False",
         "False"
        ],
        [
         "1",
         "False",
         "False",
         "False",
         "False",
         "False",
         "False",
         "False"
        ],
        [
         "2",
         "False",
         "False",
         "False",
         "False",
         "False",
         "False",
         "False"
        ],
        [
         "3",
         "False",
         "False",
         "True",
         "True",
         "True",
         "True",
         "True"
        ],
        [
         "4",
         "False",
         "False",
         "False",
         "False",
         "False",
         "False",
         "False"
        ],
        [
         "5",
         "False",
         "False",
         "False",
         "False",
         "False",
         "False",
         "False"
        ],
        [
         "6",
         "False",
         "False",
         "False",
         "False",
         "False",
         "False",
         "False"
        ],
        [
         "7",
         "False",
         "False",
         "False",
         "False",
         "False",
         "False",
         "False"
        ],
        [
         "8",
         "False",
         "False",
         "False",
         "False",
         "False",
         "False",
         "True"
        ],
        [
         "9",
         "False",
         "False",
         "False",
         "False",
         "False",
         "False",
         "True"
        ],
        [
         "10",
         "False",
         "False",
         "False",
         "False",
         "False",
         "False",
         "True"
        ],
        [
         "11",
         "False",
         "False",
         "False",
         "False",
         "False",
         "False",
         "True"
        ],
        [
         "12",
         "False",
         "False",
         "False",
         "False",
         "False",
         "False",
         "False"
        ],
        [
         "13",
         "False",
         "False",
         "False",
         "False",
         "False",
         "False",
         "False"
        ],
        [
         "14",
         "False",
         "False",
         "False",
         "False",
         "False",
         "False",
         "False"
        ],
        [
         "15",
         "False",
         "False",
         "False",
         "False",
         "False",
         "False",
         "False"
        ],
        [
         "16",
         "False",
         "False",
         "False",
         "False",
         "False",
         "False",
         "False"
        ],
        [
         "17",
         "False",
         "False",
         "False",
         "False",
         "False",
         "False",
         "False"
        ],
        [
         "18",
         "False",
         "False",
         "False",
         "False",
         "False",
         "False",
         "False"
        ],
        [
         "19",
         "False",
         "False",
         "False",
         "False",
         "False",
         "False",
         "False"
        ],
        [
         "20",
         "False",
         "False",
         "False",
         "False",
         "False",
         "False",
         "False"
        ],
        [
         "21",
         "False",
         "False",
         "False",
         "False",
         "False",
         "False",
         "False"
        ],
        [
         "22",
         "False",
         "False",
         "False",
         "False",
         "False",
         "False",
         "False"
        ],
        [
         "23",
         "False",
         "False",
         "False",
         "False",
         "False",
         "False",
         "False"
        ],
        [
         "24",
         "False",
         "False",
         "False",
         "False",
         "False",
         "False",
         "False"
        ],
        [
         "25",
         "False",
         "False",
         "False",
         "False",
         "False",
         "False",
         "False"
        ],
        [
         "26",
         "False",
         "False",
         "False",
         "False",
         "False",
         "False",
         "False"
        ],
        [
         "27",
         "False",
         "False",
         "False",
         "False",
         "False",
         "False",
         "False"
        ],
        [
         "28",
         "False",
         "False",
         "False",
         "False",
         "False",
         "False",
         "False"
        ],
        [
         "29",
         "False",
         "False",
         "False",
         "False",
         "False",
         "False",
         "False"
        ],
        [
         "30",
         "False",
         "False",
         "False",
         "False",
         "False",
         "False",
         "False"
        ],
        [
         "31",
         "False",
         "False",
         "False",
         "False",
         "False",
         "False",
         "False"
        ],
        [
         "32",
         "False",
         "False",
         "False",
         "False",
         "False",
         "False",
         "False"
        ],
        [
         "33",
         "False",
         "False",
         "False",
         "False",
         "False",
         "False",
         "False"
        ],
        [
         "34",
         "False",
         "False",
         "False",
         "False",
         "False",
         "False",
         "False"
        ],
        [
         "35",
         "False",
         "False",
         "False",
         "False",
         "False",
         "False",
         "False"
        ],
        [
         "36",
         "False",
         "False",
         "False",
         "False",
         "False",
         "False",
         "False"
        ],
        [
         "37",
         "False",
         "False",
         "False",
         "False",
         "False",
         "False",
         "False"
        ],
        [
         "38",
         "False",
         "False",
         "False",
         "False",
         "False",
         "False",
         "False"
        ],
        [
         "39",
         "False",
         "False",
         "False",
         "False",
         "False",
         "False",
         "False"
        ],
        [
         "40",
         "False",
         "False",
         "False",
         "False",
         "False",
         "False",
         "False"
        ],
        [
         "41",
         "False",
         "False",
         "False",
         "False",
         "False",
         "False",
         "False"
        ],
        [
         "42",
         "False",
         "False",
         "False",
         "False",
         "False",
         "False",
         "False"
        ],
        [
         "43",
         "False",
         "False",
         "False",
         "False",
         "False",
         "False",
         "False"
        ],
        [
         "44",
         "False",
         "False",
         "False",
         "False",
         "False",
         "False",
         "False"
        ],
        [
         "45",
         "False",
         "False",
         "False",
         "False",
         "False",
         "False",
         "False"
        ],
        [
         "46",
         "False",
         "False",
         "False",
         "False",
         "False",
         "False",
         "False"
        ],
        [
         "47",
         "False",
         "False",
         "False",
         "False",
         "False",
         "False",
         "True"
        ],
        [
         "48",
         "False",
         "False",
         "False",
         "False",
         "False",
         "False",
         "False"
        ],
        [
         "49",
         "False",
         "False",
         "False",
         "False",
         "False",
         "False",
         "False"
        ]
       ],
       "shape": {
        "columns": 7,
        "rows": 344
       }
      },
      "text/html": [
       "<div>\n",
       "<style scoped>\n",
       "    .dataframe tbody tr th:only-of-type {\n",
       "        vertical-align: middle;\n",
       "    }\n",
       "\n",
       "    .dataframe tbody tr th {\n",
       "        vertical-align: top;\n",
       "    }\n",
       "\n",
       "    .dataframe thead th {\n",
       "        text-align: right;\n",
       "    }\n",
       "</style>\n",
       "<table border=\"1\" class=\"dataframe\">\n",
       "  <thead>\n",
       "    <tr style=\"text-align: right;\">\n",
       "      <th></th>\n",
       "      <th>species</th>\n",
       "      <th>island</th>\n",
       "      <th>bill_length_mm</th>\n",
       "      <th>bill_depth_mm</th>\n",
       "      <th>flipper_length_mm</th>\n",
       "      <th>body_mass_g</th>\n",
       "      <th>sex</th>\n",
       "    </tr>\n",
       "  </thead>\n",
       "  <tbody>\n",
       "    <tr>\n",
       "      <th>0</th>\n",
       "      <td>False</td>\n",
       "      <td>False</td>\n",
       "      <td>False</td>\n",
       "      <td>False</td>\n",
       "      <td>False</td>\n",
       "      <td>False</td>\n",
       "      <td>False</td>\n",
       "    </tr>\n",
       "    <tr>\n",
       "      <th>1</th>\n",
       "      <td>False</td>\n",
       "      <td>False</td>\n",
       "      <td>False</td>\n",
       "      <td>False</td>\n",
       "      <td>False</td>\n",
       "      <td>False</td>\n",
       "      <td>False</td>\n",
       "    </tr>\n",
       "    <tr>\n",
       "      <th>2</th>\n",
       "      <td>False</td>\n",
       "      <td>False</td>\n",
       "      <td>False</td>\n",
       "      <td>False</td>\n",
       "      <td>False</td>\n",
       "      <td>False</td>\n",
       "      <td>False</td>\n",
       "    </tr>\n",
       "    <tr>\n",
       "      <th>3</th>\n",
       "      <td>False</td>\n",
       "      <td>False</td>\n",
       "      <td>True</td>\n",
       "      <td>True</td>\n",
       "      <td>True</td>\n",
       "      <td>True</td>\n",
       "      <td>True</td>\n",
       "    </tr>\n",
       "    <tr>\n",
       "      <th>4</th>\n",
       "      <td>False</td>\n",
       "      <td>False</td>\n",
       "      <td>False</td>\n",
       "      <td>False</td>\n",
       "      <td>False</td>\n",
       "      <td>False</td>\n",
       "      <td>False</td>\n",
       "    </tr>\n",
       "    <tr>\n",
       "      <th>...</th>\n",
       "      <td>...</td>\n",
       "      <td>...</td>\n",
       "      <td>...</td>\n",
       "      <td>...</td>\n",
       "      <td>...</td>\n",
       "      <td>...</td>\n",
       "      <td>...</td>\n",
       "    </tr>\n",
       "    <tr>\n",
       "      <th>339</th>\n",
       "      <td>False</td>\n",
       "      <td>False</td>\n",
       "      <td>False</td>\n",
       "      <td>False</td>\n",
       "      <td>False</td>\n",
       "      <td>False</td>\n",
       "      <td>False</td>\n",
       "    </tr>\n",
       "    <tr>\n",
       "      <th>340</th>\n",
       "      <td>False</td>\n",
       "      <td>False</td>\n",
       "      <td>False</td>\n",
       "      <td>False</td>\n",
       "      <td>False</td>\n",
       "      <td>False</td>\n",
       "      <td>False</td>\n",
       "    </tr>\n",
       "    <tr>\n",
       "      <th>341</th>\n",
       "      <td>False</td>\n",
       "      <td>False</td>\n",
       "      <td>False</td>\n",
       "      <td>False</td>\n",
       "      <td>False</td>\n",
       "      <td>False</td>\n",
       "      <td>False</td>\n",
       "    </tr>\n",
       "    <tr>\n",
       "      <th>342</th>\n",
       "      <td>False</td>\n",
       "      <td>False</td>\n",
       "      <td>False</td>\n",
       "      <td>False</td>\n",
       "      <td>False</td>\n",
       "      <td>False</td>\n",
       "      <td>False</td>\n",
       "    </tr>\n",
       "    <tr>\n",
       "      <th>343</th>\n",
       "      <td>False</td>\n",
       "      <td>False</td>\n",
       "      <td>False</td>\n",
       "      <td>False</td>\n",
       "      <td>False</td>\n",
       "      <td>False</td>\n",
       "      <td>False</td>\n",
       "    </tr>\n",
       "  </tbody>\n",
       "</table>\n",
       "<p>344 rows × 7 columns</p>\n",
       "</div>"
      ],
      "text/plain": [
       "     species  island  bill_length_mm  bill_depth_mm  flipper_length_mm  \\\n",
       "0      False   False           False          False              False   \n",
       "1      False   False           False          False              False   \n",
       "2      False   False           False          False              False   \n",
       "3      False   False            True           True               True   \n",
       "4      False   False           False          False              False   \n",
       "..       ...     ...             ...            ...                ...   \n",
       "339    False   False           False          False              False   \n",
       "340    False   False           False          False              False   \n",
       "341    False   False           False          False              False   \n",
       "342    False   False           False          False              False   \n",
       "343    False   False           False          False              False   \n",
       "\n",
       "     body_mass_g    sex  \n",
       "0          False  False  \n",
       "1          False  False  \n",
       "2          False  False  \n",
       "3           True   True  \n",
       "4          False  False  \n",
       "..           ...    ...  \n",
       "339        False  False  \n",
       "340        False  False  \n",
       "341        False  False  \n",
       "342        False  False  \n",
       "343        False  False  \n",
       "\n",
       "[344 rows x 7 columns]"
      ]
     },
     "execution_count": 36,
     "metadata": {},
     "output_type": "execute_result"
    }
   ],
   "source": [
    "df.isna()"
   ]
  },
  {
   "cell_type": "code",
   "execution_count": 44,
   "id": "4fbad5aa",
   "metadata": {},
   "outputs": [
    {
     "data": {
      "application/vnd.microsoft.datawrangler.viewer.v0+json": {
       "columns": [
        {
         "name": "index",
         "rawType": "object",
         "type": "string"
        },
        {
         "name": "0",
         "rawType": "int64",
         "type": "integer"
        }
       ],
       "ref": "9cf8376c-ba9a-4ce1-85f5-ebbf03e218cc",
       "rows": [
        [
         "species",
         "0"
        ],
        [
         "island",
         "0"
        ],
        [
         "bill_length_mm",
         "2"
        ],
        [
         "bill_depth_mm",
         "2"
        ],
        [
         "flipper_length_mm",
         "2"
        ],
        [
         "body_mass_g",
         "2"
        ],
        [
         "sex",
         "11"
        ]
       ],
       "shape": {
        "columns": 1,
        "rows": 7
       }
      },
      "text/plain": [
       "species               0\n",
       "island                0\n",
       "bill_length_mm        2\n",
       "bill_depth_mm         2\n",
       "flipper_length_mm     2\n",
       "body_mass_g           2\n",
       "sex                  11\n",
       "dtype: int64"
      ]
     },
     "execution_count": 44,
     "metadata": {},
     "output_type": "execute_result"
    }
   ],
   "source": [
    "df.isna().sum() # counts the number of missing values in each column"
   ]
  },
  {
   "cell_type": "markdown",
   "id": "25c2f9f6",
   "metadata": {},
   "source": [
    "#### Remove rows with missing data\n",
    "\n",
    "```python\n",
    "df_clean = df.dropna()\n",
    "```\n",
    "- Drops any row with a NaN\n",
    "- Use `subset` argument to limit to specific columns\n",
    "\n",
    "<div align=\"center\">\n",
    "  <img src=\"figures/dropna.png\" alt=\"dropna() function\" width=\"450\"/>\n",
    "  <p style=\"font-size:small;\">\n",
    "    dropna() function</a>\n",
    "  </p>\n",
    "</div>\n"
   ]
  },
  {
   "cell_type": "code",
   "execution_count": 45,
   "id": "c9925fff",
   "metadata": {},
   "outputs": [],
   "source": [
    "df_clean = df.dropna()  # drops any row with a NaN value"
   ]
  },
  {
   "cell_type": "code",
   "execution_count": 46,
   "id": "e01fe791",
   "metadata": {},
   "outputs": [
    {
     "data": {
      "application/vnd.microsoft.datawrangler.viewer.v0+json": {
       "columns": [
        {
         "name": "index",
         "rawType": "object",
         "type": "string"
        },
        {
         "name": "0",
         "rawType": "int64",
         "type": "integer"
        }
       ],
       "ref": "72585043-36b3-4280-b7cf-5a87495b337b",
       "rows": [
        [
         "species",
         "0"
        ],
        [
         "island",
         "0"
        ],
        [
         "bill_length_mm",
         "0"
        ],
        [
         "bill_depth_mm",
         "0"
        ],
        [
         "flipper_length_mm",
         "0"
        ],
        [
         "body_mass_g",
         "0"
        ],
        [
         "sex",
         "0"
        ]
       ],
       "shape": {
        "columns": 1,
        "rows": 7
       }
      },
      "text/plain": [
       "species              0\n",
       "island               0\n",
       "bill_length_mm       0\n",
       "bill_depth_mm        0\n",
       "flipper_length_mm    0\n",
       "body_mass_g          0\n",
       "sex                  0\n",
       "dtype: int64"
      ]
     },
     "execution_count": 46,
     "metadata": {},
     "output_type": "execute_result"
    }
   ],
   "source": [
    "df_clean.isna().sum()  # checks for missing values in the cleaned DataFrame"
   ]
  },
  {
   "cell_type": "markdown",
   "id": "8ab7d7a7",
   "metadata": {},
   "source": [
    "#### Fill missing values\n",
    "```python\n",
    "df_filled = df.fillna({'body_mass_g': 'Unknown'})\n",
    "```\n",
    "- Only fills NaNs in specified columns\n",
    "- Use `method='ffill'` or `'bfill'` for forward/backward fill\n",
    "\n"
   ]
  },
  {
   "cell_type": "code",
   "execution_count": 48,
   "id": "fbbfb3a5",
   "metadata": {},
   "outputs": [],
   "source": [
    "df_filled = df.fillna({'body_mass_g': 'Unknown'})"
   ]
  },
  {
   "cell_type": "markdown",
   "id": "d59d7957",
   "metadata": {},
   "source": [
    "#### Accessing and Selecting Data"
   ]
  },
  {
   "cell_type": "code",
   "execution_count": 50,
   "id": "7702d40a",
   "metadata": {},
   "outputs": [
    {
     "data": {
      "application/vnd.microsoft.datawrangler.viewer.v0+json": {
       "columns": [
        {
         "name": "index",
         "rawType": "int64",
         "type": "integer"
        },
        {
         "name": "species",
         "rawType": "object",
         "type": "string"
        }
       ],
       "ref": "2eb9ae28-6929-4bf1-9f18-aa6d56bdc26c",
       "rows": [
        [
         "0",
         "Adelie"
        ],
        [
         "1",
         "Adelie"
        ],
        [
         "2",
         "Adelie"
        ],
        [
         "3",
         "Adelie"
        ],
        [
         "4",
         "Adelie"
        ],
        [
         "5",
         "Adelie"
        ],
        [
         "6",
         "Adelie"
        ],
        [
         "7",
         "Adelie"
        ],
        [
         "8",
         "Adelie"
        ],
        [
         "9",
         "Adelie"
        ],
        [
         "10",
         "Adelie"
        ],
        [
         "11",
         "Adelie"
        ],
        [
         "12",
         "Adelie"
        ],
        [
         "13",
         "Adelie"
        ],
        [
         "14",
         "Adelie"
        ],
        [
         "15",
         "Adelie"
        ],
        [
         "16",
         "Adelie"
        ],
        [
         "17",
         "Adelie"
        ],
        [
         "18",
         "Adelie"
        ],
        [
         "19",
         "Adelie"
        ],
        [
         "20",
         "Adelie"
        ],
        [
         "21",
         "Adelie"
        ],
        [
         "22",
         "Adelie"
        ],
        [
         "23",
         "Adelie"
        ],
        [
         "24",
         "Adelie"
        ],
        [
         "25",
         "Adelie"
        ],
        [
         "26",
         "Adelie"
        ],
        [
         "27",
         "Adelie"
        ],
        [
         "28",
         "Adelie"
        ],
        [
         "29",
         "Adelie"
        ],
        [
         "30",
         "Adelie"
        ],
        [
         "31",
         "Adelie"
        ],
        [
         "32",
         "Adelie"
        ],
        [
         "33",
         "Adelie"
        ],
        [
         "34",
         "Adelie"
        ],
        [
         "35",
         "Adelie"
        ],
        [
         "36",
         "Adelie"
        ],
        [
         "37",
         "Adelie"
        ],
        [
         "38",
         "Adelie"
        ],
        [
         "39",
         "Adelie"
        ],
        [
         "40",
         "Adelie"
        ],
        [
         "41",
         "Adelie"
        ],
        [
         "42",
         "Adelie"
        ],
        [
         "43",
         "Adelie"
        ],
        [
         "44",
         "Adelie"
        ],
        [
         "45",
         "Adelie"
        ],
        [
         "46",
         "Adelie"
        ],
        [
         "47",
         "Adelie"
        ],
        [
         "48",
         "Adelie"
        ],
        [
         "49",
         "Adelie"
        ]
       ],
       "shape": {
        "columns": 1,
        "rows": 344
       }
      },
      "text/plain": [
       "0         Adelie\n",
       "1         Adelie\n",
       "2         Adelie\n",
       "3         Adelie\n",
       "4         Adelie\n",
       "         ...    \n",
       "339    Chinstrap\n",
       "340    Chinstrap\n",
       "341    Chinstrap\n",
       "342    Chinstrap\n",
       "343    Chinstrap\n",
       "Name: species, Length: 344, dtype: object"
      ]
     },
     "execution_count": 50,
     "metadata": {},
     "output_type": "execute_result"
    }
   ],
   "source": [
    "# access a column\n",
    "df['species']  # returns the 'species' column as a Series\n"
   ]
  },
  {
   "cell_type": "code",
   "execution_count": 52,
   "id": "d85ce714",
   "metadata": {},
   "outputs": [
    {
     "data": {
      "application/vnd.microsoft.datawrangler.viewer.v0+json": {
       "columns": [
        {
         "name": "index",
         "rawType": "int64",
         "type": "integer"
        },
        {
         "name": "species",
         "rawType": "object",
         "type": "string"
        }
       ],
       "ref": "08c65dee-9f9d-4111-9ad7-1bcb215f17c3",
       "rows": [
        [
         "0",
         "Adelie"
        ],
        [
         "1",
         "Adelie"
        ],
        [
         "2",
         "Adelie"
        ],
        [
         "3",
         "Adelie"
        ],
        [
         "4",
         "Adelie"
        ],
        [
         "5",
         "Adelie"
        ],
        [
         "6",
         "Adelie"
        ],
        [
         "7",
         "Adelie"
        ],
        [
         "8",
         "Adelie"
        ],
        [
         "9",
         "Adelie"
        ],
        [
         "10",
         "Adelie"
        ],
        [
         "11",
         "Adelie"
        ],
        [
         "12",
         "Adelie"
        ],
        [
         "13",
         "Adelie"
        ],
        [
         "14",
         "Adelie"
        ],
        [
         "15",
         "Adelie"
        ],
        [
         "16",
         "Adelie"
        ],
        [
         "17",
         "Adelie"
        ],
        [
         "18",
         "Adelie"
        ],
        [
         "19",
         "Adelie"
        ],
        [
         "20",
         "Adelie"
        ],
        [
         "21",
         "Adelie"
        ],
        [
         "22",
         "Adelie"
        ],
        [
         "23",
         "Adelie"
        ],
        [
         "24",
         "Adelie"
        ],
        [
         "25",
         "Adelie"
        ],
        [
         "26",
         "Adelie"
        ],
        [
         "27",
         "Adelie"
        ],
        [
         "28",
         "Adelie"
        ],
        [
         "29",
         "Adelie"
        ],
        [
         "30",
         "Adelie"
        ],
        [
         "31",
         "Adelie"
        ],
        [
         "32",
         "Adelie"
        ],
        [
         "33",
         "Adelie"
        ],
        [
         "34",
         "Adelie"
        ],
        [
         "35",
         "Adelie"
        ],
        [
         "36",
         "Adelie"
        ],
        [
         "37",
         "Adelie"
        ],
        [
         "38",
         "Adelie"
        ],
        [
         "39",
         "Adelie"
        ],
        [
         "40",
         "Adelie"
        ],
        [
         "41",
         "Adelie"
        ],
        [
         "42",
         "Adelie"
        ],
        [
         "43",
         "Adelie"
        ],
        [
         "44",
         "Adelie"
        ],
        [
         "45",
         "Adelie"
        ],
        [
         "46",
         "Adelie"
        ],
        [
         "47",
         "Adelie"
        ],
        [
         "48",
         "Adelie"
        ],
        [
         "49",
         "Adelie"
        ]
       ],
       "shape": {
        "columns": 1,
        "rows": 344
       }
      },
      "text/html": [
       "<div>\n",
       "<style scoped>\n",
       "    .dataframe tbody tr th:only-of-type {\n",
       "        vertical-align: middle;\n",
       "    }\n",
       "\n",
       "    .dataframe tbody tr th {\n",
       "        vertical-align: top;\n",
       "    }\n",
       "\n",
       "    .dataframe thead th {\n",
       "        text-align: right;\n",
       "    }\n",
       "</style>\n",
       "<table border=\"1\" class=\"dataframe\">\n",
       "  <thead>\n",
       "    <tr style=\"text-align: right;\">\n",
       "      <th></th>\n",
       "      <th>species</th>\n",
       "    </tr>\n",
       "  </thead>\n",
       "  <tbody>\n",
       "    <tr>\n",
       "      <th>0</th>\n",
       "      <td>Adelie</td>\n",
       "    </tr>\n",
       "    <tr>\n",
       "      <th>1</th>\n",
       "      <td>Adelie</td>\n",
       "    </tr>\n",
       "    <tr>\n",
       "      <th>2</th>\n",
       "      <td>Adelie</td>\n",
       "    </tr>\n",
       "    <tr>\n",
       "      <th>3</th>\n",
       "      <td>Adelie</td>\n",
       "    </tr>\n",
       "    <tr>\n",
       "      <th>4</th>\n",
       "      <td>Adelie</td>\n",
       "    </tr>\n",
       "    <tr>\n",
       "      <th>...</th>\n",
       "      <td>...</td>\n",
       "    </tr>\n",
       "    <tr>\n",
       "      <th>339</th>\n",
       "      <td>Chinstrap</td>\n",
       "    </tr>\n",
       "    <tr>\n",
       "      <th>340</th>\n",
       "      <td>Chinstrap</td>\n",
       "    </tr>\n",
       "    <tr>\n",
       "      <th>341</th>\n",
       "      <td>Chinstrap</td>\n",
       "    </tr>\n",
       "    <tr>\n",
       "      <th>342</th>\n",
       "      <td>Chinstrap</td>\n",
       "    </tr>\n",
       "    <tr>\n",
       "      <th>343</th>\n",
       "      <td>Chinstrap</td>\n",
       "    </tr>\n",
       "  </tbody>\n",
       "</table>\n",
       "<p>344 rows × 1 columns</p>\n",
       "</div>"
      ],
      "text/plain": [
       "       species\n",
       "0       Adelie\n",
       "1       Adelie\n",
       "2       Adelie\n",
       "3       Adelie\n",
       "4       Adelie\n",
       "..         ...\n",
       "339  Chinstrap\n",
       "340  Chinstrap\n",
       "341  Chinstrap\n",
       "342  Chinstrap\n",
       "343  Chinstrap\n",
       "\n",
       "[344 rows x 1 columns]"
      ]
     },
     "execution_count": 52,
     "metadata": {},
     "output_type": "execute_result"
    }
   ],
   "source": [
    "df[['species']]  # returns the 'species' column as a DataFrame"
   ]
  },
  {
   "cell_type": "markdown",
   "id": "72605070",
   "metadata": {},
   "source": [
    "#### Access by label: `.loc[]`\n",
    "```python\n",
    "df.loc[0, 'body_mass_g']\n",
    "```\n",
    "- Use when you know the index and column names\n",
    "- Allows label-based indexing and slicing\n",
    "\n",
    "<p align=\"center\">\n",
    "  <img src=\"figures/fig9.png\" alt=\"Series and DataFrame illustration\" width=\"500\"/>\n",
    "</p>\n",
    "\n",
    "<p align=\"center\">\n",
    "  <em>loc.</em>\n",
    "</p>\n",
    "\n"
   ]
  },
  {
   "cell_type": "markdown",
   "id": "f40c293c",
   "metadata": {},
   "source": [
    "df.loc[0, 'body_mass_g']"
   ]
  },
  {
   "cell_type": "code",
   "execution_count": 53,
   "id": "d776917c",
   "metadata": {},
   "outputs": [
    {
     "data": {
      "text/plain": [
       "3750.0"
      ]
     },
     "execution_count": 53,
     "metadata": {},
     "output_type": "execute_result"
    }
   ],
   "source": [
    "df.loc[0, 'body_mass_g']"
   ]
  },
  {
   "cell_type": "markdown",
   "id": "dd47d8d5",
   "metadata": {},
   "source": [
    "#### Access by position: `.iloc[]`\n",
    "```python\n",
    "df.iloc[0, 5]\n",
    "```\n",
    "- Use when selecting rows and columns by integer position\n",
    "- Useful when column names are unknown\n",
    "\n",
    "<p align=\"center\">\n",
    "  <img src=\"figures/fig10.png\" alt=\"Series and DataFrame illustration\" width=\"500\"/>\n",
    "</p>\n",
    "\n",
    "<p align=\"center\">\n",
    "  <em>iloc.</em>\n",
    "</p>\n",
    "\n"
   ]
  },
  {
   "cell_type": "code",
   "execution_count": 55,
   "id": "78df8c47",
   "metadata": {},
   "outputs": [
    {
     "data": {
      "text/plain": [
       "3750.0"
      ]
     },
     "execution_count": 55,
     "metadata": {},
     "output_type": "execute_result"
    }
   ],
   "source": [
    "df.iloc[0, 5]  # access the first row and sixth column by position"
   ]
  },
  {
   "cell_type": "markdown",
   "id": "dfe4eaeb",
   "metadata": {},
   "source": [
    "Common mistake:\n",
    "- `.iloc[]` expects integers\n",
    "- `.loc[]` expects labels (column names, row index values)\n",
    "\n",
    "<div align=\"center\">\n",
    "  <img src=\"figures/loc_vs_iloc.png\" alt=\"loc vs iloc\" width=\"450\"/>\n",
    "  <p style=\"font-size:small;\">\n",
    "    loc vs iloc</a>\n",
    "  </p>\n",
    "</div>\n"
   ]
  },
  {
   "cell_type": "markdown",
   "id": "99701bba",
   "metadata": {},
   "source": [
    "####  Filtering Rows with Conditions\n",
    "Boolean indexing\n",
    "- returns all rows where confition is true"
   ]
  },
  {
   "cell_type": "code",
   "execution_count": 57,
   "id": "f7c98708",
   "metadata": {},
   "outputs": [
    {
     "data": {
      "application/vnd.microsoft.datawrangler.viewer.v0+json": {
       "columns": [
        {
         "name": "index",
         "rawType": "int64",
         "type": "integer"
        },
        {
         "name": "species",
         "rawType": "object",
         "type": "string"
        },
        {
         "name": "island",
         "rawType": "object",
         "type": "string"
        },
        {
         "name": "bill_length_mm",
         "rawType": "float64",
         "type": "float"
        },
        {
         "name": "bill_depth_mm",
         "rawType": "float64",
         "type": "float"
        },
        {
         "name": "flipper_length_mm",
         "rawType": "float64",
         "type": "float"
        },
        {
         "name": "body_mass_g",
         "rawType": "float64",
         "type": "float"
        },
        {
         "name": "sex",
         "rawType": "object",
         "type": "unknown"
        }
       ],
       "ref": "f8104ee1-450a-4015-8073-c146ed6af105",
       "rows": [
        [
         "0",
         "Adelie",
         "Torgersen",
         "39.1",
         "18.7",
         "181.0",
         "3750.0",
         "male"
        ],
        [
         "1",
         "Adelie",
         "Torgersen",
         "39.5",
         "17.4",
         "186.0",
         "3800.0",
         "female"
        ],
        [
         "2",
         "Adelie",
         "Torgersen",
         "40.3",
         "18.0",
         "195.0",
         "3250.0",
         "female"
        ],
        [
         "3",
         "Adelie",
         "Torgersen",
         null,
         null,
         null,
         null,
         null
        ],
        [
         "4",
         "Adelie",
         "Torgersen",
         "36.7",
         "19.3",
         "193.0",
         "3450.0",
         "female"
        ],
        [
         "5",
         "Adelie",
         "Torgersen",
         "39.3",
         "20.6",
         "190.0",
         "3650.0",
         "male"
        ],
        [
         "6",
         "Adelie",
         "Torgersen",
         "38.9",
         "17.8",
         "181.0",
         "3625.0",
         "female"
        ],
        [
         "7",
         "Adelie",
         "Torgersen",
         "39.2",
         "19.6",
         "195.0",
         "4675.0",
         "male"
        ],
        [
         "8",
         "Adelie",
         "Torgersen",
         "34.1",
         "18.1",
         "193.0",
         "3475.0",
         null
        ],
        [
         "9",
         "Adelie",
         "Torgersen",
         "42.0",
         "20.2",
         "190.0",
         "4250.0",
         null
        ],
        [
         "10",
         "Adelie",
         "Torgersen",
         "37.8",
         "17.1",
         "186.0",
         "3300.0",
         null
        ],
        [
         "11",
         "Adelie",
         "Torgersen",
         "37.8",
         "17.3",
         "180.0",
         "3700.0",
         null
        ],
        [
         "12",
         "Adelie",
         "Torgersen",
         "41.1",
         "17.6",
         "182.0",
         "3200.0",
         "female"
        ],
        [
         "13",
         "Adelie",
         "Torgersen",
         "38.6",
         "21.2",
         "191.0",
         "3800.0",
         "male"
        ],
        [
         "14",
         "Adelie",
         "Torgersen",
         "34.6",
         "21.1",
         "198.0",
         "4400.0",
         "male"
        ],
        [
         "15",
         "Adelie",
         "Torgersen",
         "36.6",
         "17.8",
         "185.0",
         "3700.0",
         "female"
        ],
        [
         "16",
         "Adelie",
         "Torgersen",
         "38.7",
         "19.0",
         "195.0",
         "3450.0",
         "female"
        ],
        [
         "17",
         "Adelie",
         "Torgersen",
         "42.5",
         "20.7",
         "197.0",
         "4500.0",
         "male"
        ],
        [
         "18",
         "Adelie",
         "Torgersen",
         "34.4",
         "18.4",
         "184.0",
         "3325.0",
         "female"
        ],
        [
         "19",
         "Adelie",
         "Torgersen",
         "46.0",
         "21.5",
         "194.0",
         "4200.0",
         "male"
        ],
        [
         "20",
         "Adelie",
         "Biscoe",
         "37.8",
         "18.3",
         "174.0",
         "3400.0",
         "female"
        ],
        [
         "21",
         "Adelie",
         "Biscoe",
         "37.7",
         "18.7",
         "180.0",
         "3600.0",
         "male"
        ],
        [
         "22",
         "Adelie",
         "Biscoe",
         "35.9",
         "19.2",
         "189.0",
         "3800.0",
         "female"
        ],
        [
         "23",
         "Adelie",
         "Biscoe",
         "38.2",
         "18.1",
         "185.0",
         "3950.0",
         "male"
        ],
        [
         "24",
         "Adelie",
         "Biscoe",
         "38.8",
         "17.2",
         "180.0",
         "3800.0",
         "male"
        ],
        [
         "25",
         "Adelie",
         "Biscoe",
         "35.3",
         "18.9",
         "187.0",
         "3800.0",
         "female"
        ],
        [
         "26",
         "Adelie",
         "Biscoe",
         "40.6",
         "18.6",
         "183.0",
         "3550.0",
         "male"
        ],
        [
         "27",
         "Adelie",
         "Biscoe",
         "40.5",
         "17.9",
         "187.0",
         "3200.0",
         "female"
        ],
        [
         "28",
         "Adelie",
         "Biscoe",
         "37.9",
         "18.6",
         "172.0",
         "3150.0",
         "female"
        ],
        [
         "29",
         "Adelie",
         "Biscoe",
         "40.5",
         "18.9",
         "180.0",
         "3950.0",
         "male"
        ],
        [
         "30",
         "Adelie",
         "Dream",
         "39.5",
         "16.7",
         "178.0",
         "3250.0",
         "female"
        ],
        [
         "31",
         "Adelie",
         "Dream",
         "37.2",
         "18.1",
         "178.0",
         "3900.0",
         "male"
        ],
        [
         "32",
         "Adelie",
         "Dream",
         "39.5",
         "17.8",
         "188.0",
         "3300.0",
         "female"
        ],
        [
         "33",
         "Adelie",
         "Dream",
         "40.9",
         "18.9",
         "184.0",
         "3900.0",
         "male"
        ],
        [
         "34",
         "Adelie",
         "Dream",
         "36.4",
         "17.0",
         "195.0",
         "3325.0",
         "female"
        ],
        [
         "35",
         "Adelie",
         "Dream",
         "39.2",
         "21.1",
         "196.0",
         "4150.0",
         "male"
        ],
        [
         "36",
         "Adelie",
         "Dream",
         "38.8",
         "20.0",
         "190.0",
         "3950.0",
         "male"
        ],
        [
         "37",
         "Adelie",
         "Dream",
         "42.2",
         "18.5",
         "180.0",
         "3550.0",
         "female"
        ],
        [
         "38",
         "Adelie",
         "Dream",
         "37.6",
         "19.3",
         "181.0",
         "3300.0",
         "female"
        ],
        [
         "39",
         "Adelie",
         "Dream",
         "39.8",
         "19.1",
         "184.0",
         "4650.0",
         "male"
        ],
        [
         "40",
         "Adelie",
         "Dream",
         "36.5",
         "18.0",
         "182.0",
         "3150.0",
         "female"
        ],
        [
         "41",
         "Adelie",
         "Dream",
         "40.8",
         "18.4",
         "195.0",
         "3900.0",
         "male"
        ],
        [
         "42",
         "Adelie",
         "Dream",
         "36.0",
         "18.5",
         "186.0",
         "3100.0",
         "female"
        ],
        [
         "43",
         "Adelie",
         "Dream",
         "44.1",
         "19.7",
         "196.0",
         "4400.0",
         "male"
        ],
        [
         "44",
         "Adelie",
         "Dream",
         "37.0",
         "16.9",
         "185.0",
         "3000.0",
         "female"
        ],
        [
         "45",
         "Adelie",
         "Dream",
         "39.6",
         "18.8",
         "190.0",
         "4600.0",
         "male"
        ],
        [
         "46",
         "Adelie",
         "Dream",
         "41.1",
         "19.0",
         "182.0",
         "3425.0",
         "male"
        ],
        [
         "47",
         "Adelie",
         "Dream",
         "37.5",
         "18.9",
         "179.0",
         "2975.0",
         null
        ],
        [
         "48",
         "Adelie",
         "Dream",
         "36.0",
         "17.9",
         "190.0",
         "3450.0",
         "female"
        ],
        [
         "49",
         "Adelie",
         "Dream",
         "42.3",
         "21.2",
         "191.0",
         "4150.0",
         "male"
        ]
       ],
       "shape": {
        "columns": 7,
        "rows": 152
       }
      },
      "text/html": [
       "<div>\n",
       "<style scoped>\n",
       "    .dataframe tbody tr th:only-of-type {\n",
       "        vertical-align: middle;\n",
       "    }\n",
       "\n",
       "    .dataframe tbody tr th {\n",
       "        vertical-align: top;\n",
       "    }\n",
       "\n",
       "    .dataframe thead th {\n",
       "        text-align: right;\n",
       "    }\n",
       "</style>\n",
       "<table border=\"1\" class=\"dataframe\">\n",
       "  <thead>\n",
       "    <tr style=\"text-align: right;\">\n",
       "      <th></th>\n",
       "      <th>species</th>\n",
       "      <th>island</th>\n",
       "      <th>bill_length_mm</th>\n",
       "      <th>bill_depth_mm</th>\n",
       "      <th>flipper_length_mm</th>\n",
       "      <th>body_mass_g</th>\n",
       "      <th>sex</th>\n",
       "    </tr>\n",
       "  </thead>\n",
       "  <tbody>\n",
       "    <tr>\n",
       "      <th>0</th>\n",
       "      <td>Adelie</td>\n",
       "      <td>Torgersen</td>\n",
       "      <td>39.1</td>\n",
       "      <td>18.7</td>\n",
       "      <td>181.0</td>\n",
       "      <td>3750.0</td>\n",
       "      <td>male</td>\n",
       "    </tr>\n",
       "    <tr>\n",
       "      <th>1</th>\n",
       "      <td>Adelie</td>\n",
       "      <td>Torgersen</td>\n",
       "      <td>39.5</td>\n",
       "      <td>17.4</td>\n",
       "      <td>186.0</td>\n",
       "      <td>3800.0</td>\n",
       "      <td>female</td>\n",
       "    </tr>\n",
       "    <tr>\n",
       "      <th>2</th>\n",
       "      <td>Adelie</td>\n",
       "      <td>Torgersen</td>\n",
       "      <td>40.3</td>\n",
       "      <td>18.0</td>\n",
       "      <td>195.0</td>\n",
       "      <td>3250.0</td>\n",
       "      <td>female</td>\n",
       "    </tr>\n",
       "    <tr>\n",
       "      <th>3</th>\n",
       "      <td>Adelie</td>\n",
       "      <td>Torgersen</td>\n",
       "      <td>NaN</td>\n",
       "      <td>NaN</td>\n",
       "      <td>NaN</td>\n",
       "      <td>NaN</td>\n",
       "      <td>NaN</td>\n",
       "    </tr>\n",
       "    <tr>\n",
       "      <th>4</th>\n",
       "      <td>Adelie</td>\n",
       "      <td>Torgersen</td>\n",
       "      <td>36.7</td>\n",
       "      <td>19.3</td>\n",
       "      <td>193.0</td>\n",
       "      <td>3450.0</td>\n",
       "      <td>female</td>\n",
       "    </tr>\n",
       "    <tr>\n",
       "      <th>...</th>\n",
       "      <td>...</td>\n",
       "      <td>...</td>\n",
       "      <td>...</td>\n",
       "      <td>...</td>\n",
       "      <td>...</td>\n",
       "      <td>...</td>\n",
       "      <td>...</td>\n",
       "    </tr>\n",
       "    <tr>\n",
       "      <th>147</th>\n",
       "      <td>Adelie</td>\n",
       "      <td>Dream</td>\n",
       "      <td>36.6</td>\n",
       "      <td>18.4</td>\n",
       "      <td>184.0</td>\n",
       "      <td>3475.0</td>\n",
       "      <td>female</td>\n",
       "    </tr>\n",
       "    <tr>\n",
       "      <th>148</th>\n",
       "      <td>Adelie</td>\n",
       "      <td>Dream</td>\n",
       "      <td>36.0</td>\n",
       "      <td>17.8</td>\n",
       "      <td>195.0</td>\n",
       "      <td>3450.0</td>\n",
       "      <td>female</td>\n",
       "    </tr>\n",
       "    <tr>\n",
       "      <th>149</th>\n",
       "      <td>Adelie</td>\n",
       "      <td>Dream</td>\n",
       "      <td>37.8</td>\n",
       "      <td>18.1</td>\n",
       "      <td>193.0</td>\n",
       "      <td>3750.0</td>\n",
       "      <td>male</td>\n",
       "    </tr>\n",
       "    <tr>\n",
       "      <th>150</th>\n",
       "      <td>Adelie</td>\n",
       "      <td>Dream</td>\n",
       "      <td>36.0</td>\n",
       "      <td>17.1</td>\n",
       "      <td>187.0</td>\n",
       "      <td>3700.0</td>\n",
       "      <td>female</td>\n",
       "    </tr>\n",
       "    <tr>\n",
       "      <th>151</th>\n",
       "      <td>Adelie</td>\n",
       "      <td>Dream</td>\n",
       "      <td>41.5</td>\n",
       "      <td>18.5</td>\n",
       "      <td>201.0</td>\n",
       "      <td>4000.0</td>\n",
       "      <td>male</td>\n",
       "    </tr>\n",
       "  </tbody>\n",
       "</table>\n",
       "<p>152 rows × 7 columns</p>\n",
       "</div>"
      ],
      "text/plain": [
       "    species     island  bill_length_mm  bill_depth_mm  flipper_length_mm  \\\n",
       "0    Adelie  Torgersen            39.1           18.7              181.0   \n",
       "1    Adelie  Torgersen            39.5           17.4              186.0   \n",
       "2    Adelie  Torgersen            40.3           18.0              195.0   \n",
       "3    Adelie  Torgersen             NaN            NaN                NaN   \n",
       "4    Adelie  Torgersen            36.7           19.3              193.0   \n",
       "..      ...        ...             ...            ...                ...   \n",
       "147  Adelie      Dream            36.6           18.4              184.0   \n",
       "148  Adelie      Dream            36.0           17.8              195.0   \n",
       "149  Adelie      Dream            37.8           18.1              193.0   \n",
       "150  Adelie      Dream            36.0           17.1              187.0   \n",
       "151  Adelie      Dream            41.5           18.5              201.0   \n",
       "\n",
       "     body_mass_g     sex  \n",
       "0         3750.0    male  \n",
       "1         3800.0  female  \n",
       "2         3250.0  female  \n",
       "3            NaN     NaN  \n",
       "4         3450.0  female  \n",
       "..           ...     ...  \n",
       "147       3475.0  female  \n",
       "148       3450.0  female  \n",
       "149       3750.0    male  \n",
       "150       3700.0  female  \n",
       "151       4000.0    male  \n",
       "\n",
       "[152 rows x 7 columns]"
      ]
     },
     "execution_count": 57,
     "metadata": {},
     "output_type": "execute_result"
    }
   ],
   "source": [
    "df[df['species'] == 'Adelie']  # filter rows where species is 'Adelie'"
   ]
  },
  {
   "cell_type": "markdown",
   "id": "73bed6e1",
   "metadata": {},
   "source": [
    "#### Combine multiple conditions\n",
    "- Use `&` for AND, `|` for OR\n",
    "- Always use parentheses around each condition"
   ]
  },
  {
   "cell_type": "code",
   "execution_count": 58,
   "id": "ab23dcc8",
   "metadata": {},
   "outputs": [
    {
     "data": {
      "application/vnd.microsoft.datawrangler.viewer.v0+json": {
       "columns": [
        {
         "name": "index",
         "rawType": "int64",
         "type": "integer"
        },
        {
         "name": "species",
         "rawType": "object",
         "type": "string"
        },
        {
         "name": "island",
         "rawType": "object",
         "type": "string"
        },
        {
         "name": "bill_length_mm",
         "rawType": "float64",
         "type": "float"
        },
        {
         "name": "bill_depth_mm",
         "rawType": "float64",
         "type": "float"
        },
        {
         "name": "flipper_length_mm",
         "rawType": "float64",
         "type": "float"
        },
        {
         "name": "body_mass_g",
         "rawType": "float64",
         "type": "float"
        },
        {
         "name": "sex",
         "rawType": "object",
         "type": "string"
        }
       ],
       "ref": "b05545ff-c58e-48ba-a955-31ba49c1e03a",
       "rows": [
        [
         "153",
         "Gentoo",
         "Biscoe",
         "50.0",
         "16.3",
         "230.0",
         "5700.0",
         "male"
        ],
        [
         "155",
         "Gentoo",
         "Biscoe",
         "50.0",
         "15.2",
         "218.0",
         "5700.0",
         "male"
        ],
        [
         "156",
         "Gentoo",
         "Biscoe",
         "47.6",
         "14.5",
         "215.0",
         "5400.0",
         "male"
        ],
        [
         "159",
         "Gentoo",
         "Biscoe",
         "46.7",
         "15.3",
         "219.0",
         "5200.0",
         "male"
        ],
        [
         "161",
         "Gentoo",
         "Biscoe",
         "46.8",
         "15.4",
         "215.0",
         "5150.0",
         "male"
        ],
        [
         "163",
         "Gentoo",
         "Biscoe",
         "49.0",
         "16.1",
         "216.0",
         "5550.0",
         "male"
        ],
        [
         "165",
         "Gentoo",
         "Biscoe",
         "48.4",
         "14.6",
         "213.0",
         "5850.0",
         "male"
        ],
        [
         "167",
         "Gentoo",
         "Biscoe",
         "49.3",
         "15.7",
         "217.0",
         "5850.0",
         "male"
        ],
        [
         "169",
         "Gentoo",
         "Biscoe",
         "49.2",
         "15.2",
         "221.0",
         "6300.0",
         "male"
        ],
        [
         "171",
         "Gentoo",
         "Biscoe",
         "48.7",
         "15.1",
         "222.0",
         "5350.0",
         "male"
        ],
        [
         "172",
         "Gentoo",
         "Biscoe",
         "50.2",
         "14.3",
         "218.0",
         "5700.0",
         "male"
        ],
        [
         "175",
         "Gentoo",
         "Biscoe",
         "46.3",
         "15.8",
         "215.0",
         "5050.0",
         "male"
        ],
        [
         "177",
         "Gentoo",
         "Biscoe",
         "46.1",
         "15.1",
         "215.0",
         "5100.0",
         "male"
        ],
        [
         "179",
         "Gentoo",
         "Biscoe",
         "47.8",
         "15.0",
         "215.0",
         "5650.0",
         "male"
        ],
        [
         "181",
         "Gentoo",
         "Biscoe",
         "50.0",
         "15.3",
         "220.0",
         "5550.0",
         "male"
        ],
        [
         "182",
         "Gentoo",
         "Biscoe",
         "47.3",
         "15.3",
         "222.0",
         "5250.0",
         "male"
        ],
        [
         "184",
         "Gentoo",
         "Biscoe",
         "45.1",
         "14.5",
         "207.0",
         "5050.0",
         "female"
        ],
        [
         "185",
         "Gentoo",
         "Biscoe",
         "59.6",
         "17.0",
         "230.0",
         "6050.0",
         "male"
        ],
        [
         "186",
         "Gentoo",
         "Biscoe",
         "49.1",
         "14.8",
         "220.0",
         "5150.0",
         "female"
        ],
        [
         "187",
         "Gentoo",
         "Biscoe",
         "48.4",
         "16.3",
         "220.0",
         "5400.0",
         "male"
        ],
        [
         "189",
         "Gentoo",
         "Biscoe",
         "44.4",
         "17.3",
         "219.0",
         "5250.0",
         "male"
        ],
        [
         "191",
         "Gentoo",
         "Biscoe",
         "48.7",
         "15.7",
         "208.0",
         "5350.0",
         "male"
        ],
        [
         "193",
         "Gentoo",
         "Biscoe",
         "49.6",
         "16.0",
         "225.0",
         "5700.0",
         "male"
        ],
        [
         "196",
         "Gentoo",
         "Biscoe",
         "50.5",
         "15.9",
         "222.0",
         "5550.0",
         "male"
        ],
        [
         "199",
         "Gentoo",
         "Biscoe",
         "50.5",
         "15.9",
         "225.0",
         "5400.0",
         "male"
        ],
        [
         "200",
         "Gentoo",
         "Biscoe",
         "44.9",
         "13.3",
         "213.0",
         "5100.0",
         "female"
        ],
        [
         "201",
         "Gentoo",
         "Biscoe",
         "45.2",
         "15.8",
         "215.0",
         "5300.0",
         "male"
        ],
        [
         "203",
         "Gentoo",
         "Biscoe",
         "48.5",
         "14.1",
         "220.0",
         "5300.0",
         "male"
        ],
        [
         "207",
         "Gentoo",
         "Biscoe",
         "45.0",
         "15.4",
         "220.0",
         "5050.0",
         "male"
        ],
        [
         "211",
         "Gentoo",
         "Biscoe",
         "50.4",
         "15.3",
         "224.0",
         "5550.0",
         "male"
        ],
        [
         "213",
         "Gentoo",
         "Biscoe",
         "46.2",
         "14.9",
         "221.0",
         "5300.0",
         "male"
        ],
        [
         "215",
         "Gentoo",
         "Biscoe",
         "54.3",
         "15.7",
         "231.0",
         "5650.0",
         "male"
        ],
        [
         "217",
         "Gentoo",
         "Biscoe",
         "49.8",
         "16.8",
         "230.0",
         "5700.0",
         "male"
        ],
        [
         "219",
         "Gentoo",
         "Biscoe",
         "49.5",
         "16.2",
         "229.0",
         "5800.0",
         "male"
        ],
        [
         "221",
         "Gentoo",
         "Biscoe",
         "50.7",
         "15.0",
         "223.0",
         "5550.0",
         "male"
        ],
        [
         "224",
         "Gentoo",
         "Biscoe",
         "48.2",
         "15.6",
         "221.0",
         "5100.0",
         "male"
        ],
        [
         "225",
         "Gentoo",
         "Biscoe",
         "46.5",
         "14.8",
         "217.0",
         "5200.0",
         "female"
        ],
        [
         "227",
         "Gentoo",
         "Biscoe",
         "48.6",
         "16.0",
         "230.0",
         "5800.0",
         "male"
        ],
        [
         "229",
         "Gentoo",
         "Biscoe",
         "51.1",
         "16.3",
         "220.0",
         "6000.0",
         "male"
        ],
        [
         "231",
         "Gentoo",
         "Biscoe",
         "45.2",
         "16.4",
         "223.0",
         "5950.0",
         "male"
        ],
        [
         "233",
         "Gentoo",
         "Biscoe",
         "52.5",
         "15.6",
         "221.0",
         "5450.0",
         "male"
        ],
        [
         "235",
         "Gentoo",
         "Biscoe",
         "50.0",
         "15.9",
         "224.0",
         "5350.0",
         "male"
        ],
        [
         "237",
         "Gentoo",
         "Biscoe",
         "50.8",
         "17.3",
         "228.0",
         "5600.0",
         "male"
        ],
        [
         "239",
         "Gentoo",
         "Biscoe",
         "51.3",
         "14.2",
         "218.0",
         "5300.0",
         "male"
        ],
        [
         "241",
         "Gentoo",
         "Biscoe",
         "52.1",
         "17.0",
         "230.0",
         "5550.0",
         "male"
        ],
        [
         "243",
         "Gentoo",
         "Biscoe",
         "52.2",
         "17.1",
         "228.0",
         "5400.0",
         "male"
        ],
        [
         "245",
         "Gentoo",
         "Biscoe",
         "49.5",
         "16.1",
         "224.0",
         "5650.0",
         "male"
        ],
        [
         "247",
         "Gentoo",
         "Biscoe",
         "50.8",
         "15.7",
         "226.0",
         "5200.0",
         "male"
        ],
        [
         "251",
         "Gentoo",
         "Biscoe",
         "51.1",
         "16.5",
         "225.0",
         "5250.0",
         "male"
        ],
        [
         "253",
         "Gentoo",
         "Biscoe",
         "55.9",
         "17.0",
         "228.0",
         "5600.0",
         "male"
        ]
       ],
       "shape": {
        "columns": 7,
        "rows": 61
       }
      },
      "text/html": [
       "<div>\n",
       "<style scoped>\n",
       "    .dataframe tbody tr th:only-of-type {\n",
       "        vertical-align: middle;\n",
       "    }\n",
       "\n",
       "    .dataframe tbody tr th {\n",
       "        vertical-align: top;\n",
       "    }\n",
       "\n",
       "    .dataframe thead th {\n",
       "        text-align: right;\n",
       "    }\n",
       "</style>\n",
       "<table border=\"1\" class=\"dataframe\">\n",
       "  <thead>\n",
       "    <tr style=\"text-align: right;\">\n",
       "      <th></th>\n",
       "      <th>species</th>\n",
       "      <th>island</th>\n",
       "      <th>bill_length_mm</th>\n",
       "      <th>bill_depth_mm</th>\n",
       "      <th>flipper_length_mm</th>\n",
       "      <th>body_mass_g</th>\n",
       "      <th>sex</th>\n",
       "    </tr>\n",
       "  </thead>\n",
       "  <tbody>\n",
       "    <tr>\n",
       "      <th>153</th>\n",
       "      <td>Gentoo</td>\n",
       "      <td>Biscoe</td>\n",
       "      <td>50.0</td>\n",
       "      <td>16.3</td>\n",
       "      <td>230.0</td>\n",
       "      <td>5700.0</td>\n",
       "      <td>male</td>\n",
       "    </tr>\n",
       "    <tr>\n",
       "      <th>155</th>\n",
       "      <td>Gentoo</td>\n",
       "      <td>Biscoe</td>\n",
       "      <td>50.0</td>\n",
       "      <td>15.2</td>\n",
       "      <td>218.0</td>\n",
       "      <td>5700.0</td>\n",
       "      <td>male</td>\n",
       "    </tr>\n",
       "    <tr>\n",
       "      <th>156</th>\n",
       "      <td>Gentoo</td>\n",
       "      <td>Biscoe</td>\n",
       "      <td>47.6</td>\n",
       "      <td>14.5</td>\n",
       "      <td>215.0</td>\n",
       "      <td>5400.0</td>\n",
       "      <td>male</td>\n",
       "    </tr>\n",
       "    <tr>\n",
       "      <th>159</th>\n",
       "      <td>Gentoo</td>\n",
       "      <td>Biscoe</td>\n",
       "      <td>46.7</td>\n",
       "      <td>15.3</td>\n",
       "      <td>219.0</td>\n",
       "      <td>5200.0</td>\n",
       "      <td>male</td>\n",
       "    </tr>\n",
       "    <tr>\n",
       "      <th>161</th>\n",
       "      <td>Gentoo</td>\n",
       "      <td>Biscoe</td>\n",
       "      <td>46.8</td>\n",
       "      <td>15.4</td>\n",
       "      <td>215.0</td>\n",
       "      <td>5150.0</td>\n",
       "      <td>male</td>\n",
       "    </tr>\n",
       "    <tr>\n",
       "      <th>...</th>\n",
       "      <td>...</td>\n",
       "      <td>...</td>\n",
       "      <td>...</td>\n",
       "      <td>...</td>\n",
       "      <td>...</td>\n",
       "      <td>...</td>\n",
       "      <td>...</td>\n",
       "    </tr>\n",
       "    <tr>\n",
       "      <th>267</th>\n",
       "      <td>Gentoo</td>\n",
       "      <td>Biscoe</td>\n",
       "      <td>55.1</td>\n",
       "      <td>16.0</td>\n",
       "      <td>230.0</td>\n",
       "      <td>5850.0</td>\n",
       "      <td>male</td>\n",
       "    </tr>\n",
       "    <tr>\n",
       "      <th>269</th>\n",
       "      <td>Gentoo</td>\n",
       "      <td>Biscoe</td>\n",
       "      <td>48.8</td>\n",
       "      <td>16.2</td>\n",
       "      <td>222.0</td>\n",
       "      <td>6000.0</td>\n",
       "      <td>male</td>\n",
       "    </tr>\n",
       "    <tr>\n",
       "      <th>273</th>\n",
       "      <td>Gentoo</td>\n",
       "      <td>Biscoe</td>\n",
       "      <td>50.4</td>\n",
       "      <td>15.7</td>\n",
       "      <td>222.0</td>\n",
       "      <td>5750.0</td>\n",
       "      <td>male</td>\n",
       "    </tr>\n",
       "    <tr>\n",
       "      <th>274</th>\n",
       "      <td>Gentoo</td>\n",
       "      <td>Biscoe</td>\n",
       "      <td>45.2</td>\n",
       "      <td>14.8</td>\n",
       "      <td>212.0</td>\n",
       "      <td>5200.0</td>\n",
       "      <td>female</td>\n",
       "    </tr>\n",
       "    <tr>\n",
       "      <th>275</th>\n",
       "      <td>Gentoo</td>\n",
       "      <td>Biscoe</td>\n",
       "      <td>49.9</td>\n",
       "      <td>16.1</td>\n",
       "      <td>213.0</td>\n",
       "      <td>5400.0</td>\n",
       "      <td>male</td>\n",
       "    </tr>\n",
       "  </tbody>\n",
       "</table>\n",
       "<p>61 rows × 7 columns</p>\n",
       "</div>"
      ],
      "text/plain": [
       "    species  island  bill_length_mm  bill_depth_mm  flipper_length_mm  \\\n",
       "153  Gentoo  Biscoe            50.0           16.3              230.0   \n",
       "155  Gentoo  Biscoe            50.0           15.2              218.0   \n",
       "156  Gentoo  Biscoe            47.6           14.5              215.0   \n",
       "159  Gentoo  Biscoe            46.7           15.3              219.0   \n",
       "161  Gentoo  Biscoe            46.8           15.4              215.0   \n",
       "..      ...     ...             ...            ...                ...   \n",
       "267  Gentoo  Biscoe            55.1           16.0              230.0   \n",
       "269  Gentoo  Biscoe            48.8           16.2              222.0   \n",
       "273  Gentoo  Biscoe            50.4           15.7              222.0   \n",
       "274  Gentoo  Biscoe            45.2           14.8              212.0   \n",
       "275  Gentoo  Biscoe            49.9           16.1              213.0   \n",
       "\n",
       "     body_mass_g     sex  \n",
       "153       5700.0    male  \n",
       "155       5700.0    male  \n",
       "156       5400.0    male  \n",
       "159       5200.0    male  \n",
       "161       5150.0    male  \n",
       "..           ...     ...  \n",
       "267       5850.0    male  \n",
       "269       6000.0    male  \n",
       "273       5750.0    male  \n",
       "274       5200.0  female  \n",
       "275       5400.0    male  \n",
       "\n",
       "[61 rows x 7 columns]"
      ]
     },
     "execution_count": 58,
     "metadata": {},
     "output_type": "execute_result"
    }
   ],
   "source": [
    "df[(df['species'] == 'Gentoo') & (df['body_mass_g'] > 5000)]"
   ]
  },
  {
   "cell_type": "markdown",
   "id": "adb9faa6",
   "metadata": {},
   "source": [
    "#### Aggregation and Grouping\n",
    "Average body mass by species\n",
    "- Groups by species\n",
    "- Calculates mean of body mass within each group"
   ]
  },
  {
   "cell_type": "code",
   "execution_count": 59,
   "id": "9ed25256",
   "metadata": {},
   "outputs": [
    {
     "data": {
      "application/vnd.microsoft.datawrangler.viewer.v0+json": {
       "columns": [
        {
         "name": "species",
         "rawType": "object",
         "type": "string"
        },
        {
         "name": "body_mass_g",
         "rawType": "float64",
         "type": "float"
        }
       ],
       "ref": "8d833a04-ef68-46ec-a58c-9e55fa4cddd6",
       "rows": [
        [
         "Adelie",
         "3700.662251655629"
        ],
        [
         "Chinstrap",
         "3733.0882352941176"
        ],
        [
         "Gentoo",
         "5076.016260162602"
        ]
       ],
       "shape": {
        "columns": 1,
        "rows": 3
       }
      },
      "text/plain": [
       "species\n",
       "Adelie       3700.662252\n",
       "Chinstrap    3733.088235\n",
       "Gentoo       5076.016260\n",
       "Name: body_mass_g, dtype: float64"
      ]
     },
     "execution_count": 59,
     "metadata": {},
     "output_type": "execute_result"
    }
   ],
   "source": [
    "df.groupby('species')['body_mass_g'].mean()"
   ]
  },
  {
   "cell_type": "code",
   "execution_count": 61,
   "id": "dd8ce547",
   "metadata": {},
   "outputs": [
    {
     "data": {
      "application/vnd.microsoft.datawrangler.viewer.v0+json": {
       "columns": [
        {
         "name": "('island', 'species')",
         "rawType": "object",
         "type": "unknown"
        },
        {
         "name": "0",
         "rawType": "int64",
         "type": "integer"
        }
       ],
       "ref": "3b0a2e28-a592-47fd-9b03-20b741e4a123",
       "rows": [
        [
         "('Biscoe', 'Adelie')",
         "44"
        ],
        [
         "('Biscoe', 'Gentoo')",
         "124"
        ],
        [
         "('Dream', 'Adelie')",
         "56"
        ],
        [
         "('Dream', 'Chinstrap')",
         "68"
        ],
        [
         "('Torgersen', 'Adelie')",
         "52"
        ]
       ],
       "shape": {
        "columns": 1,
        "rows": 5
       }
      },
      "text/plain": [
       "island     species  \n",
       "Biscoe     Adelie        44\n",
       "           Gentoo       124\n",
       "Dream      Adelie        56\n",
       "           Chinstrap     68\n",
       "Torgersen  Adelie        52\n",
       "dtype: int64"
      ]
     },
     "execution_count": 61,
     "metadata": {},
     "output_type": "execute_result"
    }
   ],
   "source": [
    "df.groupby(['island', 'species']).size()\n",
    "# Returns number of records in each group"
   ]
  },
  {
   "cell_type": "markdown",
   "id": "c31bc6cc",
   "metadata": {},
   "source": [
    "## Summary of Key Concepts\n",
    "\n",
    "| Concept           | Use Case                                                 |\n",
    "|------------------|-----------------------------------------------------------|\n",
    "| `pd.read_csv()`  | Load external dataset                                     |\n",
    "| `.shape`         | Get dataset dimensions                                   |\n",
    "| `.info()`        | Inspect columns and datatypes                            |\n",
    "| `.isna()`        | Detect missing data                                      |\n",
    "| `.dropna()`      | Remove incomplete rows                                   |\n",
    "| `.fillna()`      | Replace missing values                                   |\n",
    "| `.loc[]`         | Access rows/columns by label                             |\n",
    "| `.iloc[]`        | Access rows/columns by index position                    |\n",
    "| Boolean filtering| Extract subset of rows matching condition                |\n",
    "| `.groupby()`     | Aggregate and summarize across categories                |\n",
    "| `.sort_values()` | Sort DataFrame by values                                 |\n",
    "| `.reset_index()` | Restore original index                                   |\n"
   ]
  },
  {
   "cell_type": "markdown",
   "id": "993fa57a",
   "metadata": {},
   "source": [
    "---\n",
    "## References\n",
    "1. [W3Schools - Python Modules](https://www.w3schools.com/python/python_modules.asp)\n",
    "2. HS Offenburg - Introductory Python Course\n",
    "3. [Python Packaging Guide](https://packaging.python.org/en/latest/)\n",
    "4. [DataCamp: Intro to Python](https://www.datacamp.com/courses/intro-to-python-for-data-science)\n"
   ]
  },
  {
   "cell_type": "markdown",
   "id": "05b62661",
   "metadata": {},
   "source": []
  }
 ],
 "metadata": {
  "kernelspec": {
   "display_name": "base",
   "language": "python",
   "name": "python3"
  },
  "language_info": {
   "codemirror_mode": {
    "name": "ipython",
    "version": 3
   },
   "file_extension": ".py",
   "mimetype": "text/x-python",
   "name": "python",
   "nbconvert_exporter": "python",
   "pygments_lexer": "ipython3",
   "version": "3.12.3"
  }
 },
 "nbformat": 4,
 "nbformat_minor": 5
}
