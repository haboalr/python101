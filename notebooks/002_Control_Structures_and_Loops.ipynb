{
  "cells": [
    {
      "cell_type": "markdown",
      "id": "b40f4532",
      "metadata": {
        "id": "b40f4532"
      },
      "source": [
        "# Control Structures and Loops in Python\n",
        "### Learning Goals:\n",
        "- Understand conditional logic with `if`, `elif`, and `else`\n",
        "- Use `for` and `while` loops effectively\n",
        "- Explore the `range()` function\n",
        "- Understand nested structures\n",
        "- Learn about loop control: `break`, infinite loops\n",
        "\n",
        "\n",
        "---\n",
        "\n",
        "Useful Links\n",
        "\n",
        "- <a href=\"https://realpython.com/python-conditional-statements/\">Conditional Statements in Python</a>\n",
        "- <a href=\"https://www.python-course.eu/python3_conditional_statements.php\"> Conditinal Statments </a>"
      ]
    },
    {
      "cell_type": "markdown",
      "id": "1a624ede",
      "metadata": {
        "id": "1a624ede"
      },
      "source": [
        "## 1. Conditional Statements: `if`, `elif`, `else`\n",
        "\n",
        "- Conditional statements are not just something we see in programming — we actually deal with them all the time in daily life. We constantly make choices depending on what’s happening around us or what we already know. For example:  \n",
        "    - Is it raining outside?  \n",
        "    - Do I still have milk at home?  \n",
        "    - Do I have time to grab a coffee before class starts?   \n",
        "\n",
        "- In the same way, programming languages (like Python) allow us to tell the computer **what decisions to make** depending on certain conditions.  \n",
        "- These choices happen only if the specified condition is evaluated as `True` or `False`. The exact outcome depends on what the programmer intends the program to do.  \n",
        "\n",
        "- In Python, this kind of decision-making is handled using **control structures**. They let your program follow different paths and run different chunks of code depending on the situation. The simplest one is the `if` statement.  \n",
        "\n",
        "- Here’s the breakdown:  \n",
        "  - `if`: runs a block of code if a condition evaluates to `True`.  \n",
        "  - `elif`: short for *else if*, it allows checking multiple conditions one after another.  \n",
        "  - `else`: runs a block of code if none of the above conditions are met.  \n",
        "\n",
        "![fig_cond](https://downloads.intercomcdn.com/i/o/151547499/3b47db4be649cc99ae72f1fa/ConditionDiagram.jpg)  \n",
        "Image Source: [http://support.kodable.com/](http://support.kodable.com/en/articles/417311-what-are-conditional-statements)\n",
        "\n",
        "---\n",
        "\n",
        "**In short: conditional statements give us a way to control the flow of our program, making sure specific pieces of code run only when certain conditions are met (true/false).**\n"
      ]
    },
    {
      "cell_type": "markdown",
      "source": [
        "### The `if` statement\n",
        "\n",
        "\n",
        "```python\n",
        "   if <expr>:\n",
        "       <statement>\n",
        "```\n",
        "\n",
        "In the form shown above:\n",
        "\n",
        "- `<expr>` is an expression evaluated in Boolean context.\n",
        "- `<statement>` is a valid Python statement, which must be indented."
      ],
      "metadata": {
        "id": "9u5E-iqUptf5"
      },
      "id": "9u5E-iqUptf5"
    },
    {
      "cell_type": "code",
      "execution_count": null,
      "id": "d5f967c8",
      "metadata": {
        "id": "d5f967c8",
        "outputId": "733a1ef3-d82b-4eb1-d10e-a74535f3948c"
      },
      "outputs": [
        {
          "name": "stdout",
          "output_type": "stream",
          "text": [
            "100 is greater than 20\n"
          ]
        }
      ],
      "source": [
        "x = 100\n",
        "y = 20\n",
        "\n",
        "if x > y:\n",
        "    print(x,\"is greater than\", y)\n",
        "else:\n",
        "    print(y,\"is greater than or equal to \",x)"
      ]
    },
    {
      "cell_type": "markdown",
      "id": "1fac2765",
      "metadata": {
        "id": "1fac2765"
      },
      "source": [
        " ### 1a. Logical operators\n",
        "\n",
        " Python supports the usual logical conditions from mathematics, which are used inside these statements:\n",
        "\n",
        "- `==` : Equals (e.g., `a == b`)\n",
        "- `!=` : Not Equals (e.g., `a != b`)\n",
        "- `<`  : Less than (e.g., `a < b`)\n",
        "- `<=` : Less than or equal to (e.g., `a <= b`)\n",
        "- `>`  : Greater than (e.g., `a > b`)\n",
        "- `>=` : Greater than or equal to (e.g., `a >= b`)\n",
        "\n",
        "These conditions return either `True` or `False`, and are essential for decision-making logic in Python."
      ]
    },
    {
      "cell_type": "markdown",
      "id": "71e2f930",
      "metadata": {
        "id": "71e2f930"
      },
      "source": [
        "The `if` statement is used to insert conditional logic into the code. If the condition is true, the block is executed. Otherwise, the `else` block is executed.\n",
        "\n",
        "We check whether `x` is greater than `y`. If true, the first block runs; otherwise, the else block runs."
      ]
    },
    {
      "cell_type": "markdown",
      "id": "8d88f5ae",
      "metadata": {
        "id": "8d88f5ae"
      },
      "source": [
        "### 1b. Conditional Statement: If-Elif-Else\n",
        "\n",
        "\n",
        "<img src=\"https://github.com/haboalr/python101/blob/main/notebooks/figures/if_else_elif_figures.png?raw=1\" alt=\"Flowchart of if else elif Structures\" width=\"600\"/>\n",
        "\n",
        "<br>\n",
        "<sub><i>Flowchart of if else elif Structures, Source: https://www.geekster.in/articles/python-elif/</i></sub>\n"
      ]
    },
    {
      "cell_type": "markdown",
      "id": "f47dc8cc",
      "metadata": {
        "id": "f47dc8cc"
      },
      "source": [
        "The `elif` statement (short for 'else if') can be used to check additional conditions if the first condition is false.\n",
        "\n",
        "__Note:__ You cannot have an __`else`__ statement without an __`if`__ statement."
      ]
    },
    {
      "cell_type": "code",
      "execution_count": null,
      "id": "546fed3d",
      "metadata": {
        "id": "546fed3d",
        "outputId": "49827f4f-ad22-4631-ab6e-c96c3a90b62b"
      },
      "outputs": [
        {
          "name": "stdout",
          "output_type": "stream",
          "text": [
            "You are a senior citizen\n"
          ]
        }
      ],
      "source": [
        "age = 75\n",
        "\n",
        "if age < 18:\n",
        "    print(\"You are underage\")\n",
        "elif 18 <= age < 65:\n",
        "    print(\"You are an adult\")\n",
        "else:\n",
        "    print(\"You are a senior citizen\")"
      ]
    },
    {
      "cell_type": "markdown",
      "id": "018333d9",
      "metadata": {
        "id": "018333d9"
      },
      "source": [
        "Conditions are checked in sequence. Once one is true, its block is executed and the rest are ignored."
      ]
    },
    {
      "cell_type": "code",
      "execution_count": null,
      "id": "cd308a9b",
      "metadata": {
        "id": "cd308a9b",
        "outputId": "ce6903d6-9607-46d4-e66a-628f0736561d"
      },
      "outputs": [
        {
          "name": "stdout",
          "output_type": "stream",
          "text": [
            "You get a 30% senior discount\n"
          ]
        }
      ],
      "source": [
        "age = 65\n",
        "is_member = True\n",
        "purchase_amount = 120\n",
        "\n",
        "if purchase_amount > 100:\n",
        "    if age >= 60:\n",
        "        if is_member:\n",
        "            print(\"You get a 30% senior discount\")\n",
        "        else:\n",
        "            print(\"You get a 20% senior discount\")\n",
        "    elif is_member:\n",
        "        print(\"You get a 10% member discount\")\n",
        "    else:\n",
        "        print(\"You get a 5% regular dbscount\")\n",
        "else:\n",
        "    print(\"No discount available\")"
      ]
    },
    {
      "cell_type": "markdown",
      "id": "ff6b42a8",
      "metadata": {
        "id": "ff6b42a8"
      },
      "source": [
        "What the Code above does\n",
        "\n",
        "We check multiple conditions in a nested structure:\n",
        "\n",
        "- First, the program checks if the `purchase_amount` is more than 100.\n",
        "- If it is, it then checks if the person is a **senior** (`age >= 60`).\n",
        "- If the person is a senior:\n",
        "  - If they are also a **member**, they get a **30% senior member discount**.\n",
        "  - If not a member, they get a **20% senior discount**.\n",
        "- If the person is **not a senior** but **is a member**, they get a **15% member discount**.\n",
        "- If they are **neither senior nor member**, they get a **10% regular discount**.\n",
        "- If the `purchase_amount` is 100 or less, **no discount** is applied.\n",
        "\n",
        "What Happens in This Case:\n",
        "\n",
        "- `purchase_amount = 120` → ✅ more than 100  \n",
        "- `age = 65` → ✅ senior  \n",
        "- `is_member = True` → ✅ member  \n",
        "\n",
        "So the output will be:\n",
        "You get a 30% senior member discount.\n",
        "\n",
        "<div align=\"left\">\n",
        "  <img src=\"https://github.com/haboalr/python101/blob/main/notebooks/figures/if_example.png?raw=1\" alt=\"For Loop Diagram\" width=\"700\"/>\n",
        "  <p style=\"font-size:small;\">\n",
        "    Example logic</a>\n",
        "  </p>\n",
        "</div>"
      ]
    },
    {
      "cell_type": "markdown",
      "source": [
        "### Excersise\n",
        "\n",
        "---\n",
        "\n",
        "We're going to create a simple **grading system**.  \n",
        "\n",
        "The program should take a student's score (0–100) and assign a grade:  \n",
        "\n",
        "- <font color=\"black\">__F__</font> for scores below 50  \n",
        "- <font color=\"black\">__D__</font> for scores between 50–64  \n",
        "- <font color=\"black\">__C__</font> for scores between 65–74  \n",
        "- <font color=\"black\">__B__</font> for scores between 75–89  \n",
        "- <font color=\"black\">__A__</font> for scores 90 and above  \n",
        "\n",
        "\n",
        "Create a variable called `score` and assign it a number between 0 and 100 or use random library.  \n",
        "Then, use an `if / elif / else` structure to print out the correct grade.  \n",
        "\n",
        "__Example:__  \n",
        "- Input: `score = 82`  \n",
        "- Output: `Grade: B`  \n"
      ],
      "metadata": {
        "id": "lDxZmHnks2YD"
      },
      "id": "lDxZmHnks2YD"
    },
    {
      "cell_type": "markdown",
      "source": [
        "<p>\n",
        "<p>\n",
        "\n",
        "<details><summary><b>CLICK HERE TO ACCESS THE SOLUTION</b></summary>\n",
        "<p>\n",
        "    \n",
        "```python\n",
        "# Student's score\n",
        "score = 82\n",
        "\n",
        "if score < 50:\n",
        "    print(\"Grade: F\")\n",
        "elif score < 65:\n",
        "    print(\"Grade: D\")\n",
        "elif score < 75:\n",
        "    print(\"Grade: C\")\n",
        "elif score < 90:\n",
        "    print(\"Grade: B\")\n",
        "else:\n",
        "    print(\"Grade: A\")"
      ],
      "metadata": {
        "id": "JsCUYImIvzeT"
      },
      "id": "JsCUYImIvzeT"
    },
    {
      "cell_type": "markdown",
      "id": "56f44903",
      "metadata": {
        "id": "56f44903"
      },
      "source": [
        "## 2. Counting Loop: For Loop"
      ]
    },
    {
      "cell_type": "markdown",
      "id": "18efd7ff",
      "metadata": {
        "id": "18efd7ff"
      },
      "source": [
        "- A loop in a computer program is a sequence of instructions that is repeated until a specified condition is reached.\n",
        "- The purpose of loops is to execute the same, or similar, code a number of times (process is called **iterations**).  \n",
        "    - This number of times could be specified to a certain number, or the number of times could be dictated by a certain condition being met.\n",
        "- A loop usually has one or more of the following features:\n",
        "    - A **counter**, which is initialized with a certain value — this is the starting point of the loop.\n",
        "    - A **condition**, which is a `true/false` test to determine whether the loop continues to run, or stops — usually when the counter reaches a certain value.\n",
        "    - An **iterator**, which generally increments the counter on each successive iteration of the loop, until the condition is no longer true.\n",
        "\n",
        "The `for` Loop in Python\n",
        "\n",
        "The `for` loop is used for iterating over a sequence (like a list, string, or range). It's used when you want to do something a specific number of times or for each item in a collection.\n",
        "\n",
        "\n",
        "- `for` loops are predictable and safe since the number of iterations is defined by the sequence.\n",
        "\n",
        "<div align=\"center\">\n",
        "  <img src=\"https://github.com/haboalr/python101/blob/main/notebooks/figures/fig4.png?raw=1\" alt=\"For Loop Diagram\" width=\"600\"/>\n",
        "  <p style=\"font-size:small;\">\n",
        "    Source: <a href=\"https://www.geeksforgeeks.org/python/python-for-loops/\" target=\"_blank\">GeeksforGeeks – Python for Loops</a>\n",
        "  </p>\n",
        "</div>\n"
      ]
    },
    {
      "cell_type": "markdown",
      "source": [
        "The `for` Loop\n",
        "\n",
        "Python’s for loop looks like this:\n",
        "\n",
        "\n",
        "```python\n",
        "for <item> in <iterable>:\n",
        "    <statement(s)>\n",
        "```\n",
        "\n",
        "- `<iterable>` is a collection of objects (`list`, `tuple`, etc.).\n",
        "- The `<statement(s)>` in the loop body are denoted by indentation, as with all Python control structures, and are executed once for each item in `<iterable>`.\n",
        "- The loop variable `<item>` takes on the value of the next element in `<iterable>` each time through the loop."
      ],
      "metadata": {
        "id": "iTNhCE4l-Vzw"
      },
      "id": "iTNhCE4l-Vzw"
    },
    {
      "cell_type": "code",
      "execution_count": null,
      "id": "4d55c25e",
      "metadata": {
        "id": "4d55c25e",
        "outputId": "ed5d9ba9-a374-4eb2-fc65-a91785c390ef"
      },
      "outputs": [
        {
          "name": "stdout",
          "output_type": "stream",
          "text": [
            "the number is: 1\n",
            "the number is: 2\n",
            "the number is: 3\n",
            "the number is: 4\n",
            "the number is: 5\n"
          ]
        }
      ],
      "source": [
        "numbers = [1, 2, 3, 4, 5]\n",
        "for num in numbers:\n",
        "    print(\"the number is:\", num)"
      ]
    },
    {
      "cell_type": "markdown",
      "id": "808e977c",
      "metadata": {
        "id": "808e977c"
      },
      "source": [
        "Here we iterate through a list of numbers and print each number individually.\n",
        "In this loop, we go through the list `numbers` and assign the next element\n",
        "to the variable `num` in each iteration."
      ]
    },
    {
      "cell_type": "markdown",
      "id": "8da73c1c",
      "metadata": {
        "id": "8da73c1c"
      },
      "source": [
        "### 2b. For Loop with `range()` function"
      ]
    },
    {
      "cell_type": "markdown",
      "id": "63863089",
      "metadata": {
        "id": "63863089"
      },
      "source": [
        "The `range()` function is commonly used with `for` loops to iterate over numbers.\n",
        "\n",
        "**Syntax:** `range(start, stop, step)`\n",
        "\n",
        "- `start`: starting value (default = 0)\n",
        "- `stop`: stopping value (exclusive)\n",
        "- `step`: step size (default = 1)\n",
        "\n",
        "The `range()` function creates a sequence of numbers. In this case, `range(2, 6)` returns the numbers 2 through 5\n",
        "(6 is not included). In each iteration of the loop, the next number in the sequence is assigned to the variable `i` and then printed.\n",
        "\n",
        "The `range()` function is especially useful when you want to run a loop a fixed number of times without having to create a list beforehand.\n",
        "\n",
        "<div align=\"center\">\n",
        "  <img src=\"https://github.com/haboalr/python101/blob/main/notebooks/figures/range.png?raw=1\" alt=\"For Loop Diagram\" width=\"650\"/>\n",
        "  <p style=\"font-size:small;\">\n",
        "    range function</a>\n",
        "  </p>\n",
        "</div>"
      ]
    },
    {
      "cell_type": "code",
      "execution_count": null,
      "id": "1ec1f4f0",
      "metadata": {
        "id": "1ec1f4f0",
        "outputId": "8ce18295-125d-4747-c335-b68c98986d82"
      },
      "outputs": [
        {
          "name": "stdout",
          "output_type": "stream",
          "text": [
            "For loop 1\n",
            "the number is: 0\n",
            "the number is: 1\n",
            "the number is: 2\n",
            "the number is: 3\n",
            "the number is: 4\n",
            "the number is: 5\n",
            "For loop 2\n",
            "the number is: 2\n",
            "the number is: 3\n",
            "the number is: 4\n",
            "the number is: 5\n",
            "For loop 3\n",
            "the number is: 1\n"
          ]
        }
      ],
      "source": [
        "print(\"For loop 1\")\n",
        "for i in range(6):\n",
        "    print(\"the number is:\", i)\n",
        "\n",
        "print(\"For loop 2\")\n",
        "for j in range(2,6):\n",
        "    print(\"the number is:\", j)\n",
        "\n",
        "print(\"For loop 3\")\n",
        "for k in range(1,4,6):\n",
        "    print(\"the number is:\", k)"
      ]
    },
    {
      "cell_type": "code",
      "execution_count": null,
      "id": "47f2a4f2",
      "metadata": {
        "id": "47f2a4f2",
        "outputId": "431321d7-a6ca-4821-b055-91ecbb13c0b4"
      },
      "outputs": [
        {
          "name": "stdout",
          "output_type": "stream",
          "text": [
            "Help on class range in module builtins:\n",
            "\n",
            "class range(object)\n",
            " |  range(stop) -> range object\n",
            " |  range(start, stop[, step]) -> range object\n",
            " |\n",
            " |  Return an object that produces a sequence of integers from start (inclusive)\n",
            " |  to stop (exclusive) by step.  range(i, j) produces i, i+1, i+2, ..., j-1.\n",
            " |  start defaults to 0, and stop is omitted!  range(4) produces 0, 1, 2, 3.\n",
            " |  These are exactly the valid indices for a list of 4 elements.\n",
            " |  When step is given, it specifies the increment (or decrement).\n",
            " |\n",
            " |  Methods defined here:\n",
            " |\n",
            " |  __bool__(self, /)\n",
            " |      True if self else False\n",
            " |\n",
            " |  __contains__(self, key, /)\n",
            " |      Return bool(key in self).\n",
            " |\n",
            " |  __eq__(self, value, /)\n",
            " |      Return self==value.\n",
            " |\n",
            " |  __ge__(self, value, /)\n",
            " |      Return self>=value.\n",
            " |\n",
            " |  __getattribute__(self, name, /)\n",
            " |      Return getattr(self, name).\n",
            " |\n",
            " |  __getitem__(self, key, /)\n",
            " |      Return self[key].\n",
            " |\n",
            " |  __gt__(self, value, /)\n",
            " |      Return self>value.\n",
            " |\n",
            " |  __hash__(self, /)\n",
            " |      Return hash(self).\n",
            " |\n",
            " |  __iter__(self, /)\n",
            " |      Implement iter(self).\n",
            " |\n",
            " |  __le__(self, value, /)\n",
            " |      Return self<=value.\n",
            " |\n",
            " |  __len__(self, /)\n",
            " |      Return len(self).\n",
            " |\n",
            " |  __lt__(self, value, /)\n",
            " |      Return self<value.\n",
            " |\n",
            " |  __ne__(self, value, /)\n",
            " |      Return self!=value.\n",
            " |\n",
            " |  __reduce__(...)\n",
            " |      Helper for pickle.\n",
            " |\n",
            " |  __repr__(self, /)\n",
            " |      Return repr(self).\n",
            " |\n",
            " |  __reversed__(...)\n",
            " |      Return a reverse iterator.\n",
            " |\n",
            " |  count(...)\n",
            " |      rangeobject.count(value) -> integer -- return number of occurrences of value\n",
            " |\n",
            " |  index(...)\n",
            " |      rangeobject.index(value) -> integer -- return index of value.\n",
            " |      Raise ValueError if the value is not present.\n",
            " |\n",
            " |  ----------------------------------------------------------------------\n",
            " |  Static methods defined here:\n",
            " |\n",
            " |  __new__(*args, **kwargs)\n",
            " |      Create and return a new object.  See help(type) for accurate signature.\n",
            " |\n",
            " |  ----------------------------------------------------------------------\n",
            " |  Data descriptors defined here:\n",
            " |\n",
            " |  start\n",
            " |\n",
            " |  step\n",
            " |\n",
            " |  stop\n",
            "\n"
          ]
        }
      ],
      "source": [
        "# If you are not sure on how to use a function and its syntax, you can always ask for help :)\n",
        "\n",
        "help(range)\n"
      ]
    },
    {
      "cell_type": "markdown",
      "id": "19793953",
      "metadata": {
        "id": "19793953"
      },
      "source": [
        "### 2c. For Loop with `enumerate()`\n",
        "\n",
        "The `enumerate()` function is useful when you need both the **index** and the **value** of each item in a sequence during a loop.\n"
      ]
    },
    {
      "cell_type": "code",
      "execution_count": null,
      "id": "fc86b6e8",
      "metadata": {
        "id": "fc86b6e8",
        "outputId": "a3c4b5fc-f430-47d5-aa17-4cbfb18cc2f6"
      },
      "outputs": [
        {
          "name": "stdout",
          "output_type": "stream",
          "text": [
            "Fruit #1: apple\n",
            "Fruit #2: banana\n",
            "Fruit #3: cherry\n",
            "Fruit #4: date\n"
          ]
        }
      ],
      "source": [
        "fruits = [\"apple\", \"banana\", \"cherry\", \"date\"]\n",
        "\n",
        "for index, fruit in enumerate(fruits):\n",
        "    print(f\"Fruit #{index + 1}: {fruit}\")\n"
      ]
    },
    {
      "cell_type": "markdown",
      "source": [
        "### 2d Specifying a Change of Direction\n",
        "\n",
        "---\n",
        "\n",
        "To change the behavior of conditionals and loops, use the keywords:\n",
        "- __`continue`__: Go to the next iteration of the loop by skiping the remaining code for the current iteration only. The `continue` statement is within the block of code under the loop statement, usually after a `if` statement.\n",
        "- __`break`__:  Terminate a loop when once a specified condition is met. You include the `break` statement within the block of code under your loop statement, usually after a `if` statement.\n",
        "- __`pass`__: Proceed without impacting anything in the loop. It is typically used as a placeholder for future code.\n",
        "\n",
        "\n",
        "| `continue` |\t`break` |\t`pass` |\n",
        "| --- | --- | --- |\n",
        "| Skips only the current iteration of the loop.\t| Terminates the loop.\t| Used to write empty code blocks. |\n",
        "| Used only inside a loop.\t| Used only inside a loop. | Used anywhere in the Python code. |\n",
        "\n",
        "![fig_loops](https://almablog-media.s3.ap-south-1.amazonaws.com/Break_Pass_and_Continue_Statements_in_Python_min_69bb0f487a.png)\n",
        "Image Source [www.almabetter.com](https://www.almabetter.com/bytes/tutorials/python/break-pass-continue-statement-in-python)"
      ],
      "metadata": {
        "id": "mYGyzCGY_VFi"
      },
      "id": "mYGyzCGY_VFi"
    },
    {
      "cell_type": "code",
      "source": [
        "total = 0\n",
        "\n",
        "for number in range(10):\n",
        "    print(f\"number = {number} - total = {total}\")\n",
        "    if total == 5:\n",
        "        pass\n",
        "    total = total + 1\n",
        "\n",
        "print(f\"Final value of total: {total}\")"
      ],
      "metadata": {
        "id": "PRbV15xt_bW-",
        "outputId": "0e4d297c-8e19-48ac-a849-803a672ed185",
        "colab": {
          "base_uri": "https://localhost:8080/"
        }
      },
      "id": "PRbV15xt_bW-",
      "execution_count": null,
      "outputs": [
        {
          "output_type": "stream",
          "name": "stdout",
          "text": [
            "number = 0 - total = 0\n",
            "number = 1 - total = 1\n",
            "number = 2 - total = 2\n",
            "number = 3 - total = 3\n",
            "number = 4 - total = 4\n",
            "number = 5 - total = 5\n",
            "number = 6 - total = 6\n",
            "number = 7 - total = 7\n",
            "number = 8 - total = 8\n",
            "number = 9 - total = 9\n",
            "Final value of total: 10\n"
          ]
        }
      ]
    },
    {
      "cell_type": "code",
      "source": [
        "total = 0\n",
        "\n",
        "for number in range(10):\n",
        "    print(f\"number = {number} - total = {total}\")\n",
        "    if total == 5:\n",
        "        continue\n",
        "    total = total + 1\n",
        "\n",
        "print(f\"Final value of total: {total}\")"
      ],
      "metadata": {
        "id": "9dZBuDRo_bOu",
        "outputId": "860468c2-1900-4696-e269-3c398f507c43",
        "colab": {
          "base_uri": "https://localhost:8080/"
        }
      },
      "id": "9dZBuDRo_bOu",
      "execution_count": null,
      "outputs": [
        {
          "output_type": "stream",
          "name": "stdout",
          "text": [
            "number = 0 - total = 0\n",
            "number = 1 - total = 1\n",
            "number = 2 - total = 2\n",
            "number = 3 - total = 3\n",
            "number = 4 - total = 4\n",
            "number = 5 - total = 5\n",
            "number = 6 - total = 5\n",
            "number = 7 - total = 5\n",
            "number = 8 - total = 5\n",
            "number = 9 - total = 5\n",
            "Final value of total: 5\n"
          ]
        }
      ]
    },
    {
      "cell_type": "code",
      "source": [
        "total = 0\n",
        "\n",
        "for number in range(10):\n",
        "    print(f\"number = {number} - total = {total}\")\n",
        "    if total == 5:\n",
        "        break\n",
        "    total = total + 1\n",
        "\n",
        "print(f\"Final value of total: {total}\")"
      ],
      "metadata": {
        "id": "2XdhePHs_bMQ",
        "outputId": "3afd6b74-53df-4e41-a774-04096e947b0a",
        "colab": {
          "base_uri": "https://localhost:8080/"
        }
      },
      "id": "2XdhePHs_bMQ",
      "execution_count": null,
      "outputs": [
        {
          "output_type": "stream",
          "name": "stdout",
          "text": [
            "number = 0 - total = 0\n",
            "number = 1 - total = 1\n",
            "number = 2 - total = 2\n",
            "number = 3 - total = 3\n",
            "number = 4 - total = 4\n",
            "number = 5 - total = 5\n",
            "Final value of total: 5\n"
          ]
        }
      ]
    },
    {
      "cell_type": "markdown",
      "source": [
        "### Exercsie\n",
        "\n",
        "Print all the numbers from the output of `range(50)` backwards starting with 49 down to 7.\n",
        "\n",
        "<p>\n",
        "\n",
        "<details><summary><b>CLICK HERE TO ACCESS THE SOLUTION</b></summary>\n",
        "<p>\n",
        "    \n",
        "```python\n",
        "n = 50\n",
        "for i in range(n):\n",
        "    m = n-i-1\n",
        "    if m>6:\n",
        "        print(m)\n",
        "```\n",
        "\n",
        "</p>\n",
        "</details>"
      ],
      "metadata": {
        "id": "5HwSA-xQ_jMR"
      },
      "id": "5HwSA-xQ_jMR"
    },
    {
      "cell_type": "markdown",
      "source": [
        "### Excerise\n",
        "If you excute the code segment:\n",
        "\n",
        "```python\n",
        "       import random\n",
        "       print(random.choice(['T', 'H']))\n",
        "```\n",
        "\n",
        "you will get either `'T'` or `'H'`.\n",
        "\n",
        "Write a program that simulates the experiment of flipping of a coin:\n",
        "- Perform the experiment 1000 times, and\n",
        "- Print the total numbers of Heads (`'H'`) and  Tails (`'T'`).\n",
        "\n",
        "<p>\n",
        "<p>\n",
        "\n",
        "<details><summary><b>CLICK HERE TO ACCESS THE SOLUTION</b></summary>\n",
        "<p>\n",
        "    \n",
        "```python\n",
        "import random\n",
        "\n",
        "ntrials = 1000\n",
        "nheads = 0\n",
        "ntails = 0\n",
        "for i in range(ntrials):\n",
        "    outcome = random.choice(['T', 'H'])\n",
        "    if outcome == 'T':\n",
        "        ntails += 1\n",
        "    else:\n",
        "        nheads += 1\n",
        "        \n",
        "print(f'There were {ntrials} trials: \\n\\t {ntails} Tails \\n\\t {nheads} Heads.')\n",
        "```\n",
        "\n",
        "</p>\n",
        "</details>\n"
      ],
      "metadata": {
        "id": "nOCvemBbBRHA"
      },
      "id": "nOCvemBbBRHA"
    },
    {
      "cell_type": "markdown",
      "source": [
        "### `for` Loop with `else` Statement</font>\n",
        "\n",
        "```python\n",
        "for <variable> in <sequence>:\n",
        "\t<statements>\n",
        "else:\n",
        "\t<statements>\n",
        "```\n",
        "\n",
        "+ The `else` block will be executed only if the loop hasn't been \"broken\" by a break statement.\n",
        "   - It will only be executed, after all the items of the sequence in the header have been used."
      ],
      "metadata": {
        "id": "uBYtDbyQBf-P"
      },
      "id": "uBYtDbyQBf-P"
    },
    {
      "cell_type": "code",
      "source": [
        "edibles = [\"ham\", \"spam\", \"eggs\", \"nuts\"]\n",
        "for food in edibles:\n",
        "    if food == \"spam\":\n",
        "        print(\"No more spam please!\")\n",
        "        break\n",
        "    print(f\"Great, delicious {food}\")\n",
        "else:\n",
        "    print(\"I am so glad: No spam!\")\n",
        "print(\"Finally, I finished stuffing myself\")"
      ],
      "metadata": {
        "id": "a7t5UTUZBn9t",
        "outputId": "0837614c-6c46-49ac-9a9e-a69b3cca7a06",
        "colab": {
          "base_uri": "https://localhost:8080/"
        }
      },
      "id": "a7t5UTUZBn9t",
      "execution_count": null,
      "outputs": [
        {
          "output_type": "stream",
          "name": "stdout",
          "text": [
            "Great, delicious ham\n",
            "No more spam please!\n",
            "Finally, I finished stuffing myself\n"
          ]
        }
      ]
    },
    {
      "cell_type": "markdown",
      "id": "d9359e52",
      "metadata": {
        "id": "d9359e52"
      },
      "source": [
        "## 3. Repetition Loop: While Loop"
      ]
    },
    {
      "cell_type": "markdown",
      "id": "fd91be2d",
      "metadata": {
        "id": "fd91be2d"
      },
      "source": [
        "The `while` Loop in Python\n",
        "\n",
        "A `while` loop is used when you want to repeat an action until a condition is no longer true.  \n",
        "This is useful when the number of iterations is not known in advance.\n",
        "\n",
        "- **Caution**: If the condition never becomes false, the loop will run forever.\n",
        "\n",
        "<div align=\"center\">\n",
        "  <img src=\"https://github.com/haboalr/python101/blob/main/notebooks/figures/fig5.png?raw=1\" alt=\"While Loop Diagram\" width=\"500\"/>\n",
        "</div>\n"
      ]
    },
    {
      "cell_type": "code",
      "execution_count": null,
      "id": "bad039c4",
      "metadata": {
        "id": "bad039c4",
        "outputId": "1e19a0c8-b96a-4dd7-da01-4e71bc8ada61"
      },
      "outputs": [
        {
          "name": "stdout",
          "output_type": "stream",
          "text": [
            "the current count is: 0\n",
            "the current count is: 1\n",
            "the current count is: 2\n",
            "the current count is: 3\n",
            "the current count is: 4\n"
          ]
        }
      ],
      "source": [
        "# example for a while loop\n",
        "count = 0\n",
        "while count < 5:\n",
        "    print(\"the current count is:\",count)\n",
        "    count += 1  # count = count + 1 can be shortened as count += 1"
      ]
    },
    {
      "cell_type": "markdown",
      "id": "7d4514d5",
      "metadata": {
        "id": "7d4514d5"
      },
      "source": [
        "The loop runs as long as `count` is less than 5. In each iteration, the value of `count` is increased by 1.  \n",
        "The condition `count < 5` is checked before each iteration.  \n",
        "If the condition is no longer met, the loop ends. This happens once the variable count = 5.  "
      ]
    },
    {
      "cell_type": "markdown",
      "id": "2b344c06",
      "metadata": {
        "id": "2b344c06"
      },
      "source": [
        "### 3b. While Loop with `break`"
      ]
    },
    {
      "cell_type": "markdown",
      "id": "359dd51d",
      "metadata": {
        "id": "359dd51d"
      },
      "source": [
        "Python does not have a direct implementation of a DO-WHILE loop that is guaranteed to run at least once.\n",
        "By combining a while loop with a break condition, this can still be achieved.\n",
        "\n",
        "The following example shows how to implement a do-while loop in Python.\n",
        "The loop is executed at least once before checking the condition whether x >= 5."
      ]
    },
    {
      "cell_type": "code",
      "execution_count": null,
      "id": "ad8697b8",
      "metadata": {
        "id": "ad8697b8",
        "outputId": "8164fe2c-2968-446f-efbf-33d5be693da0"
      },
      "outputs": [
        {
          "name": "stdout",
          "output_type": "stream",
          "text": [
            "the current value of x is: 0\n",
            "the current value of x is: 1\n",
            "the current value of x is: 2\n",
            "the current value of x is: 3\n",
            "the current value of x is: 4\n",
            "Breaking the loop as x is now: 5\n"
          ]
        }
      ],
      "source": [
        "x = 0\n",
        "while True:\n",
        "    print(\"the current value of x is:\", x)\n",
        "    x += 1\n",
        "    if x >= 5:\n",
        "        print(\"Breaking the loop as x is now:\", x)\n",
        "        break"
      ]
    },
    {
      "cell_type": "markdown",
      "id": "e16d8168",
      "metadata": {
        "id": "e16d8168"
      },
      "source": [
        "### 3c. While Loop with `continue`"
      ]
    },
    {
      "cell_type": "code",
      "execution_count": null,
      "id": "6e236294",
      "metadata": {
        "id": "6e236294",
        "outputId": "1aee442b-5802-458b-a6ae-e84b9527b90d"
      },
      "outputs": [
        {
          "name": "stdout",
          "output_type": "stream",
          "text": [
            "the current value of i is: 1\n",
            "the current value of i is: 2\n",
            "Skipping the number 3\n",
            "the current value of i is: 4\n",
            "the current value of i is: 5\n"
          ]
        }
      ],
      "source": [
        "i = 0\n",
        "\n",
        "while i < 5:\n",
        "    i += 1\n",
        "    if i == 3:\n",
        "        print(\"Skipping the number 3\")\n",
        "        continue\n",
        "    print(\"the current value of i is:\", i)"
      ]
    },
    {
      "cell_type": "markdown",
      "id": "b47aae44",
      "metadata": {
        "id": "b47aae44"
      },
      "source": [
        "The `continue` statement skips the rest of the code in the loop for the current iteration.\n",
        "\n",
        "In this example, when `i == 3`, the loop skips printing and continues to the next iteration."
      ]
    },
    {
      "cell_type": "markdown",
      "id": "0e119323",
      "metadata": {
        "id": "0e119323"
      },
      "source": [
        "### 3d. Infinite Loops"
      ]
    },
    {
      "cell_type": "markdown",
      "id": "cfe6a552",
      "metadata": {
        "id": "cfe6a552"
      },
      "source": [
        "Be careful with `while` loops that never end. This happens when the condition is always `True`  \n",
        "and there is no way to exit the loop.  \n",
        "\n",
        "The loop above below run forever because the condition `True` is always satisfied.  \n",
        "Such loops are often used in programs that wait for user input or an event,\n",
        "but there must be a way to exit the loop."
      ]
    },
    {
      "cell_type": "code",
      "execution_count": null,
      "id": "c86f3a48",
      "metadata": {
        "id": "c86f3a48"
      },
      "outputs": [],
      "source": [
        "# ### MUST BE TERMINATED MANUALLY... CONSOLE RED SQUARE !!!! ONLY UNCOMMENT IF YOU KNOW WHAT YOU ARE DOING!\n",
        "\n",
        "# Example of a potentially infinite loop (Do not run!)\n",
        "# while True:\n",
        "#     print(\"This is an infinite loop!`\")"
      ]
    },
    {
      "cell_type": "markdown",
      "id": "7e4a4ef3",
      "metadata": {
        "id": "7e4a4ef3"
      },
      "source": [
        "## Comparison: `for` Loop vs `while` Loop\n",
        "\n",
        "The diagram below shows the difference in flow between `for` and `while` loops.\n",
        "\n",
        "<div align=\"center\">\n",
        "  <img src=\"https://github.com/haboalr/python101/blob/main/notebooks/figures/fig6.png?raw=1\" alt=\"For vs While Loop Flowchart\" width=\"600\"/>\n",
        "</div>\n",
        "\n",
        "**Explanation:**\n",
        "\n",
        "- A `for` loop checks if there are items left in a sequence. If so, it runs the block of code and automatically moves to the next item. Once the last item is reached, it ends.\n",
        "- A `while` loop checks a condition. If the condition is `True`, it keeps executing the block of code. It stops **only** when the condition becomes `False`.\n",
        "\n",
        "Use `for` loops when the number of iterations is known or you’re working with a sequence.  \n",
        "Use `while` loops when the number of repetitions is unknown and depends on a condition.\n"
      ]
    },
    {
      "cell_type": "markdown",
      "id": "1e75905c",
      "metadata": {
        "id": "1e75905c"
      },
      "source": [
        "## 4. Nested Structures"
      ]
    },
    {
      "cell_type": "markdown",
      "id": "90fdc64b",
      "metadata": {
        "id": "90fdc64b"
      },
      "source": [
        "Control structures can also be nested to allow more complex logic."
      ]
    },
    {
      "cell_type": "code",
      "execution_count": null,
      "id": "1f3cfa52",
      "metadata": {
        "id": "1f3cfa52",
        "outputId": "f9b3c5bd-ca88-4e68-8f90-b95af178c9d6"
      },
      "outputs": [
        {
          "name": "stdout",
          "output_type": "stream",
          "text": [
            "1 is odd\n",
            "2 is even\n",
            "3 is odd\n",
            "4 is even\n",
            "5 is odd\n",
            "6 is even\n"
          ]
        }
      ],
      "source": [
        "# Example of a nested if and for loop\n",
        "numbers = [1, 2, 3, 4, 5, 6]\n",
        "\n",
        "#we iterate over the list and check if the number is even or odd\n",
        "\n",
        "for num in numbers:\n",
        "    if num % 2 == 0:\n",
        "        print(num, \"is even\")\n",
        "    else:\n",
        "        print(num, \"is odd\")\n"
      ]
    },
    {
      "cell_type": "markdown",
      "id": "f7524ac0",
      "metadata": {
        "id": "f7524ac0"
      },
      "source": [
        "Here, in each iteration of the for loop, the if condition is checked to determine\n",
        "whether a number is even or odd."
      ]
    },
    {
      "cell_type": "code",
      "execution_count": null,
      "id": "18ab4180",
      "metadata": {
        "id": "18ab4180",
        "outputId": "ac234a3d-b0bf-40ed-c457-fb35f192cda7"
      },
      "outputs": [
        {
          "name": "stdout",
          "output_type": "stream",
          "text": [
            "Alice has a good grade: 85.5\n",
            "Bob has a good grade: 90.0\n",
            "Carol has an average grade: 78.0\n"
          ]
        }
      ],
      "source": [
        "students = [\n",
        "    {\"name\": \"Alice\", \"grade\": 85.5},\n",
        "    {\"name\": \"Bob\", \"grade\": 90.0},\n",
        "    {\"name\": \"Carol\", \"grade\": 78.0},\n",
        "]\n",
        "\n",
        "for student in students:\n",
        "    if student[\"grade\"] >= 80:\n",
        "        print(student[\"name\"], \"has a good grade:\", student[\"grade\"])\n",
        "    elif student[\"grade\"] >= 70:\n",
        "        print(student[\"name\"], \"has an average grade:\", student[\"grade\"])\n",
        "    else:\n",
        "        print(student[\"name\"], \"needs improvement:\", student[\"grade\"])"
      ]
    },
    {
      "cell_type": "markdown",
      "id": "d2dee724",
      "metadata": {
        "id": "d2dee724"
      },
      "source": [
        "--  \n",
        "In the example above, we have a list called `students`.  \n",
        "Each element is a dictionary with two keys: `\"name\"` and `\"grade\"`.\n",
        "\n",
        "We use a `for` loop to go through each dictionary (i.e. each student), and then:\n",
        "\n",
        "- Check the `grade` value using conditional statements.\n",
        "- Print a message with the student's name and their grade.\n",
        "\n",
        "This shows that `for` loops can be used to work with structured data — not just numbers or simple lists.\n",
        "\n",
        "**What happens here:**\n",
        "- The loop runs 3 times (once per student).\n",
        "- In each iteration, the variable `student` holds one dictionary.\n",
        "- The program accesses data inside each dictionary using keys like `student[\"name\"]`.\n"
      ]
    },
    {
      "cell_type": "markdown",
      "id": "4936d724",
      "metadata": {
        "id": "4936d724"
      },
      "source": [
        "\n",
        "## References\n",
        "\n",
        "1. [DataCamp – Introduction to Python for Data Science](https://www.datacamp.com/courses/intro-to-python-for-data-science?utm_cid=22785184694&utm_aid=185890095721&utm_campaign=220808_1-ps-brd~brd~branded-variations_2-b2c_3-emea_4-rtw_5-na_6-na_7-le_8-pdsh-go_9-b-e_10-na_11-na&utm_loc=9041859-&utm_mtd=e-c&utm_kw=datacamp%20python%20course&utm_source=google&utm_medium=paid_search&utm_content=ps-other~emea-en~brd~tech~python&gad_source=1&gad_campaignid=22785184694&gbraid=0AAAAADQ9WsFGbwt0khugCn-zS_JkuMAfh&gclid=CjwKCAjwy7HEBhBJEiwA5hQNothFvZtzAJZuYzMvsuZIdqptprOQa2hdhbdrVfwN7K09czVXQu-7ihoC4ScQAvD_BwE)\n",
        "\n",
        "2. [HS Offenburg – Introductory to Python course materials](https://elearning.hs-offenburg.de/moodle/course/view.php?id=6551)"
      ]
    }
  ],
  "metadata": {
    "kernelspec": {
      "display_name": "base",
      "language": "python",
      "name": "python3"
    },
    "language_info": {
      "codemirror_mode": {
        "name": "ipython",
        "version": 3
      },
      "file_extension": ".py",
      "mimetype": "text/x-python",
      "name": "python",
      "nbconvert_exporter": "python",
      "pygments_lexer": "ipython3",
      "version": "3.12.3"
    },
    "colab": {
      "provenance": [],
      "toc_visible": true
    }
  },
  "nbformat": 4,
  "nbformat_minor": 5
}