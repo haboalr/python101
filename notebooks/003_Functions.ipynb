{
  "cells": [
    {
      "cell_type": "markdown",
      "id": "b40f4532",
      "metadata": {
        "id": "b40f4532"
      },
      "source": [
        "# Functions in Python\n",
        "\n",
        "### Learning Objectives\n",
        "- Understand what functions are and why they are used\n",
        "- Define and call functions in Python\n",
        "- Use parameters, return values, and optional arguments\n",
        "- Work with multiple return values\n",
        "- Understand keyword arguments and default values\n",
        "---"
      ]
    },
    {
      "cell_type": "markdown",
      "source": [
        "Useful Links\n",
        "\n",
        "- <a href=\"https://www.tutorialspoint.com/python/python_functions.htm\"> Python - Functions</a>\n",
        "- <a href=\"https://realpython.com/defining-your-own-python-function/\"> Defining Your Own Python Function</a>"
      ],
      "metadata": {
        "id": "ciojM6aDTEcz"
      },
      "id": "ciojM6aDTEcz"
    },
    {
      "cell_type": "markdown",
      "id": "734bd86c",
      "metadata": {
        "id": "734bd86c"
      },
      "source": [
        "\n",
        "Functions are a fundamental concept in programming and play a central role in structuring\n",
        "and reusing code. They allow logical units to be created that perform a specific task.\n",
        "This promotes the readability, maintainability, and modularity of a program.\n",
        "\n",
        "![fig_function](https://qph.cf2.quoracdn.net/main-qimg-0dc8b1a7c117026f1a285cd0feb456fa.webp)\n",
        "\n",
        "- The basic principle of a function is simple: A function receives input values (called parameters),\n",
        "performs defined operations, and returns a result.\n",
        "\n",
        "- Functions can be used multiple times in code, which avoids redundancy and reduces programming effort.\n",
        "A well-structured use of functions makes it easier to break large programs into smaller, manageable parts that are easy to test\n",
        "and maintain.\n",
        "\n",
        "- Moreover, functions offer flexibility by handling different types and numbers of inputs as well as\n",
        "multiple outputs. This is especially useful in more complex programs requiring diverse\n",
        "calculations or actions.\n",
        "\n",
        "\n"
      ]
    },
    {
      "cell_type": "markdown",
      "id": "505af30c",
      "metadata": {
        "id": "505af30c"
      },
      "source": [
        "\n",
        "### Types of Functions in Python\n",
        "\n",
        "Python provides several types of functions:\n",
        "\n",
        "- **Built-in Functions**: These are readily available in Python without the need for import. Examples include `sum()`, `len()`, `max()`, `min()`, `all()`, and `any()`.\n",
        "- **User-defined Functions**: Functions that you create using the `def` keyword.\n",
        "- **Lambda Functions**: Anonymous, small functions defined using the `lambda` keyword. Useful for simple operations.\n",
        "- **Recursive Functions**: Functions that call themselves. Useful in certain mathematical or algorithmic problems.\n"
      ]
    },
    {
      "cell_type": "markdown",
      "id": "59c75585",
      "metadata": {
        "id": "59c75585"
      },
      "source": [
        "## Example: A simple function with no parameters and no return value"
      ]
    },
    {
      "cell_type": "markdown",
      "id": "1df717d3",
      "metadata": {
        "id": "1df717d3"
      },
      "source": [
        "A function in Python is defined using the `def` keyword and consists of several key components:\n",
        "\n",
        "**Function components:**\n",
        "- **Name**: Identifies the function (e.g., `square`)\n",
        "- **Parameter(s)**: Input(s) passed into the function (e.g., `x`)\n",
        "- **Docstring**: A string inside triple quotes that explains what the function does (optional but recommended)\n",
        "- **Body**: The block of code that performs operations (indented under the function definition)\n",
        "- **Return statement**: (Optional) Sends back a value to the caller\n",
        "\n",
        "```python\n",
        "def function_name([<arguments>]):\n",
        "    \"\"\"function_docstring\"\"\"\n",
        "    <function_statement(s)>\n",
        "    return [expression]\n",
        "```\n",
        "\n",
        "<div align=\"center\">\n",
        "  <img src=\"https://github.com/haboalr/python101/blob/main/notebooks/figures/function.png?raw=1\" alt=\"Function structure overview\" width=\"650\"/>\n",
        "  <p style=\"font-size:small;\">\n",
        "    Function structure overview</a>\n",
        "  </p>\n",
        "</div>\n"
      ]
    },
    {
      "cell_type": "code",
      "execution_count": null,
      "id": "85256f67",
      "metadata": {
        "id": "85256f67"
      },
      "outputs": [],
      "source": [
        "def hello_world():\n",
        "    \"\"\"This function simply prints 'Hello, World!\n",
        "    it takes no input (parameters) and returns nothing.\"\"\"\n",
        "    print(\"Hello, World!\")"
      ]
    },
    {
      "cell_type": "code",
      "execution_count": null,
      "id": "8cebafb1",
      "metadata": {
        "id": "8cebafb1",
        "outputId": "9ef18495-034b-4a53-ce33-50d42aadf8d8"
      },
      "outputs": [
        {
          "name": "stdout",
          "output_type": "stream",
          "text": [
            "Hello, World!\n"
          ]
        }
      ],
      "source": [
        "# calling the function\n",
        "hello_world()"
      ]
    },
    {
      "cell_type": "markdown",
      "id": "940fe40a",
      "metadata": {
        "id": "940fe40a"
      },
      "source": [
        "## Example: A function with one input value and one return value"
      ]
    },
    {
      "cell_type": "code",
      "execution_count": 8,
      "id": "fd860a37",
      "metadata": {
        "id": "fd860a37"
      },
      "outputs": [],
      "source": [
        "def quadrat(x):\n",
        "    \"\"\"This function takes a number x as input and returns its square.\"\"\"\n",
        "    return x * x\n",
        "# or\n",
        "# def quadrat(x):\n",
        "  #return x **2"
      ]
    },
    {
      "cell_type": "code",
      "source": [
        "def quadrat_(x):\n",
        "    print(x * x)"
      ],
      "metadata": {
        "id": "7Slq77U1Vbu2"
      },
      "id": "7Slq77U1Vbu2",
      "execution_count": 12,
      "outputs": []
    },
    {
      "cell_type": "code",
      "execution_count": 16,
      "id": "aa8e6f0a",
      "metadata": {
        "colab": {
          "base_uri": "https://localhost:8080/"
        },
        "id": "aa8e6f0a",
        "outputId": "a4a581b0-6af7-46e4-a5bf-d00bc6ef3338"
      },
      "outputs": [
        {
          "output_type": "stream",
          "name": "stdout",
          "text": [
            "The square of 5 is: 36\n",
            "36\n",
            "The square of 5 is: None\n"
          ]
        }
      ],
      "source": [
        "#calling the function with a value\n",
        "result = quadrat(6)\n",
        "print(f\"The square of 5 is: {result}\")\n",
        "result = quadrat_(6)\n",
        "print(f\"The square of 5 is: {result}\")\n",
        "\n",
        "# without using return you can't store the value to use later :)"
      ]
    },
    {
      "cell_type": "code",
      "source": [
        "# This will cause an error:\n",
        "result = quadrat('b')\n",
        "\n",
        "# Why?\n",
        "# Because:\n",
        "# - 'b' is a string, not a number\n",
        "# - Python only allows: string * integer  (e.g. \"b\" * 3 → \"bbb\")\n",
        "# - But here it's trying to do: \"b\" * \"b\"\n",
        "# - Multiplying two strings makes no sense in Python\n",
        "# → TypeError"
      ],
      "metadata": {
        "colab": {
          "base_uri": "https://localhost:8080/",
          "height": 314
        },
        "id": "c85x6Pp5T6vC",
        "outputId": "766c9f03-1235-4a0c-d012-1040381c9197"
      },
      "id": "c85x6Pp5T6vC",
      "execution_count": 19,
      "outputs": [
        {
          "output_type": "error",
          "ename": "TypeError",
          "evalue": "can't multiply sequence by non-int of type 'str'",
          "traceback": [
            "\u001b[0;31m---------------------------------------------------------------------------\u001b[0m",
            "\u001b[0;31mTypeError\u001b[0m                                 Traceback (most recent call last)",
            "\u001b[0;32m/tmp/ipython-input-238975731.py\u001b[0m in \u001b[0;36m<cell line: 0>\u001b[0;34m()\u001b[0m\n\u001b[1;32m      1\u001b[0m \u001b[0;31m# This will cause an error:\u001b[0m\u001b[0;34m\u001b[0m\u001b[0;34m\u001b[0m\u001b[0m\n\u001b[0;32m----> 2\u001b[0;31m \u001b[0mresult\u001b[0m \u001b[0;34m=\u001b[0m \u001b[0mquadrat\u001b[0m\u001b[0;34m(\u001b[0m\u001b[0;34m'b'\u001b[0m\u001b[0;34m)\u001b[0m\u001b[0;34m\u001b[0m\u001b[0;34m\u001b[0m\u001b[0m\n\u001b[0m\u001b[1;32m      3\u001b[0m \u001b[0;34m\u001b[0m\u001b[0m\n\u001b[1;32m      4\u001b[0m \u001b[0;31m# Why?\u001b[0m\u001b[0;34m\u001b[0m\u001b[0;34m\u001b[0m\u001b[0m\n\u001b[1;32m      5\u001b[0m \u001b[0;31m# Because:\u001b[0m\u001b[0;34m\u001b[0m\u001b[0;34m\u001b[0m\u001b[0m\n",
            "\u001b[0;32m/tmp/ipython-input-2296216586.py\u001b[0m in \u001b[0;36mquadrat\u001b[0;34m(x)\u001b[0m\n\u001b[1;32m      1\u001b[0m \u001b[0;32mdef\u001b[0m \u001b[0mquadrat\u001b[0m\u001b[0;34m(\u001b[0m\u001b[0mx\u001b[0m\u001b[0;34m)\u001b[0m\u001b[0;34m:\u001b[0m\u001b[0;34m\u001b[0m\u001b[0;34m\u001b[0m\u001b[0m\n\u001b[1;32m      2\u001b[0m     \u001b[0;34m\"\"\"This function takes a number x as input and returns its square.\"\"\"\u001b[0m\u001b[0;34m\u001b[0m\u001b[0;34m\u001b[0m\u001b[0m\n\u001b[0;32m----> 3\u001b[0;31m     \u001b[0;32mreturn\u001b[0m \u001b[0mx\u001b[0m \u001b[0;34m*\u001b[0m \u001b[0mx\u001b[0m\u001b[0;34m\u001b[0m\u001b[0;34m\u001b[0m\u001b[0m\n\u001b[0m",
            "\u001b[0;31mTypeError\u001b[0m: can't multiply sequence by non-int of type 'str'"
          ]
        }
      ]
    },
    {
      "cell_type": "markdown",
      "id": "fb813b9e",
      "metadata": {
        "id": "fb813b9e"
      },
      "source": [
        "## Example: Function with multiple input values and one return value"
      ]
    },
    {
      "cell_type": "code",
      "execution_count": null,
      "id": "6107bb0d",
      "metadata": {
        "id": "6107bb0d"
      },
      "outputs": [],
      "source": [
        "def addition(a,b):\n",
        "    \"\"\"this function takes two numbers a and b as input and returns their sum.\n",
        "       Inputs: a - the first number, b - the second number.\n",
        "       Returns: the sum of a and b.\n",
        "       \"\"\"\n",
        "    return a + b"
      ]
    },
    {
      "cell_type": "code",
      "execution_count": null,
      "id": "e8b7589c",
      "metadata": {
        "id": "e8b7589c",
        "outputId": "8d3734af-6c13-4948-c2d1-82a6fb2a521e"
      },
      "outputs": [
        {
          "name": "stdout",
          "output_type": "stream",
          "text": [
            "the sum of 3 and 5 is 8\n"
          ]
        }
      ],
      "source": [
        "# calling the function with two values\n",
        "summation = addition(3, 5)\n",
        "print(\"the sum of 3 and 5 is\", summation)"
      ]
    },
    {
      "cell_type": "markdown",
      "id": "4584a07f",
      "metadata": {
        "id": "4584a07f"
      },
      "source": [
        "## Example: Function with multiple inputs and multiple return values\n",
        " This function performs several operations on two inputs (sum, difference, product, quotient)  \n",
        " and returns all of them. It also demonstrates calling another function (addition) within it."
      ]
    },
    {
      "cell_type": "code",
      "execution_count": null,
      "id": "6d4651fb",
      "metadata": {
        "id": "6d4651fb"
      },
      "outputs": [],
      "source": [
        "def basic_operations(a, b):\n",
        "    \"\"\"This function takes two numbers a and ab and return their sum, difference, product, and quotient.\n",
        "       Note: the function calls the function addition defined above.\n",
        "       Inputs: a - the first number, b - the second number.\n",
        "       Returns: the sum, difference, product, and quotient of a and b.\"\"\"\n",
        "\n",
        "    summation = addition(a, b) # calling the addition function from above\n",
        "    difference = a -b\n",
        "    product = a * b\n",
        "    if b != 0:\n",
        "        quotient = a / b\n",
        "    else:\n",
        "        quotient = None\n",
        "    return summation,difference,product, quotient"
      ]
    },
    {
      "cell_type": "code",
      "execution_count": null,
      "id": "68988997",
      "metadata": {
        "id": "68988997",
        "outputId": "c4e93a8d-c15a-43d3-a240-0ae19e5de466"
      },
      "outputs": [
        {
          "name": "stdout",
          "output_type": "stream",
          "text": [
            "Sum: 15 Difference: 5 Product: 50 Quotient: 2.0\n"
          ]
        }
      ],
      "source": [
        "# calling the function with two values and returning multiple results\n",
        "summation, difference, product, quotient = basic_operations(10, 5)\n",
        "print(\"Sum:\", summation, \"Difference:\", difference, \"Product:\", product, \"Quotient:\", quotient)"
      ]
    },
    {
      "cell_type": "markdown",
      "id": "f5a3f83d",
      "metadata": {
        "id": "f5a3f83d"
      },
      "source": [
        "## Example: Function with optional input values (default parameters)\n",
        " In this example, the function has a default value for one of its parameters.  \n",
        " If the caller does not provide this value, the default is used instead.  "
      ]
    },
    {
      "cell_type": "code",
      "execution_count": null,
      "id": "9f3fa4d3",
      "metadata": {
        "id": "9f3fa4d3"
      },
      "outputs": [],
      "source": [
        "def greet(name, greeting=\"Hello\"):\n",
        "    \"\"\"This function takes a name and an optional greeting.\n",
        "       If no greeting is provided, it defaults to 'Hello'.\n",
        "       Inputs: name - the name of the person, greeting - the greeting message (default is 'Hello').\"\"\"\n",
        "\n",
        "    return greeting + \", \" + name + \"!\""
      ]
    },
    {
      "cell_type": "code",
      "execution_count": null,
      "id": "855e3b1f",
      "metadata": {
        "id": "855e3b1f",
        "outputId": "1980e335-51b8-4be7-908e-98226c31b43e"
      },
      "outputs": [
        {
          "name": "stdout",
          "output_type": "stream",
          "text": [
            "Hello, Alice!\n",
            "Hi, Bob!\n"
          ]
        }
      ],
      "source": [
        "# calling the function with and without the optional parameter\n",
        "print(greet(\"Alice\"))\n",
        "print(greet(\"Bob\", \"Hi\"))"
      ]
    },
    {
      "cell_type": "markdown",
      "id": "e5b7a719",
      "metadata": {
        "id": "e5b7a719"
      },
      "source": [
        "## Example: Arguments of fucntions\n",
        "\n",
        "When calling a function, you don’t always have to rely on the order of the inputs.  \n",
        "With **arguments**, you can tell Python exactly which value belongs to which parameter by using the parameter name.  \n",
        "This makes your code easier to read and avoids mistakes when there are many arguments.  \n",
        "\n",
        "In general, functions can accept different kinds of arguments inside the `()`:\n",
        "\n",
        "* No arguments – the function doesn’t need any input  \n",
        "* **Positional arguments** – values passed in a specific order (order matters!)  \n",
        "* **Keyword arguments** – variables are matched by name, not position (they can also have default values)  \n",
        "* **Arbitrary arguments** – when you don’t know how many inputs will be given  \n",
        "  * `*args` → collects a variable-length list of positional arguments into a tuple  \n",
        "  * `**kwargs` → collects a variable-length list of keyword arguments into a dictionary  \n"
      ]
    },
    {
      "cell_type": "code",
      "source": [
        "# No argument\n",
        "def tempreature_check():\n",
        "    temp = float(input(\"Enter the tempreature in °C: \"))\n",
        "    if temp < 0:\n",
        "       print(f\"{temp} --> Freezing weather\")\n",
        "    elif temp < 25:\n",
        "       print(f\"{temp} --> Normal weather\")\n",
        "    else:\n",
        "       print(f\"{temp} --> Hot weather\")\n",
        ""
      ],
      "metadata": {
        "id": "ojmJIZ9HX3i_"
      },
      "id": "ojmJIZ9HX3i_",
      "execution_count": 20,
      "outputs": []
    },
    {
      "cell_type": "code",
      "source": [
        "tempreature_check()"
      ],
      "metadata": {
        "id": "pNyX2sOeYvZV",
        "outputId": "b1429e60-78c9-4766-b9a7-809fd37e5a60",
        "colab": {
          "base_uri": "https://localhost:8080/"
        }
      },
      "id": "pNyX2sOeYvZV",
      "execution_count": 21,
      "outputs": [
        {
          "output_type": "stream",
          "name": "stdout",
          "text": [
            "Enter the tempreature in °C: -1\n",
            "-1.0 --> Freezing weather\n"
          ]
        }
      ]
    },
    {
      "cell_type": "code",
      "execution_count": 26,
      "id": "59dd3472",
      "metadata": {
        "id": "59dd3472"
      },
      "outputs": [],
      "source": [
        "#Positional arguements\n",
        "def user_details(name,age,city):\n",
        "    \"\"\"This function takes three values:name, age, and city.\n",
        "       It returns a formatted string with the user's details.\n",
        "       Inputs:\n",
        "       name - the name of the user,\n",
        "       age - the age of the user,\n",
        "       city - the city where the user lives.\n",
        "       Returns: a formatted string with the user's details.\"\"\"\n",
        "\n",
        "    return \"Name:\" + name + \", Age: \" + str(age) + \", City: \" + city"
      ]
    },
    {
      "cell_type": "code",
      "execution_count": 29,
      "id": "8283c28d",
      "metadata": {
        "colab": {
          "base_uri": "https://localhost:8080/"
        },
        "id": "8283c28d",
        "outputId": "d68fbc87-d2b8-405d-87f4-0ff17ec58288"
      },
      "outputs": [
        {
          "output_type": "stream",
          "name": "stdout",
          "text": [
            "Name:Lisa, Age: 25, City: Offenburg\n"
          ]
        }
      ],
      "source": [
        "# Calling the function with keyword arguments\n",
        "profil = user_details(name=\"Lisa\", age=25, city=\"Offenburg\") # order does not matter when you specifiy the keyword arg\n",
        "print(profil)\n",
        "\n",
        "# profil = user_details(\"Lisa\", 25, \"Offenburg\") ---> this is possible too but order matters here :)"
      ]
    },
    {
      "cell_type": "markdown",
      "source": [
        "## Function annotation/signature\n",
        "\n",
        "- In the previous examples, we do not provide the data types of the arguments of the functions and the types of the return values.\n",
        "- This causes a problem when we call a function, especially if a parameter with the \"wrong\" data type is passed.\n",
        "   - The code will fail after Python attempts to execute the function.\n",
        "- It can be important to explicitly provide the data types of all arguments to allow Python to understand how before using the functions what are the expected parameters and return value.\n",
        "- The function annotation/signature feature enables users to add additional explanatory metada about the arguments declared in a function definition, and also the return data type.\n",
        "- __The annotations are not considered by Python interpreter while executing the function.__\n",
        "   - They are mainly used for providing a detailed documentation to the programmer.\n",
        "   - They are used to improve the readability of a Python program.\n",
        "  \n",
        "> In Python, a function signature provides crucial information about the types of parameters that a function can accept and the type of data it returns. The signature() function from the inspect module is used to determine the function signature, helping developers to ensure they are passing the correct types of arguments to their functions. This function can be particularly useful in large programs where a small mistake can lead to significant issues."
      ],
      "metadata": {
        "id": "-uVkDOnOmXej"
      },
      "id": "-uVkDOnOmXej"
    },
    {
      "cell_type": "markdown",
      "source": [
        "Let us define the function that compute the addition of two objects:"
      ],
      "metadata": {
        "id": "GYWBFrpgmgSM"
      },
      "id": "GYWBFrpgmgSM"
    },
    {
      "cell_type": "code",
      "source": [
        "def func_add(x, y):\n",
        "    return x + y"
      ],
      "metadata": {
        "id": "VanpCw1vmgwM"
      },
      "id": "VanpCw1vmgwM",
      "execution_count": 36,
      "outputs": []
    },
    {
      "cell_type": "markdown",
      "source": [
        "We can add two integers:"
      ],
      "metadata": {
        "id": "Bu_VDVt0mjXV"
      },
      "id": "Bu_VDVt0mjXV"
    },
    {
      "cell_type": "code",
      "source": [
        "func_add(1, 2)"
      ],
      "metadata": {
        "id": "XfHMjBgUmi09",
        "outputId": "084a44e9-e561-461f-9439-936a3fd8ba45",
        "colab": {
          "base_uri": "https://localhost:8080/"
        }
      },
      "id": "XfHMjBgUmi09",
      "execution_count": 37,
      "outputs": [
        {
          "output_type": "execute_result",
          "data": {
            "text/plain": [
              "3"
            ]
          },
          "metadata": {},
          "execution_count": 37
        }
      ]
    },
    {
      "cell_type": "markdown",
      "source": [
        "We can add two floating point numbers:"
      ],
      "metadata": {
        "id": "cRiy7K7Amnxe"
      },
      "id": "cRiy7K7Amnxe"
    },
    {
      "cell_type": "code",
      "source": [
        "func_add(1.5, 2.7)"
      ],
      "metadata": {
        "id": "KDVCPELpmpTl",
        "outputId": "3e8dc0d8-b600-4576-ca74-5b6f680293e6",
        "colab": {
          "base_uri": "https://localhost:8080/"
        }
      },
      "id": "KDVCPELpmpTl",
      "execution_count": 38,
      "outputs": [
        {
          "output_type": "execute_result",
          "data": {
            "text/plain": [
              "4.2"
            ]
          },
          "metadata": {},
          "execution_count": 38
        }
      ]
    },
    {
      "cell_type": "markdown",
      "source": [
        "We can add two strings:"
      ],
      "metadata": {
        "id": "shOis_U0m4OP"
      },
      "id": "shOis_U0m4OP"
    },
    {
      "cell_type": "code",
      "source": [
        "func_add(\"Summer Python \", \"Bootcamp\")"
      ],
      "metadata": {
        "id": "zK6y57TQm2qu",
        "outputId": "565d9c8f-77ea-4543-f9db-d34e42ecb94e",
        "colab": {
          "base_uri": "https://localhost:8080/",
          "height": 36
        }
      },
      "id": "zK6y57TQm2qu",
      "execution_count": 40,
      "outputs": [
        {
          "output_type": "execute_result",
          "data": {
            "text/plain": [
              "'Summer Python Bootcamp'"
            ],
            "application/vnd.google.colaboratory.intrinsic+json": {
              "type": "string"
            }
          },
          "metadata": {},
          "execution_count": 40
        }
      ]
    },
    {
      "cell_type": "markdown",
      "source": [
        "What happens when we add an integer and a string?"
      ],
      "metadata": {
        "id": "EE4TkXf-1aAM"
      },
      "id": "EE4TkXf-1aAM"
    },
    {
      "cell_type": "code",
      "source": [
        "func_add(2025, \"Summer Python Bootcamp\")"
      ],
      "metadata": {
        "id": "6LWFw8Vc1aus",
        "outputId": "cae434e9-c71b-4995-bbdf-1e12e45fe409",
        "colab": {
          "base_uri": "https://localhost:8080/",
          "height": 222
        }
      },
      "id": "6LWFw8Vc1aus",
      "execution_count": 41,
      "outputs": [
        {
          "output_type": "error",
          "ename": "TypeError",
          "evalue": "unsupported operand type(s) for +: 'int' and 'str'",
          "traceback": [
            "\u001b[0;31m---------------------------------------------------------------------------\u001b[0m",
            "\u001b[0;31mTypeError\u001b[0m                                 Traceback (most recent call last)",
            "\u001b[0;32m/tmp/ipython-input-633931526.py\u001b[0m in \u001b[0;36m<cell line: 0>\u001b[0;34m()\u001b[0m\n\u001b[0;32m----> 1\u001b[0;31m \u001b[0mfunc_add\u001b[0m\u001b[0;34m(\u001b[0m\u001b[0;36m2025\u001b[0m\u001b[0;34m,\u001b[0m \u001b[0;34m\"Summer Python Bootcamp\"\u001b[0m\u001b[0;34m)\u001b[0m\u001b[0;34m\u001b[0m\u001b[0;34m\u001b[0m\u001b[0m\n\u001b[0m",
            "\u001b[0;32m/tmp/ipython-input-2980723325.py\u001b[0m in \u001b[0;36mfunc_add\u001b[0;34m(x, y)\u001b[0m\n\u001b[1;32m      1\u001b[0m \u001b[0;32mdef\u001b[0m \u001b[0mfunc_add\u001b[0m\u001b[0;34m(\u001b[0m\u001b[0mx\u001b[0m\u001b[0;34m,\u001b[0m \u001b[0my\u001b[0m\u001b[0;34m)\u001b[0m\u001b[0;34m:\u001b[0m\u001b[0;34m\u001b[0m\u001b[0;34m\u001b[0m\u001b[0m\n\u001b[0;32m----> 2\u001b[0;31m     \u001b[0;32mreturn\u001b[0m \u001b[0mx\u001b[0m \u001b[0;34m+\u001b[0m \u001b[0my\u001b[0m\u001b[0;34m\u001b[0m\u001b[0;34m\u001b[0m\u001b[0m\n\u001b[0m",
            "\u001b[0;31mTypeError\u001b[0m: unsupported operand type(s) for +: 'int' and 'str'"
          ]
        }
      ]
    },
    {
      "cell_type": "code",
      "source": [],
      "metadata": {
        "id": "Fqqq70SF2Zir"
      },
      "id": "Fqqq70SF2Zir",
      "execution_count": null,
      "outputs": []
    },
    {
      "cell_type": "markdown",
      "source": [
        "Let us assume that our intention is only to add two integers. We will provide the function signature:"
      ],
      "metadata": {
        "id": "5zMj-S501eWN"
      },
      "id": "5zMj-S501eWN"
    },
    {
      "cell_type": "code",
      "source": [
        "def func_add_int(x: int, y: int) -> int:\n",
        "    return x + y"
      ],
      "metadata": {
        "id": "xuPFI89m1gyd"
      },
      "id": "xuPFI89m1gyd",
      "execution_count": 42,
      "outputs": []
    },
    {
      "cell_type": "code",
      "source": [
        "print(func_add_int.__annotations__)"
      ],
      "metadata": {
        "id": "y-wNjrZ81ljM",
        "outputId": "13984d72-f2dd-4be8-dd91-5885f3f266da",
        "colab": {
          "base_uri": "https://localhost:8080/"
        }
      },
      "id": "y-wNjrZ81ljM",
      "execution_count": 45,
      "outputs": [
        {
          "output_type": "stream",
          "name": "stdout",
          "text": [
            "{'x': <class 'int'>, 'y': <class 'int'>, 'return': <class 'int'>}\n"
          ]
        }
      ]
    },
    {
      "cell_type": "code",
      "source": [
        "from inspect import signature\n",
        "sig = signature(func_add_int)\n",
        "sig"
      ],
      "metadata": {
        "id": "ikXTY86i17R4",
        "outputId": "ea1a9c73-a619-4df9-bd89-109c0729b693",
        "colab": {
          "base_uri": "https://localhost:8080/"
        }
      },
      "id": "ikXTY86i17R4",
      "execution_count": 47,
      "outputs": [
        {
          "output_type": "execute_result",
          "data": {
            "text/plain": [
              "<Signature (x: int, y: int) -> int>"
            ]
          },
          "metadata": {},
          "execution_count": 47
        }
      ]
    },
    {
      "cell_type": "code",
      "source": [
        "sig.parameters['x']\n"
      ],
      "metadata": {
        "id": "cvU2jE9t2Bz4",
        "outputId": "d9bd586f-4f92-4511-db7e-f92f1f0551e0",
        "colab": {
          "base_uri": "https://localhost:8080/"
        }
      },
      "id": "cvU2jE9t2Bz4",
      "execution_count": 50,
      "outputs": [
        {
          "output_type": "execute_result",
          "data": {
            "text/plain": [
              "<Parameter \"x: int\">"
            ]
          },
          "metadata": {},
          "execution_count": 50
        }
      ]
    },
    {
      "cell_type": "markdown",
      "source": [
        "- When function arguments are passed using their names, they are referred to as keyword arguments.\n",
        "   - Values get assigned to the arguments by their keyword (name) when the function is called\n",
        "- Usually arguments have default values.\n",
        "   - If the function is invoked without a value for a specific argument, the default value is used.\n",
        "- When using the function, the order of keyword arguments is not important.\n",
        "   - All the keyword arguments passed must match one of the arguments accepted by the function.\n",
        "- No argument should receive a value more than once"
      ],
      "metadata": {
        "id": "uYQlz5GQkFL6"
      },
      "id": "uYQlz5GQkFL6"
    },
    {
      "cell_type": "code",
      "source": [
        "def student_title(fname: str ='Bob', lname: str ='Brown') -> None:\n",
        "    print(f\"{fname.capitalize():<10}, {lname.capitalize():>20}\")"
      ],
      "metadata": {
        "id": "76d5E7cWkF6Z"
      },
      "id": "76d5E7cWkF6Z",
      "execution_count": 32,
      "outputs": []
    },
    {
      "cell_type": "code",
      "source": [
        "student_title()"
      ],
      "metadata": {
        "id": "Q1uSXqtnkKon",
        "outputId": "510971d9-e153-4a9f-f490-5c5485629361",
        "colab": {
          "base_uri": "https://localhost:8080/"
        }
      },
      "id": "Q1uSXqtnkKon",
      "execution_count": 33,
      "outputs": [
        {
          "output_type": "stream",
          "name": "stdout",
          "text": [
            "Bob       ,                Brown\n"
          ]
        }
      ]
    },
    {
      "cell_type": "code",
      "source": [
        "student_title(lname='Smith')"
      ],
      "metadata": {
        "id": "4obVxSS4kKmj",
        "outputId": "27575cbf-b0de-4273-c5ab-9611134f8932",
        "colab": {
          "base_uri": "https://localhost:8080/"
        }
      },
      "id": "4obVxSS4kKmj",
      "execution_count": 34,
      "outputs": [
        {
          "output_type": "stream",
          "name": "stdout",
          "text": [
            "Bob       ,                Smith\n"
          ]
        }
      ]
    },
    {
      "cell_type": "code",
      "source": [
        "student_title(lname='Smith', fname='Joe')"
      ],
      "metadata": {
        "id": "ttEoFuE9kKjy",
        "outputId": "bcc33cc9-34aa-4e6c-8980-59e14ae0a54e",
        "colab": {
          "base_uri": "https://localhost:8080/"
        }
      },
      "id": "ttEoFuE9kKjy",
      "execution_count": 35,
      "outputs": [
        {
          "output_type": "stream",
          "name": "stdout",
          "text": [
            "Joe       ,                Smith\n"
          ]
        }
      ]
    },
    {
      "cell_type": "markdown",
      "source": [
        "Arbitrary arguments\n",
        "- We may not know in advance the number of arguments that will be passed into a function.\n",
        "- With arbitrary arguments, we can pass a varying number of values during a function call.\n",
        "\n",
        "The special syntax, `*args` and `**kwargs` in function definitions is used to pass an arbitrary number of arguments to a function.\n",
        "* The single asterisk form (`*args`) is used to pass a non-keyworded, variable-length argument list.\n",
        "* The double asterisk form (`**kwargs`) is used to pass a keyworded, variable-length argument list."
      ],
      "metadata": {
        "id": "achsd8fK2azz"
      },
      "id": "achsd8fK2azz"
    },
    {
      "cell_type": "code",
      "source": [
        "#We use a non-keyworded, variable-length argument list.\n",
        "def add_numbers(*numbers: tuple[int]) -> int:\n",
        "    total = 10\n",
        "    for n in numbers:\n",
        "        total += n\n",
        "    return total"
      ],
      "metadata": {
        "id": "M5dZhAPz2flc"
      },
      "id": "M5dZhAPz2flc",
      "execution_count": 56,
      "outputs": []
    },
    {
      "cell_type": "code",
      "source": [
        "print(add_numbers())"
      ],
      "metadata": {
        "id": "UiBgQrG12hQk",
        "outputId": "0b196644-e169-4da1-8cc5-212f21244437",
        "colab": {
          "base_uri": "https://localhost:8080/"
        }
      },
      "id": "UiBgQrG12hQk",
      "execution_count": 53,
      "outputs": [
        {
          "output_type": "stream",
          "name": "stdout",
          "text": [
            "10\n"
          ]
        }
      ]
    },
    {
      "cell_type": "code",
      "source": [
        "print(add_numbers(8))"
      ],
      "metadata": {
        "id": "5_X0M2aU2hH9",
        "outputId": "88c07e12-2ba3-43af-e0d0-6f0326231210",
        "colab": {
          "base_uri": "https://localhost:8080/"
        }
      },
      "id": "5_X0M2aU2hH9",
      "execution_count": 54,
      "outputs": [
        {
          "output_type": "stream",
          "name": "stdout",
          "text": [
            "18\n"
          ]
        }
      ]
    },
    {
      "cell_type": "code",
      "source": [
        "print(add_numbers(1, 2, 3, 4, 5, 6, 7))"
      ],
      "metadata": {
        "id": "tzJCL3Lr2hFr",
        "outputId": "fcbc3fb3-855a-43e5-f83b-8b72a14c1118",
        "colab": {
          "base_uri": "https://localhost:8080/"
        }
      },
      "id": "tzJCL3Lr2hFr",
      "execution_count": 55,
      "outputs": [
        {
          "output_type": "stream",
          "name": "stdout",
          "text": [
            "38\n"
          ]
        }
      ]
    },
    {
      "cell_type": "code",
      "source": [
        "#We use a non-keyworded, variable-length argument list and a keyword aragument.\n",
        "def add_more_numbers(*numbers: tuple[int], initial: int =1) -> int:\n",
        "    total = initial\n",
        "    for n in numbers:\n",
        "        total += n\n",
        "    return total"
      ],
      "metadata": {
        "id": "4mHK6Xy72x6t"
      },
      "id": "4mHK6Xy72x6t",
      "execution_count": 57,
      "outputs": []
    },
    {
      "cell_type": "code",
      "source": [
        "print(add_more_numbers())"
      ],
      "metadata": {
        "id": "VQaYMsc421sJ",
        "outputId": "cc28b0df-fb2c-40ef-f84c-b93414a37c16",
        "colab": {
          "base_uri": "https://localhost:8080/"
        }
      },
      "id": "VQaYMsc421sJ",
      "execution_count": 58,
      "outputs": [
        {
          "output_type": "stream",
          "name": "stdout",
          "text": [
            "1\n"
          ]
        }
      ]
    },
    {
      "cell_type": "code",
      "source": [
        "print(add_more_numbers(8))"
      ],
      "metadata": {
        "id": "PdBzOyjP21pu",
        "outputId": "5c9e27c0-712b-4f9f-bed4-4e2e5be0e75b",
        "colab": {
          "base_uri": "https://localhost:8080/"
        }
      },
      "id": "PdBzOyjP21pu",
      "execution_count": 59,
      "outputs": [
        {
          "output_type": "stream",
          "name": "stdout",
          "text": [
            "9\n"
          ]
        }
      ]
    },
    {
      "cell_type": "code",
      "source": [
        "print(add_more_numbers(2,8, initial=3))"
      ],
      "metadata": {
        "id": "O6UTkP2121nG",
        "outputId": "3c10e593-bd1e-436c-877f-ed9509176dfc",
        "colab": {
          "base_uri": "https://localhost:8080/"
        }
      },
      "id": "O6UTkP2121nG",
      "execution_count": 60,
      "outputs": [
        {
          "output_type": "stream",
          "name": "stdout",
          "text": [
            "13\n"
          ]
        }
      ]
    },
    {
      "cell_type": "code",
      "source": [
        "print(add_more_numbers(1, 2, 3, 4, 5, 6, 7, initial=8))\n"
      ],
      "metadata": {
        "id": "db17mmnm262H",
        "outputId": "5977100a-457a-4e0b-b7d6-cbf16ea00fcc",
        "colab": {
          "base_uri": "https://localhost:8080/"
        }
      },
      "id": "db17mmnm262H",
      "execution_count": 61,
      "outputs": [
        {
          "output_type": "stream",
          "name": "stdout",
          "text": [
            "36\n"
          ]
        }
      ]
    },
    {
      "cell_type": "code",
      "source": [
        "#We use a positional argument and a non-keyworded, variable-length argument list.\n",
        "from typing import Any\n",
        "\n",
        "def pass_var_args(farg: Any, *args: tuple) -> None:\n",
        "    print(f\"Formal arg: {farg}\")\n",
        "    for arg in args:\n",
        "        print(f\"Another arg: {arg}\")"
      ],
      "metadata": {
        "id": "CWwBt8be29ji"
      },
      "id": "CWwBt8be29ji",
      "execution_count": 64,
      "outputs": []
    },
    {
      "cell_type": "code",
      "source": [
        "pass_var_args(1, \"two\", 3, 4)"
      ],
      "metadata": {
        "id": "UMO10xr929hD",
        "outputId": "ddfdbc20-d2f9-44d7-eed2-50e540ff838e",
        "colab": {
          "base_uri": "https://localhost:8080/"
        }
      },
      "id": "UMO10xr929hD",
      "execution_count": 65,
      "outputs": [
        {
          "output_type": "stream",
          "name": "stdout",
          "text": [
            "Formal arg: 1\n",
            "Another arg: two\n",
            "Another arg: 3\n",
            "Another arg: 4\n"
          ]
        }
      ]
    },
    {
      "cell_type": "code",
      "source": [
        "# We use a positional argument and a keyworded, variable-length argument list.\n",
        "def pass_var_kwargs(farg: Any, **kwargs: dict) -> None:\n",
        "    print(\"Formal arg:\", farg)\n",
        "    for key in kwargs:\n",
        "        print(f\"Another keyword arg: {key} --> {kwargs[key]}\")"
      ],
      "metadata": {
        "id": "PBuEB2Q429eX"
      },
      "id": "PBuEB2Q429eX",
      "execution_count": 66,
      "outputs": []
    },
    {
      "cell_type": "code",
      "source": [
        "pass_var_kwargs(farg=1, myarg2=\"two\", myarg3=3)"
      ],
      "metadata": {
        "id": "mO9gTuef3Pai",
        "outputId": "172d6175-8107-4635-d014-a830f6c5b48e",
        "colab": {
          "base_uri": "https://localhost:8080/"
        }
      },
      "id": "mO9gTuef3Pai",
      "execution_count": 67,
      "outputs": [
        {
          "output_type": "stream",
          "name": "stdout",
          "text": [
            "Formal arg: 1\n",
            "Another keyword arg: myarg2 --> two\n",
            "Another keyword arg: myarg3 --> 3\n"
          ]
        }
      ]
    },
    {
      "cell_type": "code",
      "source": [
        "my_dict = {\"myarg2\": \"two\", \"myarg3\":3, \"myarg4\":\"Python\"}\n",
        "pass_var_kwargs(farg='Test', **my_dict)"
      ],
      "metadata": {
        "id": "YUEzfM1o3R6T",
        "outputId": "024f43ff-10a7-4e77-b3c7-df3a3fcdbce0",
        "colab": {
          "base_uri": "https://localhost:8080/"
        }
      },
      "id": "YUEzfM1o3R6T",
      "execution_count": 68,
      "outputs": [
        {
          "output_type": "stream",
          "name": "stdout",
          "text": [
            "Formal arg: Test\n",
            "Another keyword arg: myarg2 --> two\n",
            "Another keyword arg: myarg3 --> 3\n",
            "Another keyword arg: myarg4 --> Python\n"
          ]
        }
      ]
    },
    {
      "cell_type": "markdown",
      "source": [
        "### Excersise\n",
        "Write a function that:\n",
        "- Takes a list as an argument, and\n",
        "- Prints for each entry of the list its value and data type.\n",
        "\n",
        "<p>\n",
        "<p>\n",
        "\n",
        "<details><summary><b>CLICK HERE TO ACCESS THE SOLUTION</b></summary>\n",
        "<p>\n",
        "    \n",
        "```python\n",
        "def print_list_content(alist: list):\n",
        "    \"\"\"\n",
        "    Print each item of a list and its data type.\n",
        "    \n",
        "    Parameters\n",
        "    ----------\n",
        "    alist : list\n",
        "       A list\n",
        "    \"\"\"\n",
        "    for entry in alist:\n",
        "        print(f\"Entry value: {entry}\")\n",
        "        print(f\"\\t Entry type: {type(entry)}\")\n",
        "        \n",
        "my_list = ['Python', 125, -1.25, [1, 2.5]]\n",
        "print_list_content(my_list)\n",
        "```\n",
        "\n",
        "</p>\n",
        "</details>"
      ],
      "metadata": {
        "id": "-_lV4vvx3Vrj"
      },
      "id": "-_lV4vvx3Vrj"
    },
    {
      "cell_type": "markdown",
      "id": "d77a59a6",
      "metadata": {
        "id": "d77a59a6"
      },
      "source": [
        "## Example: Function with lists as input and multiple return values\n",
        " This example shows how a function can operate on a list input and return multiple values.  \n",
        " It uses built-in functions `sum()`, `max()`, and `min()` to calculate and return all at once."
      ]
    },
    {
      "cell_type": "code",
      "execution_count": null,
      "id": "e64e996d",
      "metadata": {
        "id": "e64e996d"
      },
      "outputs": [],
      "source": [
        "def statistics(numbers):\n",
        "    \"\"\"Thise function takes a list of numbers as input and returns the maximum, minimum, and sum of the list.\n",
        "       Inputs: numbers - a list of numbers.\n",
        "       Returns: The sum, the maximum, and the minimum of the list.\"\"\"\n",
        "    sum_numbers = sum(numbers)\n",
        "    max_number = max(numbers)\n",
        "    min_number = min(numbers)\n",
        "    return sum_numbers, max_number, min_number"
      ]
    },
    {
      "cell_type": "code",
      "execution_count": null,
      "id": "7008ba74",
      "metadata": {
        "id": "7008ba74",
        "outputId": "240e8ce1-7f76-40ae-9453-6b80aaed42e9"
      },
      "outputs": [
        {
          "name": "stdout",
          "output_type": "stream",
          "text": [
            "Sum: 15 Max: 5 Min: 1\n"
          ]
        }
      ],
      "source": [
        "#calling the function with a list of numbers\n",
        "stat_result = statistics([1, 2, 3, 4, 5])\n",
        "print(\"Sum:\", stat_result[0], \"Max:\", stat_result[1], \"Min:\", stat_result[2])"
      ]
    },
    {
      "cell_type": "markdown",
      "id": "577593a9",
      "metadata": {
        "id": "577593a9"
      },
      "source": [
        "## Built-in Functions in Python\n",
        "\n",
        "- Python has many useful built-in functions like `sum()`, `len()`, `max()`, `min()`, `sorted()` etc.\n",
        "- Two particularly useful built-ins for logic operations are:\n",
        "\n",
        "- **all(iterable)**: Returns True if all elements are true or the iterable is empty.\n",
        "- **any(iterable)**: Returns True if any element is true. Returns False only if all are false or empty."
      ]
    },
    {
      "cell_type": "code",
      "execution_count": null,
      "id": "2c3190a0",
      "metadata": {
        "id": "2c3190a0",
        "outputId": "e62870f6-c61d-4633-b179-1b1483b87a16"
      },
      "outputs": [
        {
          "name": "stdout",
          "output_type": "stream",
          "text": [
            "False\n",
            "True\n"
          ]
        }
      ],
      "source": [
        "print(all([True, True, False]))  # Output: False\n",
        "print(any([False, False, True]))  # Output: True"
      ]
    },
    {
      "cell_type": "markdown",
      "id": "1e0bafae",
      "metadata": {
        "id": "1e0bafae"
      },
      "source": [
        "## Lambda Functions\n",
        "\n",
        " A lambda function is a small, anonymous function in Python.\n",
        " Syntax: lambda arguments : expression\n",
        "\n",
        "- Lambda functions are often used for short operations like sorting, filtering, or mapping."
      ]
    },
    {
      "cell_type": "code",
      "execution_count": null,
      "id": "dd459e61",
      "metadata": {
        "id": "dd459e61",
        "outputId": "3bc74543-9970-454a-8eea-358b568b32e1"
      },
      "outputs": [
        {
          "name": "stdout",
          "output_type": "stream",
          "text": [
            "Lambda square of 4: 16\n",
            "Lambda sum: 5\n"
          ]
        }
      ],
      "source": [
        "square = lambda x: x * x\n",
        "print(\"Lambda square of 4:\", square(4))\n",
        "\n",
        "add = lambda a, b: a + b\n",
        "print(\"Lambda sum:\", add(2, 3))"
      ]
    },
    {
      "cell_type": "markdown",
      "id": "4835d203",
      "metadata": {
        "id": "4835d203"
      },
      "source": [
        "## Recursive Functions\n",
        "\n",
        " Recursion is when a function calls itself.\n",
        " It's useful for tasks that can be broken down into similar subtasks (e.g., factorial, Fibonacci).\n",
        "\n",
        "Example: factorial using recursion"
      ]
    },
    {
      "cell_type": "code",
      "execution_count": null,
      "id": "2f9e1852",
      "metadata": {
        "id": "2f9e1852",
        "outputId": "ebdd1d21-ecfa-4603-9703-39891022d30b"
      },
      "outputs": [
        {
          "name": "stdout",
          "output_type": "stream",
          "text": [
            "Factorial of 4 is: 24\n"
          ]
        }
      ],
      "source": [
        "def factorial(n):\n",
        "    if n == 0:\n",
        "        return 1\n",
        "    else:\n",
        "        return n * factorial(n - 1)\n",
        "\n",
        "print(\"Factorial of 4 is:\", factorial(4))"
      ]
    },
    {
      "cell_type": "markdown",
      "id": "8e855f69",
      "metadata": {
        "id": "8e855f69"
      },
      "source": [
        "# Help in Python!\n",
        "\n",
        "If you know the name of a function but aren’t sure how to use it, Python provides built-in ways to get help directly in your code.\n",
        "\n",
        "You can use the `help()` function or a `?` before the function name (in IPython or Jupyter Notebook environments).\n",
        "\n",
        "#### Example: Getting Help on `max()`\n",
        "\n",
        "```python\n",
        "help(max)\n"
      ]
    },
    {
      "cell_type": "code",
      "execution_count": null,
      "id": "ce78535f",
      "metadata": {
        "id": "ce78535f",
        "outputId": "263c54cf-b9b8-4b31-f50e-8e7ee0d60d49"
      },
      "outputs": [
        {
          "name": "stdout",
          "output_type": "stream",
          "text": [
            "Help on built-in function max in module builtins:\n",
            "\n",
            "max(...)\n",
            "    max(iterable, *[, default=obj, key=func]) -> value\n",
            "    max(arg1, arg2, *args, *[, key=func]) -> value\n",
            "\n",
            "    With a single iterable argument, return its biggest item. The\n",
            "    default keyword-only argument specifies an object to return if\n",
            "    the provided iterable is empty.\n",
            "    With two or more arguments, return the largest argument.\n",
            "\n"
          ]
        }
      ],
      "source": [
        "help(max)"
      ]
    },
    {
      "cell_type": "markdown",
      "id": "42dc15b0",
      "metadata": {
        "id": "42dc15b0"
      },
      "source": [
        "---\n",
        "## References\n",
        "1. [W3Schools - Python Functions](https://www.w3schools.com/python/python_functions.asp)\n",
        "2. [HS Offenburg - Introductory Python Course](https://elearning.hs-offenburg.de/moodle/course/view.php?id=6551)\n",
        "3. [DataCamp: Intro to Python for Data Science](https://www.datacamp.com/courses/intro-to-python-for-data-science)\n"
      ]
    },
    {
      "cell_type": "markdown",
      "id": "a4df15bb",
      "metadata": {
        "id": "a4df15bb"
      },
      "source": []
    }
  ],
  "metadata": {
    "kernelspec": {
      "display_name": "base",
      "language": "python",
      "name": "python3"
    },
    "language_info": {
      "codemirror_mode": {
        "name": "ipython",
        "version": 3
      },
      "file_extension": ".py",
      "mimetype": "text/x-python",
      "name": "python",
      "nbconvert_exporter": "python",
      "pygments_lexer": "ipython3",
      "version": "3.12.3"
    },
    "colab": {
      "provenance": [],
      "toc_visible": true
    }
  },
  "nbformat": 4,
  "nbformat_minor": 5
}