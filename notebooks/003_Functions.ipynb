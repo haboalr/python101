{
  "cells": [
    {
      "cell_type": "markdown",
      "id": "b40f4532",
      "metadata": {
        "id": "b40f4532"
      },
      "source": [
        "# Functions in Python\n",
        "\n",
        "### Learning Objectives\n",
        "- Understand what functions are and why they are used\n",
        "- Define and call functions in Python\n",
        "- Use parameters, return values, and optional arguments\n",
        "- Work with multiple return values\n",
        "- Understand keyword arguments and default values\n",
        "---"
      ]
    },
    {
      "cell_type": "markdown",
      "source": [
        "Useful Links\n",
        "\n",
        "- <a href=\"https://www.tutorialspoint.com/python/python_functions.htm\"> Python - Functions</a>\n",
        "- <a href=\"https://realpython.com/defining-your-own-python-function/\"> Defining Your Own Python Function</a>"
      ],
      "metadata": {
        "id": "ciojM6aDTEcz"
      },
      "id": "ciojM6aDTEcz"
    },
    {
      "cell_type": "markdown",
      "id": "734bd86c",
      "metadata": {
        "id": "734bd86c"
      },
      "source": [
        "\n",
        "Functions are a fundamental concept in programming and play a central role in structuring\n",
        "and reusing code. They allow logical units to be created that perform a specific task.\n",
        "This promotes the readability, maintainability, and modularity of a program.\n",
        "\n",
        "![fig_function](https://qph.cf2.quoracdn.net/main-qimg-0dc8b1a7c117026f1a285cd0feb456fa.webp)\n",
        "\n",
        "- The basic principle of a function is simple: A function receives input values (called parameters),\n",
        "performs defined operations, and returns a result.\n",
        "\n",
        "- Functions can be used multiple times in code, which avoids redundancy and reduces programming effort.\n",
        "A well-structured use of functions makes it easier to break large programs into smaller, manageable parts that are easy to test\n",
        "and maintain.\n",
        "\n",
        "- Moreover, functions offer flexibility by handling different types and numbers of inputs as well as\n",
        "multiple outputs. This is especially useful in more complex programs requiring diverse\n",
        "calculations or actions.\n",
        "\n",
        "\n"
      ]
    },
    {
      "cell_type": "markdown",
      "id": "505af30c",
      "metadata": {
        "id": "505af30c"
      },
      "source": [
        "\n",
        "### Types of Functions in Python\n",
        "\n",
        "Python provides several types of functions:\n",
        "\n",
        "- **Built-in Functions**: These are readily available in Python without the need for import. Examples include `sum()`, `len()`, `max()`, `min()`, `all()`, and `any()`.\n",
        "- **User-defined Functions**: Functions that you create using the `def` keyword.\n",
        "- **Lambda Functions**: Anonymous, small functions defined using the `lambda` keyword. Useful for simple operations.\n",
        "- **Recursive Functions**: Functions that call themselves. Useful in certain mathematical or algorithmic problems.\n"
      ]
    },
    {
      "cell_type": "markdown",
      "id": "59c75585",
      "metadata": {
        "id": "59c75585"
      },
      "source": [
        "## Example 1: A simple function with no parameters and no return value"
      ]
    },
    {
      "cell_type": "markdown",
      "id": "1df717d3",
      "metadata": {
        "id": "1df717d3"
      },
      "source": [
        "A function in Python is defined using the `def` keyword and consists of several key components:\n",
        "\n",
        "**Function components:**\n",
        "- **Name**: Identifies the function (e.g., `square`)\n",
        "- **Parameter(s)**: Input(s) passed into the function (e.g., `x`)\n",
        "- **Docstring**: A string inside triple quotes that explains what the function does (optional but recommended)\n",
        "- **Body**: The block of code that performs operations (indented under the function definition)\n",
        "- **Return statement**: (Optional) Sends back a value to the caller\n",
        "\n",
        "<div align=\"center\">\n",
        "  <img src=\"https://github.com/haboalr/python101/blob/main/notebooks/figures/function.png?raw=1\" alt=\"Function structure overview\" width=\"650\"/>\n",
        "  <p style=\"font-size:small;\">\n",
        "    Function structure overview</a>\n",
        "  </p>\n",
        "</div>\n"
      ]
    },
    {
      "cell_type": "code",
      "execution_count": null,
      "id": "85256f67",
      "metadata": {
        "id": "85256f67"
      },
      "outputs": [],
      "source": [
        "def hello_world():\n",
        "    \"\"\"This function simply prints 'Hello, World!\n",
        "    it takes no input (parameters) and returns nothing.\"\"\"\n",
        "    print(\"Hello, World!\")"
      ]
    },
    {
      "cell_type": "code",
      "execution_count": null,
      "id": "8cebafb1",
      "metadata": {
        "id": "8cebafb1",
        "outputId": "9ef18495-034b-4a53-ce33-50d42aadf8d8"
      },
      "outputs": [
        {
          "name": "stdout",
          "output_type": "stream",
          "text": [
            "Hello, World!\n"
          ]
        }
      ],
      "source": [
        "# calling the function\n",
        "hello_world()"
      ]
    },
    {
      "cell_type": "markdown",
      "id": "940fe40a",
      "metadata": {
        "id": "940fe40a"
      },
      "source": [
        "## Example 2: A function with one input value and one return value"
      ]
    },
    {
      "cell_type": "code",
      "execution_count": null,
      "id": "fd860a37",
      "metadata": {
        "id": "fd860a37"
      },
      "outputs": [],
      "source": [
        "def quadrat(x):\n",
        "    \"\"\"This function takes a number x as input and returns its square.\"\"\"\n",
        "    return x * x"
      ]
    },
    {
      "cell_type": "code",
      "execution_count": null,
      "id": "aa8e6f0a",
      "metadata": {
        "id": "aa8e6f0a",
        "outputId": "19ce91aa-0887-4e3e-edb4-8e5b76833f56"
      },
      "outputs": [
        {
          "name": "stdout",
          "output_type": "stream",
          "text": [
            "The square of 5 is: 25\n"
          ]
        }
      ],
      "source": [
        "#calling the function with a value\n",
        "result = quadrat(5)\n",
        "print(f\"The square of 5 is: {result}\")"
      ]
    },
    {
      "cell_type": "markdown",
      "id": "fb813b9e",
      "metadata": {
        "id": "fb813b9e"
      },
      "source": [
        "## Example 3: Function with multiple input values and one return value"
      ]
    },
    {
      "cell_type": "code",
      "execution_count": null,
      "id": "6107bb0d",
      "metadata": {
        "id": "6107bb0d"
      },
      "outputs": [],
      "source": [
        "def addition(a,b):\n",
        "    \"\"\"this function takes two numbers a and b as input and returns their sum.\n",
        "       Inputs: a - the first number, b - the second number.\n",
        "       Returns: the sum of a and b.\n",
        "       \"\"\"\n",
        "    return a + b"
      ]
    },
    {
      "cell_type": "code",
      "execution_count": null,
      "id": "e8b7589c",
      "metadata": {
        "id": "e8b7589c",
        "outputId": "8d3734af-6c13-4948-c2d1-82a6fb2a521e"
      },
      "outputs": [
        {
          "name": "stdout",
          "output_type": "stream",
          "text": [
            "the sum of 3 and 5 is 8\n"
          ]
        }
      ],
      "source": [
        "# calling the function with two values\n",
        "summation = addition(3, 5)\n",
        "print(\"the sum of 3 and 5 is\", summation)"
      ]
    },
    {
      "cell_type": "markdown",
      "id": "4584a07f",
      "metadata": {
        "id": "4584a07f"
      },
      "source": [
        "## Example 4: Function with multiple inputs and multiple return values\n",
        " This function performs several operations on two inputs (sum, difference, product, quotient)  \n",
        " and returns all of them. It also demonstrates calling another function (addition) within it."
      ]
    },
    {
      "cell_type": "code",
      "execution_count": null,
      "id": "6d4651fb",
      "metadata": {
        "id": "6d4651fb"
      },
      "outputs": [],
      "source": [
        "def basic_operations(a, b):\n",
        "    \"\"\"This function takes two numbers a and ab and return their sum, difference, product, and quotient.\n",
        "       Note: the function calls the function addition defined above.\n",
        "       Inputs: a - the first number, b - the second number.\n",
        "       Returns: the sum, difference, product, and quotient of a and b.\"\"\"\n",
        "\n",
        "    summation = addition(a, b) # calling the addition function from above\n",
        "    difference = a -b\n",
        "    product = a * b\n",
        "    if b != 0:\n",
        "        quotient = a / b\n",
        "    else:\n",
        "        quotient = None\n",
        "    return summation,difference,product, quotient"
      ]
    },
    {
      "cell_type": "code",
      "execution_count": null,
      "id": "68988997",
      "metadata": {
        "id": "68988997",
        "outputId": "c4e93a8d-c15a-43d3-a240-0ae19e5de466"
      },
      "outputs": [
        {
          "name": "stdout",
          "output_type": "stream",
          "text": [
            "Sum: 15 Difference: 5 Product: 50 Quotient: 2.0\n"
          ]
        }
      ],
      "source": [
        "# calling the function with two values and returning multiple results\n",
        "summation, difference, product, quotient = basic_operations(10, 5)\n",
        "print(\"Sum:\", summation, \"Difference:\", difference, \"Product:\", product, \"Quotient:\", quotient)"
      ]
    },
    {
      "cell_type": "markdown",
      "id": "f5a3f83d",
      "metadata": {
        "id": "f5a3f83d"
      },
      "source": [
        "## Example 5: Function with optional input values (default parameters)\n",
        " In this example, the function has a default value for one of its parameters.  \n",
        " If the caller does not provide this value, the default is used instead.  "
      ]
    },
    {
      "cell_type": "code",
      "execution_count": null,
      "id": "9f3fa4d3",
      "metadata": {
        "id": "9f3fa4d3"
      },
      "outputs": [],
      "source": [
        "def greet(name, greeting=\"Hello\"):\n",
        "    \"\"\"This function takes a name and an optional greeting.\n",
        "       If no greeting is provided, it defaults to 'Hello'.\n",
        "       Inputs: name - the name of the person, greeting - the greeting message (default is 'Hello').\"\"\"\n",
        "\n",
        "    return greeting + \", \" + name + \"!\""
      ]
    },
    {
      "cell_type": "code",
      "execution_count": null,
      "id": "855e3b1f",
      "metadata": {
        "id": "855e3b1f",
        "outputId": "1980e335-51b8-4be7-908e-98226c31b43e"
      },
      "outputs": [
        {
          "name": "stdout",
          "output_type": "stream",
          "text": [
            "Hello, Alice!\n",
            "Hi, Bob!\n"
          ]
        }
      ],
      "source": [
        "# calling the function with and without the optional parameter\n",
        "print(greet(\"Alice\"))\n",
        "print(greet(\"Bob\", \"Hi\"))"
      ]
    },
    {
      "cell_type": "markdown",
      "id": "e5b7a719",
      "metadata": {
        "id": "e5b7a719"
      },
      "source": [
        "##  Example 6: Function with keyword arguments\n",
        "\n",
        " Functions can be called using keyword arguments, allowing you to specify  \n",
        " which value goes into which parameter by name. This improves readability and eliminates dependency on argument order."
      ]
    },
    {
      "cell_type": "code",
      "execution_count": null,
      "id": "59dd3472",
      "metadata": {
        "id": "59dd3472"
      },
      "outputs": [],
      "source": [
        "def user_details(name,age,city):\n",
        "    \"\"\"This function takes three values:name, age, and city.\n",
        "       It returns a formatted string with the user's details.\n",
        "       Inputs:\n",
        "       name - the name of the user,\n",
        "       age - the age of the user,\n",
        "       city - the city where the user lives.\n",
        "       Returns: a formatted string with the user's details.\"\"\"\n",
        "\n",
        "    return \"Name:\" + name + \", Age: \" + str(age) + \", City: \" + city"
      ]
    },
    {
      "cell_type": "code",
      "execution_count": null,
      "id": "8283c28d",
      "metadata": {
        "id": "8283c28d",
        "outputId": "2f6b3239-1bd7-4339-e389-7b4b768fe1fe"
      },
      "outputs": [
        {
          "name": "stdout",
          "output_type": "stream",
          "text": [
            "Name:Lisa, Age: 25, City: Offenburg\n"
          ]
        }
      ],
      "source": [
        "# Calling the function with keyword arguments\n",
        "profil = user_details(name=\"Lisa\", age=25, city=\"Offenburg\")\n",
        "print(profil)\n"
      ]
    },
    {
      "cell_type": "markdown",
      "id": "d77a59a6",
      "metadata": {
        "id": "d77a59a6"
      },
      "source": [
        "## Example 7: Function with lists as input and multiple return values\n",
        " This example shows how a function can operate on a list input and return multiple values.  \n",
        " It uses built-in functions `sum()`, `max()`, and `min()` to calculate and return all at once."
      ]
    },
    {
      "cell_type": "code",
      "execution_count": null,
      "id": "e64e996d",
      "metadata": {
        "id": "e64e996d"
      },
      "outputs": [],
      "source": [
        "def statistics(numbers):\n",
        "    \"\"\"Thise function takes a list of numbers as input and returns the maximum, minimum, and sum of the list.\n",
        "       Inputs: numbers - a list of numbers.\n",
        "       Returns: The sum, the maximum, and the minimum of the list.\"\"\"\n",
        "    sum_numbers = sum(numbers)\n",
        "    max_number = max(numbers)\n",
        "    min_number = min(numbers)\n",
        "    return sum_numbers, max_number, min_number"
      ]
    },
    {
      "cell_type": "code",
      "execution_count": null,
      "id": "7008ba74",
      "metadata": {
        "id": "7008ba74",
        "outputId": "240e8ce1-7f76-40ae-9453-6b80aaed42e9"
      },
      "outputs": [
        {
          "name": "stdout",
          "output_type": "stream",
          "text": [
            "Sum: 15 Max: 5 Min: 1\n"
          ]
        }
      ],
      "source": [
        "#calling the function with a list of numbers\n",
        "stat_result = statistics([1, 2, 3, 4, 5])\n",
        "print(\"Sum:\", stat_result[0], \"Max:\", stat_result[1], \"Min:\", stat_result[2])"
      ]
    },
    {
      "cell_type": "markdown",
      "id": "577593a9",
      "metadata": {
        "id": "577593a9"
      },
      "source": [
        "## Built-in Functions in Python\n",
        "\n",
        "- Python has many useful built-in functions like `sum()`, `len()`, `max()`, `min()`, `sorted()` etc.\n",
        "- Two particularly useful built-ins for logic operations are:\n",
        "\n",
        "- **all(iterable)**: Returns True if all elements are true or the iterable is empty.\n",
        "- **any(iterable)**: Returns True if any element is true. Returns False only if all are false or empty."
      ]
    },
    {
      "cell_type": "code",
      "execution_count": null,
      "id": "2c3190a0",
      "metadata": {
        "id": "2c3190a0",
        "outputId": "e62870f6-c61d-4633-b179-1b1483b87a16"
      },
      "outputs": [
        {
          "name": "stdout",
          "output_type": "stream",
          "text": [
            "False\n",
            "True\n"
          ]
        }
      ],
      "source": [
        "print(all([True, True, False]))  # Output: False\n",
        "print(any([False, False, True]))  # Output: True"
      ]
    },
    {
      "cell_type": "markdown",
      "id": "1e0bafae",
      "metadata": {
        "id": "1e0bafae"
      },
      "source": [
        "## Lambda Functions\n",
        "\n",
        " A lambda function is a small, anonymous function in Python.\n",
        " Syntax: lambda arguments : expression\n",
        "\n",
        "- Lambda functions are often used for short operations like sorting, filtering, or mapping."
      ]
    },
    {
      "cell_type": "code",
      "execution_count": null,
      "id": "dd459e61",
      "metadata": {
        "id": "dd459e61",
        "outputId": "3bc74543-9970-454a-8eea-358b568b32e1"
      },
      "outputs": [
        {
          "name": "stdout",
          "output_type": "stream",
          "text": [
            "Lambda square of 4: 16\n",
            "Lambda sum: 5\n"
          ]
        }
      ],
      "source": [
        "square = lambda x: x * x\n",
        "print(\"Lambda square of 4:\", square(4))\n",
        "\n",
        "add = lambda a, b: a + b\n",
        "print(\"Lambda sum:\", add(2, 3))"
      ]
    },
    {
      "cell_type": "markdown",
      "id": "4835d203",
      "metadata": {
        "id": "4835d203"
      },
      "source": [
        "## Recursive Functions\n",
        "\n",
        " Recursion is when a function calls itself.\n",
        " It's useful for tasks that can be broken down into similar subtasks (e.g., factorial, Fibonacci).\n",
        "\n",
        "Example: factorial using recursion"
      ]
    },
    {
      "cell_type": "code",
      "execution_count": null,
      "id": "2f9e1852",
      "metadata": {
        "id": "2f9e1852",
        "outputId": "ebdd1d21-ecfa-4603-9703-39891022d30b"
      },
      "outputs": [
        {
          "name": "stdout",
          "output_type": "stream",
          "text": [
            "Factorial of 4 is: 24\n"
          ]
        }
      ],
      "source": [
        "def factorial(n):\n",
        "    if n == 0:\n",
        "        return 1\n",
        "    else:\n",
        "        return n * factorial(n - 1)\n",
        "\n",
        "print(\"Factorial of 4 is:\", factorial(4))"
      ]
    },
    {
      "cell_type": "markdown",
      "id": "8e855f69",
      "metadata": {
        "id": "8e855f69"
      },
      "source": [
        "# Help in Python!\n",
        "\n",
        "If you know the name of a function but aren’t sure how to use it, Python provides built-in ways to get help directly in your code.\n",
        "\n",
        "You can use the `help()` function or a `?` before the function name (in IPython or Jupyter Notebook environments).\n",
        "\n",
        "#### Example: Getting Help on `max()`\n",
        "\n",
        "```python\n",
        "help(max)\n"
      ]
    },
    {
      "cell_type": "code",
      "execution_count": null,
      "id": "ce78535f",
      "metadata": {
        "id": "ce78535f",
        "outputId": "263c54cf-b9b8-4b31-f50e-8e7ee0d60d49"
      },
      "outputs": [
        {
          "name": "stdout",
          "output_type": "stream",
          "text": [
            "Help on built-in function max in module builtins:\n",
            "\n",
            "max(...)\n",
            "    max(iterable, *[, default=obj, key=func]) -> value\n",
            "    max(arg1, arg2, *args, *[, key=func]) -> value\n",
            "\n",
            "    With a single iterable argument, return its biggest item. The\n",
            "    default keyword-only argument specifies an object to return if\n",
            "    the provided iterable is empty.\n",
            "    With two or more arguments, return the largest argument.\n",
            "\n"
          ]
        }
      ],
      "source": [
        "help(max)"
      ]
    },
    {
      "cell_type": "markdown",
      "id": "42dc15b0",
      "metadata": {
        "id": "42dc15b0"
      },
      "source": [
        "---\n",
        "## References\n",
        "1. [W3Schools - Python Functions](https://www.w3schools.com/python/python_functions.asp)\n",
        "2. HS Offenburg - Introductory Python Course\n",
        "3. [DataCamp: Intro to Python for Data Science](https://www.datacamp.com/courses/intro-to-python-for-data-science)\n"
      ]
    },
    {
      "cell_type": "markdown",
      "id": "a4df15bb",
      "metadata": {
        "id": "a4df15bb"
      },
      "source": []
    }
  ],
  "metadata": {
    "kernelspec": {
      "display_name": "base",
      "language": "python",
      "name": "python3"
    },
    "language_info": {
      "codemirror_mode": {
        "name": "ipython",
        "version": 3
      },
      "file_extension": ".py",
      "mimetype": "text/x-python",
      "name": "python",
      "nbconvert_exporter": "python",
      "pygments_lexer": "ipython3",
      "version": "3.12.3"
    },
    "colab": {
      "provenance": [],
      "toc_visible": true
    }
  },
  "nbformat": 4,
  "nbformat_minor": 5
}