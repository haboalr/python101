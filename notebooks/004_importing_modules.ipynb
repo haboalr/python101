{
 "cells": [
  {
   "cell_type": "markdown",
   "id": "b40f4532",
   "metadata": {},
   "source": [
    "# Working with Modules and Libraries in Python\n",
    "\n",
    "### Learning Objectives\n",
    "- Understand what modules and packages are\n",
    "- Learn different ways to import modules and their components\n",
    "- Understand the use of aliases and wildcard imports\n",
    "- Learn how to install external packages using `pip`\n",
    "---"
   ]
  },
  {
   "cell_type": "markdown",
   "id": "13e400e3",
   "metadata": {},
   "source": [
    "### What is a Module?\n",
    "\n",
    "A **module** is a file containing Python code—typically functions, variables, or classes—that you can reuse in other programs. \n",
    "Using modules helps:\n",
    "- Keep code **organized** and **modular**\n",
    "- Promote **code reuse**\n",
    "- Reduce repetition and improve **maintainability**\n",
    "\n",
    "Python includes many built-in modules, and you can also:\n",
    "- Create your own modules\n",
    "- Install external packages via `pip`\n"
   ]
  },
  {
   "cell_type": "markdown",
   "id": "d47202b2",
   "metadata": {},
   "source": [
    "### Basic Built-in Module Import\n",
    "Using the `import` statement allows you to access the full module and all its components:"
   ]
  },
  {
   "cell_type": "code",
   "execution_count": 20,
   "id": "c6afd8ff",
   "metadata": {},
   "outputs": [
    {
     "name": "stdout",
     "output_type": "stream",
     "text": [
      "4.0\n",
      "3.141592653589793\n"
     ]
    }
   ],
   "source": [
    "import math\n",
    "\n",
    "# Use math functions with the module name\n",
    "print(math.sqrt(16))     # Output: 4.0\n",
    "print(math.pi)           # Output: 3.141592..."
   ]
  },
  {
   "cell_type": "markdown",
   "id": "00842da0",
   "metadata": {},
   "source": [
    "**Why use this form?**\n",
    "- Keeps function names **clear**\n",
    "- Makes it easy to see where each function comes from"
   ]
  },
  {
   "cell_type": "markdown",
   "id": "2d86ce3d",
   "metadata": {},
   "source": [
    "### Import Specific Functions\n",
    "You can import only the components you need:"
   ]
  },
  {
   "cell_type": "code",
   "execution_count": 21,
   "id": "73a7b2a5",
   "metadata": {},
   "outputs": [
    {
     "name": "stdout",
     "output_type": "stream",
     "text": [
      "4.0\n",
      "3.141592653589793\n"
     ]
    }
   ],
   "source": [
    "from math import sqrt, pi\n",
    "\n",
    "print(sqrt(16))          # Output: 4.0\n",
    "print(pi)                # Output: 3.141592..."
   ]
  },
  {
   "cell_type": "markdown",
   "id": "75f8570e",
   "metadata": {},
   "source": [
    "**Why use this form?**\n",
    "- Improves readability if you use only a few functions\n",
    "- Removes the need for prefixing with `math.`"
   ]
  },
  {
   "cell_type": "markdown",
   "id": "89864316",
   "metadata": {},
   "source": [
    "### Import All Functions (Wildcard Import)\n",
    "This imports **all public names** from the module into your current namespace:"
   ]
  },
  {
   "cell_type": "code",
   "execution_count": 22,
   "id": "9b9c1b82",
   "metadata": {},
   "outputs": [
    {
     "name": "stdout",
     "output_type": "stream",
     "text": [
      "3.0\n",
      "3\n"
     ]
    }
   ],
   "source": [
    "from math import *\n",
    "\n",
    "print(sqrt(9))     # Available directly\n",
    "print(floor(3.7))  # No module prefix needed"
   ]
  },
  {
   "cell_type": "markdown",
   "id": "9cc3fb39",
   "metadata": {},
   "source": [
    "**Why use this?**\n",
    "- Convenient in **short scripts** or **interactive sessions**\n",
    "- Avoids typing the module name repeatedly\n",
    "\n",
    "**Why is it discouraged in larger programs?**\n",
    "- **Namespace collisions**: If two imported modules have functions with the same name, one can overwrite the other without warning\n"
   ]
  },
  {
   "cell_type": "code",
   "execution_count": 24,
   "id": "9d939350",
   "metadata": {},
   "outputs": [],
   "source": [
    "# example \n",
    "from math import *\n",
    "from my_module import *\n",
    "\n",
    "# If both modules have a function called 'sqrt', only the last imported one will be used.\n",
    "result = sqrt(16)  # You can't tell which module this came from!\n",
    "\n",
    "# This can lead to bugs that are hard to detect."
   ]
  },
  {
   "cell_type": "markdown",
   "id": "a15c9808",
   "metadata": {},
   "source": [
    "### Using Aliases\n",
    "Modules or functions can be renamed using `as` to create a short alias:"
   ]
  },
  {
   "cell_type": "code",
   "execution_count": 25,
   "id": "68c8fc18",
   "metadata": {},
   "outputs": [
    {
     "name": "stdout",
     "output_type": "stream",
     "text": [
      "1.0\n"
     ]
    }
   ],
   "source": [
    "import math as m\n",
    "print(m.cos(0))      # Cosine function from math"
   ]
  },
  {
   "cell_type": "code",
   "execution_count": null,
   "id": "8e1c1a39",
   "metadata": {},
   "outputs": [
    {
     "name": "stdout",
     "output_type": "stream",
     "text": [
      "120\n"
     ]
    }
   ],
   "source": [
    "from math import factorial as fact\n",
    "print(fact(5))       "
   ]
  },
  {
   "cell_type": "markdown",
   "id": "563d809e",
   "metadata": {},
   "source": [
    "**Why use aliases?**\n",
    "- Reduces typing if module name is long (e.g., `import matplotlib.pyplot as plt`)\n",
    "- Helps avoid naming conflicts in large projects\n"
   ]
  },
  {
   "cell_type": "markdown",
   "id": "54c6476c",
   "metadata": {},
   "source": [
    "### Creating and Importing Your Own Module"
   ]
  },
  {
   "cell_type": "markdown",
   "id": "57a4583d",
   "metadata": {},
   "source": [
    "Let’s say you have a custom file called `my_module.py` that contains a few arithmetic functions:  \n",
    "You can import and use this module in another script:"
   ]
  },
  {
   "cell_type": "code",
   "execution_count": 28,
   "id": "0dadc647",
   "metadata": {},
   "outputs": [
    {
     "name": "stdout",
     "output_type": "stream",
     "text": [
      "Sum: 15\n",
      "Difference: 5\n",
      "Product: 50\n",
      "Quotient: 2.0\n"
     ]
    }
   ],
   "source": [
    "import my_module\n",
    "x = 10\n",
    "y = 5 \n",
    "\n",
    "print(\"Sum:\", my_module.add(x, y))\n",
    "print(\"Difference:\", my_module.subtract(x, y))\n",
    "print(\"Product:\", my_module.multiply(x, y))\n",
    "print(\"Quotient:\", my_module.divide(x, y))\n"
   ]
  },
  {
   "cell_type": "markdown",
   "id": "92c2252d",
   "metadata": {},
   "source": [
    "**Important:** The `my_module.py` file must be in the **same directory** as your notebook or script, or be placed in a folder listed in your Python path.python"
   ]
  },
  {
   "cell_type": "markdown",
   "id": "a1161789",
   "metadata": {},
   "source": [
    "### Installing External Packages with `pip`\n",
    "If a library is not built-in or locally available, install it using `pip` (Python’s package manager).  \n",
    "To install:"
   ]
  },
  {
   "cell_type": "code",
   "execution_count": 29,
   "id": "60b0816e",
   "metadata": {},
   "outputs": [
    {
     "name": "stdout",
     "output_type": "stream",
     "text": [
      "Defaulting to user installation because normal site-packages is not writeable\n",
      "Requirement already satisfied: requests in c:\\programdata\\anaconda3\\lib\\site-packages (2.32.3)\n",
      "Requirement already satisfied: charset-normalizer<4,>=2 in c:\\programdata\\anaconda3\\lib\\site-packages (from requests) (3.3.2)\n",
      "Requirement already satisfied: idna<4,>=2.5 in c:\\programdata\\anaconda3\\lib\\site-packages (from requests) (3.7)\n",
      "Requirement already satisfied: urllib3<3,>=1.21.1 in c:\\programdata\\anaconda3\\lib\\site-packages (from requests) (2.2.3)\n",
      "Requirement already satisfied: certifi>=2017.4.17 in c:\\programdata\\anaconda3\\lib\\site-packages (from requests) (2025.1.31)\n",
      "Note: you may need to restart the kernel to use updated packages.\n"
     ]
    }
   ],
   "source": [
    "pip install requests"
   ]
  },
  {
   "cell_type": "code",
   "execution_count": 32,
   "id": "ff7ad16c",
   "metadata": {},
   "outputs": [
    {
     "name": "stdout",
     "output_type": "stream",
     "text": [
      "200\n"
     ]
    }
   ],
   "source": [
    "import requests\n",
    "response = requests.get(\"https://www.example.com\")\n",
    "print(response.status_code)"
   ]
  },
  {
   "cell_type": "code",
   "execution_count": 34,
   "id": "f0429b20",
   "metadata": {},
   "outputs": [],
   "source": [
    "# to see installed packages\n",
    "# pip list"
   ]
  },
  {
   "cell_type": "code",
   "execution_count": 36,
   "id": "497eb25c",
   "metadata": {},
   "outputs": [],
   "source": [
    "# to remove package\n",
    "# pip uninstall requests"
   ]
  },
  {
   "cell_type": "markdown",
   "id": "6d2ef5f2",
   "metadata": {},
   "source": [
    "**Note:** You typically run pip in a terminal or command prompt, not from inside Python (unless using `!pip install` in Jupyter)."
   ]
  },
  {
   "cell_type": "markdown",
   "id": "e082bd82",
   "metadata": {},
   "source": [
    "### When to Use Which Import Style?\n",
    "\n",
    "| Import Style                          | Use Case                                                                 |\n",
    "|--------------------------------------|--------------------------------------------------------------------------|\n",
    "| `import module`                      | When you want full clarity and access to everything using prefix         |\n",
    "| `from module import func`            | When using only 1-2 specific items from a module                         |\n",
    "| `from module import *`               | Use **only** in interactive sessions or notebooks (not recommended)     |\n",
    "| `import module as alias`             | When module name is long or conflicts may occur                         |\n",
    "| `from module import func as alias`   | When function name is too generic or long           "
   ]
  },
  {
   "cell_type": "markdown",
   "id": "fd38a061",
   "metadata": {},
   "source": [
    "### What is a Package?\n",
    "A **package** is a collection of modules organized in directories with a `__init__.py` file. For example:\n",
    "```\n",
    "numpy/          → package\n",
    "├── __init__.py\n",
    "├── core.py     → module\n",
    "├── linalg.py   → module\n",
    "```\n",
    "You install and import packages the same way as modules:\n",
    "```bash\n",
    "pip install numpy\n",
    "```\n",
    "```python\n",
    "import numpy as np\n",
    "```\n",
    "\n",
    "### Summary\n",
    "- Modules help organize and reuse code\n",
    "- Use `import` to bring in code from built-in, external, or custom modules\n",
    "- `pip` is used to install third-party libraries\n",
    "- Avoid `from module import *` in production code due to namespace conflicts\n"
   ]
  },
  {
   "cell_type": "markdown",
   "id": "171d3cb9",
   "metadata": {},
   "source": [
    "---\n",
    "### References\n",
    "1. [W3Schools - Python Modules](https://www.w3schools.com/python/python_modules.asp)\n",
    "2. HS Offenburg - Introductory Python Course\n",
    "3. [Python Packaging Guide](https://packaging.python.org/en/latest/)\n",
    "4. [DataCamp: Intro to Python](https://www.datacamp.com/courses/intro-to-python-for-data-science)\n"
   ]
  }
 ],
 "metadata": {
  "kernelspec": {
   "display_name": "base",
   "language": "python",
   "name": "python3"
  },
  "language_info": {
   "codemirror_mode": {
    "name": "ipython",
    "version": 3
   },
   "file_extension": ".py",
   "mimetype": "text/x-python",
   "name": "python",
   "nbconvert_exporter": "python",
   "pygments_lexer": "ipython3",
   "version": "3.12.3"
  }
 },
 "nbformat": 4,
 "nbformat_minor": 5
}
