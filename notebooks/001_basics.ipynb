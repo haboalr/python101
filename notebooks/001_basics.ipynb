{
 "cells": [
  {
   "cell_type": "markdown",
   "id": "dd1c3568",
   "metadata": {},
   "source": [
    "# Introduction to Python\n",
    "Welcome to your first Python notebook! In this notebook, we will explore:\n",
    "- Variables\n",
    "- Basic Python data types\n",
    "- Fundamental data structures: lists, tuples, sets, and dictionaries\n",
    "\n",
    "Python is widely used in data science, machine learning, and automation. Let's start with the very basics.\n",
    "\n",
    "---"
   ]
  },
  {
   "cell_type": "markdown",
   "id": "412ad171",
   "metadata": {},
   "source": [
    "## Section 0: Variables\n",
    "A variable is like a container that stores a value. You can name a variable and assign it a value using the `=` operator.\n",
    "\n",
    "Variable names should be descriptive and cannot start with a number.\n",
    "\n",
    "Variables in computer science differ from those in mathematics.\n",
    "\n",
    "- **Definition**: A variable is a named memory location used to store data.\n",
    "- **Mutability**: Its value can change during program execution.\n",
    "- **Python specifics**: Python is dynamically typed; the type is inferred at assignment and can change later.\n",
    "\n",
    "In Python, a variable allows you to refer to a value with a name. To create a variable use =, like this example:\n",
    "\n",
    "x = 5\n",
    "You can now use the name of this variable, x, instead of the actual value, 5.\n",
    "\n",
    "Remember, = in Python means assignment, it doesn't test equality!\n",
    "\n",
    "**Variables** are created with the **[assignment statement <img height=\"12\" style=\"display: inline-block\" src=\"../static/link/to_py.png\">](https://docs.python.org/3/reference/simple_stmts.html#assignment-statements)** `=`, which is *not* an operator because of its *side effect* of making a **[name <img height=\"12\" style=\"display: inline-block\" src=\"../static/link/to_py.png\">](https://docs.python.org/3/reference/lexical_analysis.html#identifiers)** reference an object in memory.\n",
    "\n",
    "We read the terms **variable**, **name**, and **identifier** used interchangebly in many Python-related texts. In this book, we adopt the following convention: First, we treat *name* and *identifier* as perfect synonyms but only use the term *name* in the text for clarity. Second, whereas *name* only refers to a string of letters, numbers, and some other symbols, a *variable* means the combination of a *name* and a *reference* to an object in memory.\n"
   ]
  },
  {
   "cell_type": "code",
   "execution_count": 2,
   "id": "27421b43",
   "metadata": {},
   "outputs": [],
   "source": [
    "message = \"Hello, Python!\"\n",
    "age = 25\n",
    "pi = 3.14159\n",
    "is_student = True"
   ]
  },
  {
   "cell_type": "code",
   "execution_count": null,
   "id": "f851ccb9",
   "metadata": {},
   "outputs": [
    {
     "name": "stdout",
     "output_type": "stream",
     "text": [
      "Message: Hello, Python! <class 'str'>\n",
      "Age: 25 <class 'int'>\n",
      "Pi: 3.14159 <class 'float'>\n",
      "Is student: True <class 'bool'>\n"
     ]
    }
   ],
   "source": [
    "print(\"Message:\", message, type(message))\n",
    "print(\"Age:\", age, type(age))\n",
    "print(\"Pi:\", pi, type(pi))\n",
    "print(\"Is student:\", is_student, type(is_student))"
   ]
  },
  {
   "cell_type": "markdown",
   "id": "77062dc5",
   "metadata": {},
   "source": [
    "### Variables (Mathematics)\n",
    "\n",
    "A **variable** is a placeholder in an equation (e.g., `x + 2 = 5`).\n",
    "\n",
    "<img src=\"figures/fig1.png\" alt=\"Variables in math vs programming\" width=\"800\"/>\n",
    "\n",
    "<br>\n",
    "<sub><i>Source: Introductory to Python course, Offenburg University of Applied Sciences</i></sub>\n"
   ]
  },
  {
   "cell_type": "markdown",
   "id": "a593c332",
   "metadata": {},
   "source": [
    "### Variables Naming conventions\n",
    "\n",
    "Variable names may contain upper and lower case letters, numbers, and underscores (i.e., `_`) and be as long as we want them to be. However, they must not begin with a number. Also, they must not be any of Python's built-in **[keywords <img height=\"12\" style=\"display: inline-block\" src=\"../static/link/to_py.png\">](https://docs.python.org/3/reference/lexical_analysis.html#keywords)** like `for` or `if`.\n",
    "\n",
    "Variable names should be chosen such that they do not need any more documentation and are self-explanatory. A widespread convention is to use so-called **[snake\\_case <img height=\"12\" style=\"display: inline-block\" src=\"../static/link/to_wiki.png\">](https://en.wikipedia.org/wiki/Snake_case)**: Keep everything lowercase and use underscores to separate words.\n",
    "\n",
    "See this [link <img height=\"12\" style=\"display: inline-block\" src=\"../static/link/to_wiki.png\">](https://en.wikipedia.org/wiki/Naming_convention_%28programming%29#Python_and_Ruby) for a comparison of different naming conventions.\n",
    "\n",
    "Use meaningful names:\n",
    "\n",
    "- `area = 10` (good)\n",
    "- `a = 10` (bad)\n",
    "\n",
    "Naming styles:\n",
    "\n",
    "- `snake_case`: `variable_one`\n",
    "- `camelCase`: `variableOne`\n",
    "- `PascalCase`: `VariableOne`\n",
    "\n",
    "Stick to one style throughout your code.  \n",
    "Avoid special characters: ä → ae, ö → oe, ü → ue."
   ]
  },
  {
   "cell_type": "markdown",
   "id": "c4997d86",
   "metadata": {},
   "source": [
    "#### Good examples"
   ]
  },
  {
   "cell_type": "code",
   "execution_count": null,
   "id": "3632f7ea",
   "metadata": {},
   "outputs": [],
   "source": [
    "variable_one = 1\n",
    "variableOne = 1\n",
    "VariableOne = 1"
   ]
  },
  {
   "cell_type": "markdown",
   "id": "9e700d71",
   "metadata": {},
   "source": [
    "#### Bad examples"
   ]
  },
  {
   "cell_type": "code",
   "execution_count": 6,
   "id": "e8236909",
   "metadata": {},
   "outputs": [],
   "source": [
    "PI = 3.14159 # unless used as a \"Global Constant\", this is not recommended\n",
    "answerToEverything = 42 # this is a style used in language like JavaScript, but not recommended in Python\n",
    "name = \"Alexandar\" # name of what ?\n",
    "type_ = \"studnet\" # variables with leading and trailing underscores are often used for special purposes in Python, so this is not recommended"
   ]
  },
  {
   "cell_type": "markdown",
   "id": "e10b5daf",
   "metadata": {},
   "source": [
    "### Input from user\n",
    "The input() function reads user input as a string by default.\n",
    "For numeric input, convert to int or float explicitly."
   ]
  },
  {
   "cell_type": "code",
   "execution_count": null,
   "id": "fc874bad",
   "metadata": {},
   "outputs": [],
   "source": [
    "# Uncomment below lines to test interactively\n",
    "#name = input(\"Enter your name: \")\n",
    "#age = int(input(\"Enter your age: \"))\n",
    "#print(f\"Hello {name}, you are {age} years old.\")"
   ]
  },
  {
   "cell_type": "markdown",
   "id": "8dba9c1e",
   "metadata": {},
   "source": [
    "### Reassigning Variable\n",
    "You can overwrite a variable by assigning it a new value\n",
    "\n",
    "A variable may be re-assigned as often as we wish. Thereby, we could also assign an object of a different type. Because this is allowed, Python is said to be a dynamically typed language. On the contrary, a statically typed language like C also allows re-assignment but only with objects of the same type. This subtle distinction is one reason why Python is slower at execution than C: As it runs a program, it needs to figure out an object's type each time it is referenced."
   ]
  },
  {
   "cell_type": "code",
   "execution_count": 1,
   "id": "5b85ab65",
   "metadata": {},
   "outputs": [
    {
     "name": "stdout",
     "output_type": "stream",
     "text": [
      "Initial x: 10\n",
      "Reassigned x: 20\n"
     ]
    }
   ],
   "source": [
    "x= 10 \n",
    "print(\"Initial x:\", x)\n",
    "x= 20\n",
    "print(\"Reassigned x:\", x)"
   ]
  },
  {
   "cell_type": "markdown",
   "id": "3abd41b9",
   "metadata": {},
   "source": [
    "---"
   ]
  },
  {
   "cell_type": "markdown",
   "id": "43a5caa6",
   "metadata": {},
   "source": [
    "## Section 1: Basic Data Types\n",
    "\n",
    "What are Data Types?\n",
    "\n",
    "In Python (and programming in general), every value has a type. Data types define:\n",
    "- What kind of value something is (a number, text, etc.)\n",
    "- What operations you can perform with it\n",
    "\n",
    "The data to be processed can be of very different types, e.g., numbers that can be used for calculations, or character strings that can be concatenated.  \n",
    "A data type describes a set of data objects that all have the same structure and can be operated on using the same operations.\n",
    "\n",
    "Python is **dynamically typed**, meaning you don’t need to declare a type explicitly — Python figures it out based on the assigned value.  \n",
    "Python has several built-in data types. The most commonly used are:\n",
    "- Integers (`int`): whole numbers like 5, -1, 0\n",
    "- Floating point numbers (`float`): numbers with decimals like 3.14\n",
    "- Strings (`str`): sequences of characters like \"Hello\"\n",
    "- Boolean (`bool`): `True` or `False` values used for logic\n",
    "\n",
    "<p align=\"center\">\n",
    "  <img src=\"figures/datatypes.png\" alt=\"Python Data Types\" width=\"500\"><br>\n",
    "  <em>Overview of common Python data types</em>\n",
    "</p>\n"
   ]
  },
  {
   "cell_type": "code",
   "execution_count": 11,
   "id": "2d563998",
   "metadata": {},
   "outputs": [
    {
     "name": "stdout",
     "output_type": "stream",
     "text": [
      "x: 10 <class 'int'>\n",
      "y: 3.14 <class 'float'>\n",
      "Name: Alice <class 'str'>\n",
      "Is it raining? False <class 'bool'>\n"
     ]
    }
   ],
   "source": [
    "x = 10 \n",
    "print(\"x:\", x, type(x))\n",
    "\n",
    "y=3.14\n",
    "print(\"y:\", y, type(y))\n",
    "\n",
    "name = \"Alice\"\n",
    "print(\"Name:\", name, type(name))\n",
    "\n",
    "is_raining = False\n",
    "print(\"Is it raining?\", is_raining, type(is_raining))"
   ]
  },
  {
   "cell_type": "markdown",
   "id": "74e46054",
   "metadata": {},
   "source": [
    "### Integers (`int`)\n",
    "\n",
    "**Integer variables in Python:**\n",
    "- Whole numbers without decimal points.\n",
    "- Can be positive or negative.\n",
    "- Often used for counters, indexes, or calculations that don’t require fractions.\n",
    "- Python integers can be arbitrarily large — Python automatically switches to a long integer representation internally when needed.\n"
   ]
  },
  {
   "cell_type": "code",
   "execution_count": 22,
   "id": "026abe7b",
   "metadata": {},
   "outputs": [
    {
     "name": "stdout",
     "output_type": "stream",
     "text": [
      "a: 42 type: <class 'int'>\n",
      "b: -17 type: <class 'int'>\n",
      "c: 1000000 type: <class 'int'>\n",
      "d: 9999999999999999999999999999999999 type: <class 'int'>\n"
     ]
    }
   ],
   "source": [
    "a = 42          # positive integer\n",
    "b = -17         # negative integer\n",
    "c = 1_000_000   # underscores for readability\n",
    "d = 9999999999999999999999999999999999  # very large integer\n",
    "\n",
    "print(\"a:\", a, \"type:\", type(a))\n",
    "print(\"b:\", b, \"type:\", type(b))\n",
    "print(\"c:\", c, \"type:\", type(c))\n",
    "print(\"d:\", d, \"type:\", type(d))\n"
   ]
  },
  {
   "cell_type": "markdown",
   "id": "ad874997",
   "metadata": {},
   "source": [
    "### Floating-Point Numbers (`float`)\n",
    "\n",
    "**Float variables in Python:**\n",
    "- Numbers that can contain decimal places.\n",
    "- Can be positive or negative, and also written in scientific notation.\n",
    "- Used for calculations requiring fractional values, such as physics computations or financial models.\n",
    "- In Python, there is no distinction between single precision and double precision floats like in C — all Python floats are double precision.\n"
   ]
  },
  {
   "cell_type": "code",
   "execution_count": 23,
   "id": "57f2dea9",
   "metadata": {},
   "outputs": [
    {
     "name": "stdout",
     "output_type": "stream",
     "text": [
      "x: 3.14159 type: <class 'float'>\n",
      "y: -0.01 type: <class 'float'>\n",
      "z: 2500.0 type: <class 'float'>\n"
     ]
    }
   ],
   "source": [
    "x = 3.14159        # decimal number\n",
    "y = -0.01          # negative float\n",
    "z = 2.5e3          # scientific notation (2.5 × 10³)\n",
    "\n",
    "print(\"x:\", x, \"type:\", type(x))\n",
    "print(\"y:\", y, \"type:\", type(y))\n",
    "print(\"z:\", z, \"type:\", type(z))\n"
   ]
  },
  {
   "cell_type": "markdown",
   "id": "5de41f83",
   "metadata": {},
   "source": [
    "### Booleans (`bool`)\n",
    "\n",
    "**Boolean variables in Python:**\n",
    "- Can have only two values: `True` or `False`.\n",
    "- Often used for logical evaluations and conditions.\n",
    "- Fundamental for controlling program flow in loops or conditional statements.\n",
    "- Boolean values behave like integers in many cases (`False` = 0, `True` = 1)."
   ]
  },
  {
   "cell_type": "code",
   "execution_count": 24,
   "id": "5e7ef8fa",
   "metadata": {},
   "outputs": [
    {
     "name": "stdout",
     "output_type": "stream",
     "text": [
      "is_active: True type: <class 'bool'>\n",
      "is_admin: False type: <class 'bool'>\n",
      "from_int: True type: <class 'bool'>\n",
      "from_zero: False type: <class 'bool'>\n",
      "The account is active.\n"
     ]
    }
   ],
   "source": [
    "is_active = True\n",
    "is_admin = False\n",
    "from_int = bool(1)    # True because 1 is non-zero\n",
    "from_zero = bool(0)   # False because 0 is zero\n",
    "\n",
    "print(\"is_active:\", is_active, \"type:\", type(is_active))\n",
    "print(\"is_admin:\", is_admin, \"type:\", type(is_admin))\n",
    "print(\"from_int:\", from_int, \"type:\", type(from_int))\n",
    "print(\"from_zero:\", from_zero, \"type:\", type(from_zero))\n",
    "\n",
    "if is_active:\n",
    "    print(\"The account is active.\")\n"
   ]
  },
  {
   "cell_type": "markdown",
   "id": "ce17bf0b",
   "metadata": {},
   "source": [
    "### Strings (`str`)\n",
    "\n",
    "**Strings in Python:**\n",
    "- A sequence of characters enclosed in single (`' '`) or double (`\" \"`) quotes.\n",
    "- Can include letters, numbers, special characters, and spaces.\n",
    "- Commonly used for storing text, processing strings, file names, user inputs, and mor"
   ]
  },
  {
   "cell_type": "code",
   "execution_count": 25,
   "id": "0c32b93e",
   "metadata": {},
   "outputs": [
    {
     "name": "stdout",
     "output_type": "stream",
     "text": [
      "name: Klaus type: <class 'str'>\n",
      "greeting: Hello, World!\n",
      "multi_line:\n",
      " This is\n",
      "a multi-line\n",
      "string.\n",
      "Hello, World! My name is Klaus.\n",
      "Hi! Hi! Hi! \n"
     ]
    }
   ],
   "source": [
    "name = \"Klaus\"\n",
    "greeting = 'Hello, World!'\n",
    "multi_line = \"\"\"This is\n",
    "a multi-line\n",
    "string.\"\"\"\n",
    "\n",
    "print(\"name:\", name, \"type:\", type(name))\n",
    "print(\"greeting:\", greeting)\n",
    "print(\"multi_line:\\n\", multi_line)\n",
    "\n",
    "full_message = greeting + \" My name is \" + name + \".\"\n",
    "print(full_message)\n",
    "\n",
    "repeat = \"Hi! \" * 3\n",
    "print(repeat)\n"
   ]
  },
  {
   "cell_type": "markdown",
   "id": "84f48f55",
   "metadata": {},
   "source": [
    "### Type Conversion (Casting) \n",
    "In Python, type conversion (also called casting) is the process of converting a value from one data type to another.  \n",
    "This is useful when you need to perform operations that require values to be in a specific type — for example, converting user input (which is always a string) into a number for calculations.  \n",
    "\n",
    "Casting operators:\n",
    "- int(x): convert to integer\n",
    "- float(x): convert to float\n",
    "- str(x): convert to string\n",
    "- bool(x): convert to boolean\n"
   ]
  },
  {
   "cell_type": "markdown",
   "id": "98b6d55c",
   "metadata": {},
   "source": [
    "Why is type conversion important?\n",
    "Python is dynamically typed, but sometimes you manually need to change the type. For example:"
   ]
  },
  {
   "cell_type": "code",
   "execution_count": null,
   "id": "6f9aa5e4",
   "metadata": {},
   "outputs": [],
   "source": [
    "age = input(\"Enter your age: \")     # input() returns a string\n",
    "print(age + 1)                      #  This will cause an error"
   ]
  },
  {
   "cell_type": "code",
   "execution_count": 14,
   "id": "19fd3e9f",
   "metadata": {},
   "outputs": [
    {
     "name": "stdout",
     "output_type": "stream",
     "text": [
      "13\n"
     ]
    }
   ],
   "source": [
    "# to fix it \n",
    "age = int(input(\"Enter your age: \"))  # convert input to integer\n",
    "print(age + 1)                      # now this works    "
   ]
  },
  {
   "cell_type": "code",
   "execution_count": 15,
   "id": "0637d11b",
   "metadata": {},
   "outputs": [
    {
     "name": "stdout",
     "output_type": "stream",
     "text": [
      "Type conversions:\n",
      "int(3.14): 3\n",
      "int(3.99): 3\n",
      "float(10): 10.0\n",
      "str(1000): 1000\n",
      "bool(0): False\n",
      "bool(1): True\n"
     ]
    }
   ],
   "source": [
    "now_an_int = int(3.14)\n",
    "also_an_int = int(3.99)\n",
    "float_example = float(10)\n",
    "string_example = str(1000)\n",
    "bool_false = bool(0)\n",
    "bool_true = bool(1)\n",
    "\n",
    "print(\"Type conversions:\")\n",
    "print(\"int(3.14):\", now_an_int)\n",
    "print(\"int(3.99):\", also_an_int)\n",
    "print(\"float(10):\", float_example)\n",
    "print(\"str(1000):\", string_example)\n",
    "print(\"bool(0):\", bool_false)\n",
    "print(\"bool(1):\", bool_true)"
   ]
  },
  {
   "cell_type": "markdown",
   "id": "1bef5d62",
   "metadata": {},
   "source": [
    "### Example 2\n",
    "Using the + operator to paste together two strings can be very useful in building custom messages.\n",
    "\n",
    "Suppose, for example, that you've calculated the return of your investment and want to summarize the results in a string. Assuming the floats savings and result are defined, you can try something like this:\n",
    "\n",
    "```python\n",
    "print(\"I started with $\" + savings + \" and now have $\" + result + \". Awesome!\")\n",
    "```  \n",
    "This will not work, though, as you cannot simply sum strings and floats.\n",
    "\n",
    "To fix the error, you'll need to explicitly convert the types of your variables. More specifically, you'll need str(), to convert a value into a string. str(savings), for example, will convert the float savings to a string.\n",
    "\n",
    "Similar functions such as int(), float() and bool() will help you convert Python values into any type."
   ]
  },
  {
   "cell_type": "code",
   "execution_count": 16,
   "id": "4b16a602",
   "metadata": {},
   "outputs": [
    {
     "name": "stdout",
     "output_type": "stream",
     "text": [
      "I started with $100 and now have $194.87171000000012. Awesome!\n"
     ]
    }
   ],
   "source": [
    "# Definition of savings and result\n",
    "savings = 100\n",
    "result = 100 * 1.10 ** 7\n",
    "\n",
    "# Fix the printout\n",
    "print(\"I started with $\" + str(savings) + \" and now have $\" + str(result) + \". Awesome!\")\n",
    "\n",
    "# Definition of pi_string\n",
    "pi_string = \"3.1415926\"\n",
    "\n",
    "# Convert pi_string into float: pi_float\n",
    "pi_float=float(pi_string)"
   ]
  },
  {
   "cell_type": "markdown",
   "id": "1b0159b0",
   "metadata": {},
   "source": [
    "---"
   ]
  },
  {
   "cell_type": "markdown",
   "id": "297be790",
   "metadata": {},
   "source": [
    "## Section 2: Data Structures\n",
    "Python provides powerful structures to store and manipulate collections of data.\n",
    "\n",
    "We will cover:\n",
    "- List : is a collection which is ordered and changeable. Allows duplicate members.\n",
    "- Tuple : is a collection which is ordered and unchangeable. Allows duplicate members.\n",
    "- Set: is a collection which is unordered and unindexed. No duplicate members.\n",
    "- Dictionary : is a collection which is ordered and changeable. No duplicate members."
   ]
  },
  {
   "cell_type": "markdown",
   "id": "98de4cee",
   "metadata": {},
   "source": [
    "### Lists\n",
    "- Ordered: items have a defined index\n",
    "- Mutable: you can change, add, or remove items\n",
    "- Allows duplicates\n",
    "\n",
    "Lists are used to store multiple items in a single variable."
   ]
  },
  {
   "cell_type": "markdown",
   "id": "5a8505c8",
   "metadata": {},
   "source": [
    "#### Create a list\n",
    "As opposed to int, bool etc., a list is a compound data type; you can group values together:\n",
    "\n",
    "a = \"is\"\n",
    "b = \"nice\"\n",
    "my_list = [\"my\", \"list\", a, b]\n"
   ]
  },
  {
   "cell_type": "code",
   "execution_count": 19,
   "id": "bde49a84",
   "metadata": {},
   "outputs": [
    {
     "name": "stdout",
     "output_type": "stream",
     "text": [
      "Grades: [85, 90, 78, 92]\n"
     ]
    }
   ],
   "source": [
    "#student grade variables\n",
    "alice = 85\n",
    "bob = 90\n",
    "carol = 78\n",
    "dave = 92\n",
    "\n",
    "#create list grades\n",
    "grades= [alice, bob, carol,dave]\n",
    "\n",
    "# Print areas\n",
    "print(\"Grades:\", grades)"
   ]
  },
  {
   "cell_type": "markdown",
   "id": "96b86b24",
   "metadata": {},
   "source": [
    "#### Create list with different types \n",
    "A list can contain any Python type. Although it's not really common, a list can also contain a mix of Python types including strings, floats, booleans, etc.\n",
    "\n",
    "The printout of the previous exercise wasn't really satisfying. It's just a list of numbers representing the grades, but you can't tell which grade belongs to which student."
   ]
  },
  {
   "cell_type": "code",
   "execution_count": 20,
   "id": "65754e51",
   "metadata": {},
   "outputs": [
    {
     "name": "stdout",
     "output_type": "stream",
     "text": [
      "['Alice', 85.5, 'Bob', 90.0, 'Carol', 78.0, 'Dave', 92.5, 'Eve', 88.0]\n"
     ]
    }
   ],
   "source": [
    "# grade variables (out of 100)\n",
    "alice = 85.5\n",
    "bob = 90.0\n",
    "carol = 78.0\n",
    "dave = 92.5\n",
    "eve = 88.0\n",
    "\n",
    "# Adapt list grades with names\n",
    "grades = [\"Alice\", alice, \"Bob\", bob, \"Carol\", carol, \"Dave\", dave, \"Eve\", eve]\n",
    "\n",
    "# Print grades\n",
    "print(grades)\n"
   ]
  },
  {
   "cell_type": "markdown",
   "id": "7337af7e",
   "metadata": {},
   "source": [
    "#### List of Lists\n",
    "As a data scientist, you'll often be dealing with a lot of data, and it will make sense to group related data together.\n",
    "\n",
    "Instead of creating a flat list containing strings and floats, representing the names and grades of students, you can create a list of lists, where each inner list contains a student's name and their corresponding grade.\n",
    "\n",
    "Don't get confused here: \"Alice\" is a string, while alice is a variable that holds the float 85.5 you specified earlier."
   ]
  },
  {
   "cell_type": "code",
   "execution_count": 21,
   "id": "0591db1b",
   "metadata": {},
   "outputs": [
    {
     "name": "stdout",
     "output_type": "stream",
     "text": [
      "[['Alice', 85.5], ['Bob', 90.0], ['Carol', 78.0], ['Dave', 92.5], ['Eve', 88.0]]\n",
      "<class 'list'>\n"
     ]
    }
   ],
   "source": [
    "# grade variables (out of 100)\n",
    "alice = 85.5\n",
    "bob = 90.0\n",
    "carol = 78.0\n",
    "dave = 92.5\n",
    "eve = 88.0\n",
    "\n",
    "# student information as list of lists\n",
    "students = [[\"Alice\", alice],\n",
    "            [\"Bob\", bob],\n",
    "            [\"Carol\", carol],\n",
    "            [\"Dave\", dave],\n",
    "            [\"Eve\", eve]]\n",
    "\n",
    "# Print out students\n",
    "print(students)\n",
    "\n",
    "# Print out the type of students\n",
    "print(type(students))\n"
   ]
  },
  {
   "cell_type": "markdown",
   "id": "fbe0a93d",
   "metadata": {},
   "source": [
    "#### Subset and conquer\n",
    "Subsetting Python lists is a piece of cake. Take the code sample below, which creates a list x and then selects \"b\" from it. Remember that this is the second element, so it has index 1. You can also use negative indexing.\n",
    "\n",
    "```python\n",
    "x = [\"a\", \"b\", \"c\", \"d\"]\n",
    "x[1]\n",
    "x[-3] # same result!\n",
    "```\n",
    "Remember the areas list from before, containing both strings and floats?. Can you add the correct code to do some Python subsetting?"
   ]
  },
  {
   "cell_type": "code",
   "execution_count": 22,
   "id": "96d34bb9",
   "metadata": {},
   "outputs": [
    {
     "name": "stdout",
     "output_type": "stream",
     "text": [
      "85.5\n",
      "88.0\n",
      "78.0\n"
     ]
    }
   ],
   "source": [
    "# Create the grades list\n",
    "grades = [\"Alice\", 85.5, \"Bob\", 90.0, \"Carol\", 78.0, \"Dave\", 92.5, \"Eve\", 88.0]\n",
    "\n",
    "# Print out second element from grades (Alice's grade)\n",
    "print(grades[1])\n",
    "\n",
    "# Print out last element from grades (Eve's grade)\n",
    "print(grades[-1])\n",
    "\n",
    "# Print out Carol's grade\n",
    "print(grades[5])\n"
   ]
  },
  {
   "cell_type": "markdown",
   "id": "9a739593",
   "metadata": {},
   "source": [
    "#### Subset and calculate\n",
    "\n",
    "After you've extracted values from a list, you can use them to perform additional calculations. Take this example, where the second and fourth element of a list `x` are extracted. The strings that result are pasted together using the `+` operator:\n",
    "\n",
    "```python\n",
    "x = [\"Alice\", \"scored \", \"Bob\", \"90\"]\n",
    "print(x[1] + x[3])\n",
    "```"
   ]
  },
  {
   "cell_type": "code",
   "execution_count": 23,
   "id": "be139d6f",
   "metadata": {},
   "outputs": [
    {
     "name": "stdout",
     "output_type": "stream",
     "text": [
      "182.5\n"
     ]
    }
   ],
   "source": [
    "# Create the grades list\n",
    "grades = [\"Alice\", 85.5, \"Bob\", 90.0, \"Carol\", 78.0, \"Dave\", 92.5, \"Eve\", 88.0]\n",
    "\n",
    "# Sum of Bob's and Dave's grades: group_total\n",
    "group_total = grades[3] + grades[7]\n",
    "\n",
    "# Print the variable group_total\n",
    "print(group_total)\n"
   ]
  },
  {
   "cell_type": "markdown",
   "id": "c2296e90",
   "metadata": {},
   "source": [
    "#### Slicing and dicing\n",
    "\n",
    "Selecting single values from a list is just one part of the story. It's also possible to slice your list, which means selecting multiple elements from your list. Use the following syntax:\n",
    "\n",
    "`my_list[start:end]`  \n",
    "The start index will be included, while the end index is not.\n",
    "\n",
    "The code sample below shows an example. A list with `\"b\"` and `\"c\"`, corresponding to indexes 1 and 2, are selected from a list `x`:\n",
    "\n",
    "```python\n",
    "x = [\"a\", \"b\", \"c\", \"d\"]\n",
    "x[1:3]\n",
    "```\n"
   ]
  },
  {
   "cell_type": "code",
   "execution_count": 26,
   "id": "660ee379",
   "metadata": {},
   "outputs": [
    {
     "name": "stdout",
     "output_type": "stream",
     "text": [
      "['Alice', 85.5, 'Bob', 90.0, 'Carol', 78.0] ['Dave', 92.5, 'Eve', 88.0]\n"
     ]
    }
   ],
   "source": [
    "# Create the grades list\n",
    "grades = [\"Alice\", 85.5, \"Bob\", 90.0, \"Carol\", 78.0, \"Dave\", 92.5, \"Eve\", 88.0]\n",
    "\n",
    "# Use slicing to create group_1 (first 3 students)\n",
    "group_1 = grades[:6]\n",
    "\n",
    "# Use slicing to create group_2 (last 2 students)\n",
    "group_2 = grades[6:10]\n",
    "\n",
    "# Print out both groups\n",
    "print(group_1, group_2)\n"
   ]
  },
  {
   "cell_type": "markdown",
   "id": "13870702",
   "metadata": {},
   "source": [
    "#### Subsetting lists of lists\n",
    "\n",
    "You saw before that a Python list can contain practically anything — even other lists! To subset lists of lists, you can use the same technique as before: square brackets.\n"
   ]
  },
  {
   "cell_type": "code",
   "execution_count": 27,
   "id": "4d300941",
   "metadata": {},
   "outputs": [
    {
     "name": "stdout",
     "output_type": "stream",
     "text": [
      "g\n",
      "['g', 'h']\n"
     ]
    }
   ],
   "source": [
    "x = [[\"a\", \"b\", \"c\"],\n",
    "     [\"d\", \"e\", \"f\"],\n",
    "     [\"g\", \"h\", \"i\"]]\n",
    "print(x[2][0])\n",
    "print(x[2][:2])"
   ]
  },
  {
   "cell_type": "markdown",
   "id": "5d6e10b2",
   "metadata": {},
   "source": [
    "`x[2]` results in a list, which you can subset again by adding additional square brackets."
   ]
  },
  {
   "cell_type": "code",
   "execution_count": 28,
   "id": "d28ce9b9",
   "metadata": {},
   "outputs": [],
   "source": [
    "students = [[\"Alice\", 85.5],\n",
    "            [\"Bob\", 90.0],\n",
    "            [\"Carol\", 78.0],\n",
    "            [\"Dave\", 92.5],\n",
    "            [\"Eve\", 88.0]]\n",
    "\n",
    "#What will `students[-1][1]` return?"
   ]
  },
  {
   "cell_type": "code",
   "execution_count": 30,
   "id": "62e64dda",
   "metadata": {},
   "outputs": [
    {
     "name": "stdout",
     "output_type": "stream",
     "text": [
      "88.0\n"
     ]
    }
   ],
   "source": [
    "print(students[-1][1])"
   ]
  },
  {
   "cell_type": "markdown",
   "id": "33a7933e",
   "metadata": {},
   "source": [
    "#### Replace list elements\n",
    "\n",
    "Replacing list elements is pretty easy. Simply subset the list and assign new values to the subset. You can select single elements or change entire list slices at once.\n"
   ]
  },
  {
   "cell_type": "code",
   "execution_count": 31,
   "id": "0112c616",
   "metadata": {},
   "outputs": [
    {
     "name": "stdout",
     "output_type": "stream",
     "text": [
      "['a', 'r', 's', 't']\n"
     ]
    }
   ],
   "source": [
    "x = [\"a\", \"b\", \"c\", \"d\"]\n",
    "x[1] = \"r\"\n",
    "x[2:] = [\"s\", \"t\"]\n",
    "print(x)"
   ]
  },
  {
   "cell_type": "code",
   "execution_count": 32,
   "id": "e219bd2d",
   "metadata": {},
   "outputs": [
    {
     "name": "stdout",
     "output_type": "stream",
     "text": [
      "['Alice', 85.5, 'Bob', 90.0, 'Caroline', 78.0, 'Dave', 92.5, 'Eve', 91.0]\n"
     ]
    }
   ],
   "source": [
    "grades = [\"Alice\", 85.5, \"Bob\", 90.0, \"Carol\", 78.0, \"Dave\", 92.5, \"Eve\", 88.0]\n",
    "\n",
    "# Correct Eve's grade\n",
    "grades[-1] = 91.0\n",
    "\n",
    "# Change \"Carol\" to \"Caroline\"\n",
    "grades[4] = \"Caroline\"\n",
    "\n",
    "print(grades)\n"
   ]
  },
  {
   "cell_type": "markdown",
   "id": "99c8afe7",
   "metadata": {},
   "source": [
    "#### Extend a list\n",
    "\n",
    "If you can change elements in a list, you can also add elements to it using the `+` operator.\n"
   ]
  },
  {
   "cell_type": "code",
   "execution_count": 33,
   "id": "d35fdd18",
   "metadata": {},
   "outputs": [
    {
     "name": "stdout",
     "output_type": "stream",
     "text": [
      "['Alice', 85.5, 'Bob', 90.0, 'Caroline', 78.0, 'Dave', 92.5, 'Eve', 91.0, 'Frank', 84.0, 'Grace', 89.5]\n"
     ]
    }
   ],
   "source": [
    "grades = [\"Alice\", 85.5, \"Bob\", 90.0, \"Caroline\", 78.0,\n",
    "          \"Dave\", 92.5, \"Eve\", 91.0]\n",
    "\n",
    "# Add Frank's data\n",
    "grades_1 = grades + [\"Frank\", 84.0]\n",
    "\n",
    "# Add Grace's data\n",
    "grades_2 = grades_1 + [\"Grace\", 89.5]\n",
    "\n",
    "print(grades_2)\n"
   ]
  },
  {
   "cell_type": "markdown",
   "id": "81b61d9c",
   "metadata": {},
   "source": [
    "#### Delete list elements\n",
    "\n",
    "You can remove elements from your list using the `del` statement:\n"
   ]
  },
  {
   "cell_type": "code",
   "execution_count": 35,
   "id": "92981527",
   "metadata": {},
   "outputs": [
    {
     "name": "stdout",
     "output_type": "stream",
     "text": [
      "['Alice', 85.5, 'Bob', 90.0, 'Caroline', 78.0, 'Dave', 92.5, 'Eve', 91.0, 'Grace', 89.5]\n"
     ]
    }
   ],
   "source": [
    "grades = [\"Alice\", 85.5, \"Bob\", 90.0, \"Caroline\", 78.0,\n",
    "          \"Dave\", 92.5, \"Eve\", 91.0, \"Frank\", 84.0, \"Grace\", 89.5]\n",
    "\n",
    "del grades[10:12]\n",
    "print(grades)\n"
   ]
  },
  {
   "cell_type": "markdown",
   "id": "a731ca37",
   "metadata": {},
   "source": [
    "#### Inner workings of lists\n",
    "\n",
    "The code below creates a list `grades` and assigns it to `grades_copy`. Modifying `grades_copy` also changes `grades`, because both refer to the same list.\n"
   ]
  },
  {
   "cell_type": "code",
   "execution_count": 36,
   "id": "f225d3ab",
   "metadata": {},
   "outputs": [
    {
     "name": "stdout",
     "output_type": "stream",
     "text": [
      "[50.0, 90.0, 78.0, 92.5, 91.0]\n",
      "[50.0, 90.0, 78.0, 92.5, 91.0]\n"
     ]
    }
   ],
   "source": [
    "grades = [85.5, 90.0, 78.0, 92.5, 91.0]\n",
    "grades_copy = grades\n",
    "grades_copy[0] = 50.0\n",
    "\n",
    "print(grades)\n",
    "print(grades_copy)\n"
   ]
  },
  {
   "cell_type": "code",
   "execution_count": 37,
   "id": "2f47a181",
   "metadata": {},
   "outputs": [
    {
     "name": "stdout",
     "output_type": "stream",
     "text": [
      "[85.5, 90.0, 78.0, 92.5, 91.0]\n",
      "[50.0, 90.0, 78.0, 92.5, 91.0]\n"
     ]
    }
   ],
   "source": [
    "# To avoid this, make an **explicit copy** using `list()` or slicing.\n",
    "\n",
    "grades = [85.5, 90.0, 78.0, 92.5, 91.0]\n",
    "grades_copy = list(grades)\n",
    "grades_copy[0] = 50.0\n",
    "\n",
    "print(grades)\n",
    "print(grades_copy)"
   ]
  },
  {
   "cell_type": "markdown",
   "id": "c422ed91",
   "metadata": {},
   "source": [
    "### Tuples\n",
    "- Ordered\n",
    "- Immutable: once created, it cannot be changed\n",
    "- Allows duplicates\n",
    "\n",
    "Tuples are useful for fixed data collections (e.g., GPS coordinates)."
   ]
  },
  {
   "cell_type": "code",
   "execution_count": 38,
   "id": "4e698277",
   "metadata": {},
   "outputs": [
    {
     "name": "stdout",
     "output_type": "stream",
     "text": [
      "Tuple: (1, 2, 3)\n",
      "First element: 1\n"
     ]
    }
   ],
   "source": [
    "tuple_example = (1, 2, 3)\n",
    "print(\"Tuple:\", tuple_example)\n",
    "print(\"First element:\", tuple_example[0])"
   ]
  },
  {
   "cell_type": "markdown",
   "id": "49a59040",
   "metadata": {},
   "source": [
    "### Sets\n",
    "- Unordered\n",
    "- Mutable\n",
    "- No duplicate elements\n",
    "\n",
    "Sets are often used to store unique values."
   ]
  },
  {
   "cell_type": "code",
   "execution_count": 39,
   "id": "2ec7caad",
   "metadata": {},
   "outputs": [
    {
     "name": "stdout",
     "output_type": "stream",
     "text": [
      "Set: {'blue', 'red', 'green'}\n",
      "After add: {'blue', 'red', 'green', 'yellow'}\n"
     ]
    }
   ],
   "source": [
    "colors = {\"red\", \"green\", \"blue\", \"red\"}\n",
    "print(\"Set:\", colors)\n",
    "colors.add(\"yellow\")\n",
    "print(\"After add:\", colors)"
   ]
  },
  {
   "cell_type": "markdown",
   "id": "c87280e5",
   "metadata": {},
   "source": [
    "### Dictionaries\n",
    "- Collection of key-value pairs\n",
    "- Keys must be unique\n",
    "- Values can be any type\n",
    "- Mutable\n",
    "\n",
    "Dictionaries are ideal for storing data that’s logically connected."
   ]
  },
  {
   "cell_type": "code",
   "execution_count": 40,
   "id": "6298f740",
   "metadata": {},
   "outputs": [
    {
     "name": "stdout",
     "output_type": "stream",
     "text": [
      "Student dictionary: {'name': 'Alice', 'age': 23, 'major': 'Data Science'}\n",
      "Name: Alice\n",
      "After adding grade: {'name': 'Alice', 'age': 23, 'major': 'Data Science', 'grade': 'A'}\n",
      "Updated age: {'name': 'Alice', 'age': 24, 'major': 'Data Science', 'grade': 'A'}\n"
     ]
    }
   ],
   "source": [
    "student = {\n",
    "    \"name\": \"Alice\",\n",
    "    \"age\": 23,\n",
    "    \"major\": \"Data Science\"\n",
    "}\n",
    "print(\"Student dictionary:\", student)\n",
    "print(\"Name:\", student[\"name\"])\n",
    "student[\"grade\"] = \"A\"\n",
    "print(\"After adding grade:\", student)\n",
    "student[\"age\"] = 24\n",
    "print(\"Updated age:\", student)"
   ]
  },
  {
   "cell_type": "markdown",
   "id": "69997bac",
   "metadata": {},
   "source": [
    "### Summary Table\n",
    "\n",
    "| Structure   | Constructor | Mutable | Ordered | Allows Duplicates |\n",
    "|-------------|--|---------|---------|--------------------|\n",
    "| List        | [] |✅      | ✅      | ✅                |\n",
    "| Tuple       | {}|❌      | ✅      | ✅                |\n",
    "| Set         | ()|✅      | ❌      | ❌                |\n",
    "| Dictionary  | {\"key\": value}|✅      | ✅ (keys) | ❌ (keys)       |\n"
   ]
  },
  {
   "cell_type": "markdown",
   "id": "76323128",
   "metadata": {},
   "source": [
    "\n",
    "<img src=\"figures/fig3.png\" alt=\"Summary of Data Structures\" width=\"600\"/>\n",
    "\n",
    "<small>Source: <a href=\"https://medium.com/@aitarurachel/data-structures-with-lists-tuples-dictionaries-and-sets-in-python-612245a712af\" target=\"_blank\">Data Structures in Python – Medium</a></small>\n"
   ]
  },
  {
   "cell_type": "markdown",
   "id": "5dd4f18c",
   "metadata": {},
   "source": [
    "---"
   ]
  },
  {
   "cell_type": "markdown",
   "id": "35045969",
   "metadata": {},
   "source": [
    "\n",
    "### References\n",
    "\n",
    "1. [DataCamp – Introduction to Python for Data Science](https://www.datacamp.com/courses/intro-to-python-for-data-science?utm_cid=22785184694&utm_aid=185890095721&utm_campaign=220808_1-ps-brd~brd~branded-variations_2-b2c_3-emea_4-rtw_5-na_6-na_7-le_8-pdsh-go_9-b-e_10-na_11-na&utm_loc=9041859-&utm_mtd=e-c&utm_kw=datacamp%20python%20course&utm_source=google&utm_medium=paid_search&utm_content=ps-other~emea-en~brd~tech~python&gad_source=1&gad_campaignid=22785184694&gbraid=0AAAAADQ9WsFGbwt0khugCn-zS_JkuMAfh&gclid=CjwKCAjwy7HEBhBJEiwA5hQNothFvZtzAJZuYzMvsuZIdqptprOQa2hdhbdrVfwN7K09czVXQu-7ihoC4ScQAvD_BwE)\n",
    "\n",
    "2. HS Offenburg – Introductory to Python course materials *(internal university resource)*\n"
   ]
  }
 ],
 "metadata": {
  "kernelspec": {
   "display_name": "base",
   "language": "python",
   "name": "python3"
  },
  "language_info": {
   "codemirror_mode": {
    "name": "ipython",
    "version": 3
   },
   "file_extension": ".py",
   "mimetype": "text/x-python",
   "name": "python",
   "nbconvert_exporter": "python",
   "pygments_lexer": "ipython3",
   "version": "3.12.3"
  }
 },
 "nbformat": 4,
 "nbformat_minor": 5
}
