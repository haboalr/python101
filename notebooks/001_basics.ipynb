{
  "cells": [
    {
      "cell_type": "markdown",
      "id": "dd1c3568",
      "metadata": {
        "id": "dd1c3568"
      },
      "source": [
        "# Introduction to Python\n",
        "Welcome to your first Python notebook! In this notebook, we will explore:\n",
        "- Variables\n",
        "- Basic Python data types\n",
        "- Fundamental data structures: lists, tuples, sets, and dictionaries\n",
        "\n",
        "Python is widely used in data science, machine learning, and automation. Let's start with the very basics.\n",
        "\n",
        "---"
      ]
    },
    {
      "cell_type": "markdown",
      "id": "412ad171",
      "metadata": {
        "id": "412ad171"
      },
      "source": [
        "## Section 0: Variables\n",
        "A variable is like a container that stores a value. You can name a variable and assign it a value using the `=` operator.\n",
        "\n",
        "Variable names should be descriptive and cannot start with a number.\n",
        "\n",
        "Variables in computer science differ from those in mathematics.\n",
        "\n",
        "- **Definition**: A variable is a named memory location used to store data.\n",
        "- **Mutability**: Its value can change during program execution.\n",
        "- **Python specifics**: Python is dynamically typed; the type is inferred at assignment and can change later.\n",
        "\n",
        "In Python, a variable allows you to refer to a value with a name. To create a variable use `=`, like this example:\n",
        "\n",
        "`x = 5`  \n",
        "You can now use the name of this variable, x, instead of the actual value, 5.\n",
        "\n",
        "Remember, `=` in Python means assignment, it doesn't test equality!\n",
        "\n",
        "**Variables** are created with the\n",
        "[assignment statement](https://docs.python.org/3/reference/simple_stmts.html#assignment-statements) `=`,  \n",
        "which is *not* an operator because of its *side effect* of making a\n",
        "[name](https://docs.python.org/3/reference/lexical_analysis.html#identifiers) reference an object in memory.\n",
        "\n"
      ]
    },
    {
      "cell_type": "code",
      "execution_count": null,
      "id": "27421b43",
      "metadata": {
        "id": "27421b43"
      },
      "outputs": [],
      "source": [
        "message = \"Hello, Python!\"\n",
        "age = 25\n",
        "pi = 3.14159\n",
        "is_student = True"
      ]
    },
    {
      "cell_type": "code",
      "execution_count": null,
      "id": "f851ccb9",
      "metadata": {
        "id": "f851ccb9",
        "outputId": "721c4056-3258-4749-fbb1-41a922313045"
      },
      "outputs": [
        {
          "name": "stdout",
          "output_type": "stream",
          "text": [
            "Message: Hello, Python! <class 'str'>\n",
            "Age: 25 <class 'int'>\n",
            "Pi: 3.14159 <class 'float'>\n",
            "Is student: True <class 'bool'>\n"
          ]
        }
      ],
      "source": [
        "print(\"Message:\", message, type(message))\n",
        "print(\"Age:\", age, type(age))\n",
        "print(\"Pi:\", pi, type(pi))\n",
        "print(\"Is student:\", is_student, type(is_student))"
      ]
    },
    {
      "cell_type": "markdown",
      "source": [
        "### Variables Hold Refernces to Objects\n",
        "What happens when you create a variable with an assignement? This is an important question in Python becuase the answer differs from many other porgarmming languages\n",
        "\n",
        "Python is an [object-oriented progarmming](https://realpython.com/python3-object-oriented-programming/). Every piece of data in a Python program is an object of speicfic type or class.   \n",
        "\n",
        "Consider this code:\n"
      ],
      "metadata": {
        "id": "Y7au5P1IwHrA"
      },
      "id": "Y7au5P1IwHrA"
    },
    {
      "cell_type": "code",
      "source": [
        "42\n"
      ],
      "metadata": {
        "colab": {
          "base_uri": "https://localhost:8080/"
        },
        "id": "FpOzv41DyVsh",
        "outputId": "577fc673-5365-40e1-babf-fa54f37cac65"
      },
      "id": "FpOzv41DyVsh",
      "execution_count": 10,
      "outputs": [
        {
          "output_type": "execute_result",
          "data": {
            "text/plain": [
              "42"
            ]
          },
          "metadata": {},
          "execution_count": 10
        }
      ]
    },
    {
      "cell_type": "markdown",
      "source": [
        "What does Python do here? Even though you only see `42` printed back to you, what is actually happening:\n",
        "\n",
        "1.   It creates an integer object in memory.\n",
        "2.   It stores the value 42 inside that object.\n",
        "3.   It then shows the object back to you in the output.\n",
        "\n",
        "So the number `42` is not just a “raw value.” It is a proper Python object.\n",
        "\n",
        "You can confirm this with the type() function:"
      ],
      "metadata": {
        "id": "mcuqiLTLysze"
      },
      "id": "mcuqiLTLysze"
    },
    {
      "cell_type": "code",
      "source": [
        "type(42)"
      ],
      "metadata": {
        "colab": {
          "base_uri": "https://localhost:8080/"
        },
        "id": "_0FXqgSN0eAr",
        "outputId": "431c5d69-c3a9-466a-bb0c-ea123e589a6e"
      },
      "id": "_0FXqgSN0eAr",
      "execution_count": 11,
      "outputs": [
        {
          "output_type": "execute_result",
          "data": {
            "text/plain": [
              "int"
            ]
          },
          "metadata": {},
          "execution_count": 11
        }
      ]
    },
    {
      "cell_type": "markdown",
      "source": [
        "Now let's create a variable:"
      ],
      "metadata": {
        "id": "qOKKOVtf24Kx"
      },
      "id": "qOKKOVtf24Kx"
    },
    {
      "cell_type": "code",
      "source": [
        "a = 42"
      ],
      "metadata": {
        "id": "4SrlF1e93UW5"
      },
      "id": "4SrlF1e93UW5",
      "execution_count": 12,
      "outputs": []
    },
    {
      "cell_type": "markdown",
      "source": [
        "What happens here?\n",
        "\n",
        "*   Python already has the object `42`\n",
        "*   It now makes the variable `a` point to the object\n",
        "\n",
        "This is very differenet from how variables work in some other programming languages. In python, a variable **does not hold** the value. Instead, the variable is like a **label** that you attach to the object.\n",
        "\n",
        "so `a` simply is reference to the object `42`\n",
        "\n",
        "<img src=\"https://github.com/haboalr/python101/blob/main/notebooks/figures/a--42.png?raw=1\" alt=\"Variable Assignment\" width=\"300\"/>\n",
        "\n",
        "<br>\n",
        "<sub><i></i></sub>\n",
        "\n",
        "\n"
      ],
      "metadata": {
        "id": "kX39-OyK3ZZa"
      },
      "id": "kX39-OyK3ZZa"
    },
    {
      "cell_type": "code",
      "source": [
        "print(a)\n",
        "print(type(a))\n",
        "print(id(a))"
      ],
      "metadata": {
        "colab": {
          "base_uri": "https://localhost:8080/"
        },
        "id": "QNOInOBD7uav",
        "outputId": "84bf0b08-d3ed-4410-b6f6-c2e62a8bb0ba"
      },
      "id": "QNOInOBD7uav",
      "execution_count": 13,
      "outputs": [
        {
          "output_type": "stream",
          "name": "stdout",
          "text": [
            "42\n",
            "<class 'int'>\n",
            "11643400\n"
          ]
        }
      ]
    },
    {
      "cell_type": "markdown",
      "source": [
        "the `id` function give you the identitiy of the object `a` points to, this identitiy is the memory address where the object lives.\n",
        "\n",
        "You can create multiple variable that point to the same object. In other words, variables that hold the same memory address:"
      ],
      "metadata": {
        "id": "98wuS_In8BC2"
      },
      "id": "98wuS_In8BC2"
    },
    {
      "cell_type": "code",
      "source": [
        "b = a"
      ],
      "metadata": {
        "id": "yT0s6Lh98P2y"
      },
      "id": "yT0s6Lh98P2y",
      "execution_count": 15,
      "outputs": []
    },
    {
      "cell_type": "markdown",
      "source": [
        "Now Python doesn’t make a new object. Instead, it makes `b` point to the same object that `a` is already pointing to.\n",
        "\n",
        "So both `a` and `b` are just two names for the same thing: the integer object `42`.\n",
        "\n",
        "You can check this with `id()`:\n",
        "\n",
        "<img src=\"https://github.com/haboalr/python101/blob/main/notebooks/figures/a-b-42.png?raw=1\" alt=\"Variable Assignment\" width=\"500\"/>\n",
        "\n",
        "<br>\n",
        "<sub><i></i></sub>"
      ],
      "metadata": {
        "id": "rzBc6Q3J832P"
      },
      "id": "rzBc6Q3J832P"
    },
    {
      "cell_type": "code",
      "source": [
        "id(a) == id(b)"
      ],
      "metadata": {
        "colab": {
          "base_uri": "https://localhost:8080/"
        },
        "id": "_XQAvsIk9Gti",
        "outputId": "f283fc6c-c617-4380-9a06-64066a7fda51"
      },
      "id": "_XQAvsIk9Gti",
      "execution_count": 16,
      "outputs": [
        {
          "output_type": "execute_result",
          "data": {
            "text/plain": [
              "True"
            ]
          },
          "metadata": {},
          "execution_count": 16
        }
      ]
    },
    {
      "cell_type": "markdown",
      "id": "77062dc5",
      "metadata": {
        "id": "77062dc5"
      },
      "source": [
        "### Variables (Mathematics)\n",
        "\n",
        "A **variable** is a placeholder in an equation (e.g., `x + 2 = 5`).\n",
        "\n",
        "<img src=\"https://github.com/haboalr/python101/blob/main/notebooks/figures/fig1.png?raw=1\" alt=\"Variables in math vs programming\" width=\"800\"/>\n",
        "\n",
        "<br>\n",
        "<sub><i>Source: Introductory to Python course, Offenburg University of Applied Sciences</i></sub>\n"
      ]
    },
    {
      "cell_type": "markdown",
      "id": "a593c332",
      "metadata": {
        "id": "a593c332"
      },
      "source": [
        "### Variables Naming conventions\n",
        "\n",
        "Variable names may contain upper and lower case letters, numbers, and underscores (i.e., `_`) and be as long as we want them to be. However, they must not begin with a number. Also, they must not be any of Python's built-in **[keywords](https://docs.python.org/3/reference/lexical_analysis.html#keywords)** like `for` or `if`.\n",
        "\n",
        "Variable names should be chosen such that they do not need any more documentation and are self-explanatory. A widespread convention is to use so-called **[snake_case](https://en.wikipedia.org/wiki/Snake_case)**: Keep everything lowercase and use underscores to separate words.\n",
        "\n",
        "See this [link](https://en.wikipedia.org/wiki/Naming_convention_%28programming%29#Python_and_Ruby) for a comparison of different naming conventions.\n",
        "\n",
        "Use meaningful names:\n",
        "\n",
        "- `area = 10` (good)\n",
        "- `a = 10` (bad)\n",
        "\n",
        "Naming styles:\n",
        "\n",
        "- `snake_case`: `variable_one`\n",
        "- `camelCase`: `variableOne`\n",
        "- `PascalCase`: `VariableOne`\n",
        "\n",
        "Stick to one style throughout your code.  \n",
        "Avoid special characters: ä → ae, ö → oe, ü → ue.\n"
      ]
    },
    {
      "cell_type": "markdown",
      "id": "c4997d86",
      "metadata": {
        "id": "c4997d86"
      },
      "source": [
        "#### Good examples"
      ]
    },
    {
      "cell_type": "code",
      "execution_count": null,
      "id": "3632f7ea",
      "metadata": {
        "id": "3632f7ea"
      },
      "outputs": [],
      "source": [
        "variable_one = 1\n",
        "variableOne = 1\n",
        "VariableOne = 1"
      ]
    },
    {
      "cell_type": "markdown",
      "id": "9e700d71",
      "metadata": {
        "id": "9e700d71"
      },
      "source": [
        "#### Bad examples"
      ]
    },
    {
      "cell_type": "code",
      "execution_count": null,
      "id": "e8236909",
      "metadata": {
        "id": "e8236909"
      },
      "outputs": [],
      "source": [
        "PI = 3.14159 # unless used as a \"Global Constant\", this is not recommended\n",
        "answerToEverything = 42 # this is a style used in language like JavaScript, but not recommended in Python\n",
        "name = \"Alexandar\" # name of what ?\n",
        "type_ = \"studnet\" # variables with leading and trailing underscores are often used for special purposes in Python, so this is not recommended"
      ]
    },
    {
      "cell_type": "markdown",
      "id": "e10b5daf",
      "metadata": {
        "id": "e10b5daf"
      },
      "source": [
        "### Input from user\n",
        "The input() function reads user input as a string by default.\n",
        "For numeric input, convert to int or float explicitly."
      ]
    },
    {
      "cell_type": "code",
      "execution_count": 18,
      "id": "fc874bad",
      "metadata": {
        "id": "fc874bad"
      },
      "outputs": [],
      "source": [
        "# Uncomment below lines to test interactively\n",
        "#name = input(\"Enter your name: \")\n",
        "#age = int(input(\"Enter your age: \"))\n",
        "#print(f\"Hello {name}, you are {age} years old.\")"
      ]
    },
    {
      "cell_type": "markdown",
      "id": "8dba9c1e",
      "metadata": {
        "id": "8dba9c1e"
      },
      "source": [
        "### Reassigning Variable\n",
        "You can overwrite a variable by assigning it a new value\n",
        "\n",
        "A variable may be re-assigned as often as we wish. Thereby, we could also assign an object of a different type. Because this is allowed, Python is said to be a dynamically typed language. On the contrary, a statically typed language like C also allows re-assignment but only with objects of the same type. This subtle distinction is one reason why Python is slower at execution than C: As it runs a program, it needs to figure out an object's type each time it is referenced."
      ]
    },
    {
      "cell_type": "code",
      "execution_count": null,
      "id": "5b85ab65",
      "metadata": {
        "id": "5b85ab65",
        "outputId": "0a9951d3-2782-47e9-946b-14530164eb47"
      },
      "outputs": [
        {
          "name": "stdout",
          "output_type": "stream",
          "text": [
            "Initial x: 10\n",
            "Reassigned x: 20\n"
          ]
        }
      ],
      "source": [
        "x= 10\n",
        "print(\"Initial x:\", x)\n",
        "x= 20\n",
        "print(\"Reassigned x:\", x)"
      ]
    },
    {
      "cell_type": "markdown",
      "id": "3abd41b9",
      "metadata": {
        "id": "3abd41b9"
      },
      "source": [
        "---"
      ]
    },
    {
      "cell_type": "markdown",
      "id": "43a5caa6",
      "metadata": {
        "id": "43a5caa6"
      },
      "source": [
        "## Section 1: Basic Data Types\n",
        "\n",
        "What are Data Types?\n",
        "\n",
        "In Python (and programming in general), every value has a type. Data types define:\n",
        "- What kind of value something is (a number, text, etc.)\n",
        "- What operations you can perform with it\n",
        "\n",
        "The data to be processed can be of very different types, e.g., numbers that can be used for calculations, or character strings that can be concatenated.  \n",
        "A data type describes a set of data objects that all have the same structure and can be operated on using the same operations.\n",
        "\n",
        "Python is **dynamically typed**, meaning you don’t need to declare a type explicitly — Python figures it out based on the assigned value.  \n",
        "Python has several built-in data types. The most commonly used are:\n",
        "- Integers (`int`): whole numbers like 5, -1, 0\n",
        "- Floating point numbers (`float`): numbers with decimals like 3.14\n",
        "- Strings (`str`): sequences of characters like \"Hello\"\n",
        "- Boolean (`bool`): `True` or `False` values used for logic\n",
        "\n",
        "Useful Links\n",
        "\n",
        "- <a href=\"https://docs.python.org/3/library/stdtypes.html\">Python Built-in Types</a>\n",
        "- <a href=\"https://beginnersbook.com/2019/03/python-data-types/\">Python Data Types</a>\n",
        "\n",
        "\n",
        "<p align=\"center\">\n",
        "  <img src=\"https://github.com/haboalr/python101/blob/main/notebooks/figures/datatypes.png?raw=1\" alt=\"Python Data Types\" width=\"700\"><br>\n",
        "  <em>Overview of common Python data types</em>\n",
        "</p>\n",
        "\n"
      ]
    },
    {
      "cell_type": "code",
      "execution_count": 19,
      "id": "2d563998",
      "metadata": {
        "colab": {
          "base_uri": "https://localhost:8080/"
        },
        "id": "2d563998",
        "outputId": "b7cb1bad-79ce-421a-f06e-1b0338295ca9"
      },
      "outputs": [
        {
          "output_type": "stream",
          "name": "stdout",
          "text": [
            "x: 10 <class 'int'>\n",
            "y: 3.14 <class 'float'>\n",
            "Name: Alice <class 'str'>\n",
            "Is it raining? False <class 'bool'>\n"
          ]
        }
      ],
      "source": [
        "x = 10\n",
        "print(\"x:\", x, type(x))\n",
        "\n",
        "y=3.14\n",
        "print(\"y:\", y, type(y))\n",
        "\n",
        "name = \"Alice\"\n",
        "print(\"Name:\", name, type(name))\n",
        "\n",
        "is_raining = False\n",
        "print(\"Is it raining?\", is_raining, type(is_raining))"
      ]
    },
    {
      "cell_type": "markdown",
      "id": "74e46054",
      "metadata": {
        "id": "74e46054"
      },
      "source": [
        "### Integers (`int`)\n",
        "\n",
        "**Integer variables in Python:**\n",
        "- Whole numbers without decimal points.\n",
        "- Can be positive or negative.\n",
        "- Often used for counters, indexes, or calculations that don’t require fractions.\n",
        "- Python integers can be arbitrarily large — Python automatically switches to a long integer representation internally when needed.\n"
      ]
    },
    {
      "cell_type": "code",
      "execution_count": null,
      "id": "026abe7b",
      "metadata": {
        "id": "026abe7b",
        "outputId": "91fdf06e-238b-48d8-c3ac-3759d9702ff5"
      },
      "outputs": [
        {
          "name": "stdout",
          "output_type": "stream",
          "text": [
            "a: 42 type: <class 'int'>\n",
            "b: -17 type: <class 'int'>\n",
            "c: 1000000 type: <class 'int'>\n",
            "d: 9999999999999999999999999999999999 type: <class 'int'>\n"
          ]
        }
      ],
      "source": [
        "a = 42          # positive integer\n",
        "b = -17         # negative integer\n",
        "c = 1_000_000   # underscores for readability\n",
        "d = 9999999999999999999999999999999999  # very large integer\n",
        "\n",
        "print(\"a:\", a, \"type:\", type(a))\n",
        "print(\"b:\", b, \"type:\", type(b))\n",
        "print(\"c:\", c, \"type:\", type(c))\n",
        "print(\"d:\", d, \"type:\", type(d))\n"
      ]
    },
    {
      "cell_type": "markdown",
      "source": [
        "#### Example 1\n"
      ],
      "metadata": {
        "id": "Bg2Sw2coItOQ"
      },
      "id": "Bg2Sw2coItOQ"
    },
    {
      "cell_type": "code",
      "source": [
        "a = 1\n",
        "b = 2\n",
        "c = 3\n",
        "d = 4\n",
        "e = 5\n",
        "f = 6\n",
        "g = 7\n",
        "h = 8"
      ],
      "metadata": {
        "id": "BvSW_6O0JCMi"
      },
      "id": "BvSW_6O0JCMi",
      "execution_count": 20,
      "outputs": []
    },
    {
      "cell_type": "code",
      "source": [
        "print(a + b)\n",
        "print(c - d)\n",
        "print(e * f)\n",
        "print(g / h)\n"
      ],
      "metadata": {
        "colab": {
          "base_uri": "https://localhost:8080/"
        },
        "id": "TwmvOtw5JIqI",
        "outputId": "0dd20370-1562-44a5-d588-a91de16487c5"
      },
      "id": "TwmvOtw5JIqI",
      "execution_count": 21,
      "outputs": [
        {
          "output_type": "stream",
          "name": "stdout",
          "text": [
            "3\n",
            "-1\n",
            "30\n",
            "0.875\n"
          ]
        }
      ]
    },
    {
      "cell_type": "markdown",
      "source": [
        "**What do you see in the operation `g / h`?**\n",
        "- In Python the symbol `/` is used for floating point division.\n",
        "- For integer division, use instead `//`."
      ],
      "metadata": {
        "id": "xfH_mbIYJSc8"
      },
      "id": "xfH_mbIYJSc8"
    },
    {
      "cell_type": "markdown",
      "source": [
        "#### Example 2"
      ],
      "metadata": {
        "id": "6CGWhjHCJYUP"
      },
      "id": "6CGWhjHCJYUP"
    },
    {
      "cell_type": "code",
      "source": [
        "x = 17\n",
        "y = 3"
      ],
      "metadata": {
        "id": "IggaxeHLJbQv"
      },
      "id": "IggaxeHLJbQv",
      "execution_count": 24,
      "outputs": []
    },
    {
      "cell_type": "code",
      "source": [
        "print(x / y) # gives 5.666666666666667\n",
        "print(x // y) # gives 5\n",
        "print(x % y) # gives 2"
      ],
      "metadata": {
        "colab": {
          "base_uri": "https://localhost:8080/"
        },
        "id": "hciW5E1nJkeg",
        "outputId": "581f2961-c601-4870-9463-cc5c0b35b530"
      },
      "id": "hciW5E1nJkeg",
      "execution_count": 26,
      "outputs": [
        {
          "output_type": "stream",
          "name": "stdout",
          "text": [
            "5.666666666666667\n",
            "5\n",
            "2\n"
          ]
        }
      ]
    },
    {
      "cell_type": "markdown",
      "id": "ad874997",
      "metadata": {
        "id": "ad874997"
      },
      "source": [
        "### Floating-Point Numbers (`float`)\n",
        "\n",
        "**Float variables in Python:**\n",
        "- Numbers that can contain decimal places.\n",
        "- Can be positive or negative, and also written in scientific notation.\n",
        "- Used for calculations requiring fractional values, such as physics computations or financial models.\n",
        "- In Python, there is no distinction between single precision and double precision floats like in C — all Python floats are double precision.\n"
      ]
    },
    {
      "cell_type": "code",
      "execution_count": null,
      "id": "57f2dea9",
      "metadata": {
        "id": "57f2dea9",
        "outputId": "8b4a06a6-19f9-4388-fd09-c627bec2eb43"
      },
      "outputs": [
        {
          "name": "stdout",
          "output_type": "stream",
          "text": [
            "x: 3.14159 type: <class 'float'>\n",
            "y: -0.01 type: <class 'float'>\n",
            "z: 2500.0 type: <class 'float'>\n"
          ]
        }
      ],
      "source": [
        "x = 3.14159        # decimal number\n",
        "y = -0.01          # negative float\n",
        "z = 2.5e3          # scientific notation (2.5 × 10³)\n",
        "\n",
        "print(\"x:\", x, \"type:\", type(x))\n",
        "print(\"y:\", y, \"type:\", type(y))\n",
        "print(\"z:\", z, \"type:\", type(z))\n"
      ]
    },
    {
      "cell_type": "markdown",
      "source": [
        "#### Computer representation of floats\n",
        "-  Floats are represented internally as binary (base-2) fractions.\n",
        "-  Most decimal fractions cannot be represented exactly as binary fractions, so in most cases the internal representation of a floating-point number is an approximation of the actual value.\n",
        "- Due to the way floating-point numbers are represented in computer memory, you might encounter unexepected precision issue.\n",
        "\n",
        "For instance, if you perform the operation:"
      ],
      "metadata": {
        "id": "1FmkYAxVK5B6"
      },
      "id": "1FmkYAxVK5B6"
    },
    {
      "cell_type": "code",
      "source": [
        "a = 0.1 + 0.2"
      ],
      "metadata": {
        "id": "FInWpV9SLKGs"
      },
      "id": "FInWpV9SLKGs",
      "execution_count": 28,
      "outputs": []
    },
    {
      "cell_type": "markdown",
      "source": [
        "You expect to obtain `0.3` as the value of `a`.\n",
        "\n",
        "However, when you print the value of `a`, you get:"
      ],
      "metadata": {
        "id": "PXc_0K_VLN9p"
      },
      "id": "PXc_0K_VLN9p"
    },
    {
      "cell_type": "code",
      "source": [
        "print(a)"
      ],
      "metadata": {
        "colab": {
          "base_uri": "https://localhost:8080/"
        },
        "id": "kUYa80abLSqm",
        "outputId": "c86a2b7f-e445-4567-f239-133d55814ee7"
      },
      "id": "kUYa80abLSqm",
      "execution_count": 29,
      "outputs": [
        {
          "output_type": "stream",
          "name": "stdout",
          "text": [
            "0.30000000000000004\n"
          ]
        }
      ]
    },
    {
      "cell_type": "markdown",
      "source": [
        "In most cases, this will not affect your program, but it is something you need to be aware of when working with floats in Python."
      ],
      "metadata": {
        "id": "NuBIOthVLjwR"
      },
      "id": "NuBIOthVLjwR"
    },
    {
      "cell_type": "markdown",
      "source": [
        "#### Operations on Floats\n",
        "\n",
        "The `round()` function returns a floating-point number rounded to the specified number of decimals.\n",
        "\n",
        "```python\n",
        "   round(float_number [, ndigits])\n",
        "```\n",
        "\n",
        "It takes two parameters:\n",
        "\n",
        "+ **float_number** - the floating point numb|er to be rounded\n",
        "+ **ndigits (optional)** - number up to which the given number is rounded; defaults to 0.\n",
        "\n",
        "Things to consider:\n",
        "\n",
        "- If `ndigits` is not provided, the returned value is the nearest integer.\n",
        "- If `ndigits` is present, it will round to the number of places given. The return type will be a float.\n",
        "- The returned value will be rounded to `+1` if the value after the decimal point is `>=5` else it will return the value as it is up to the decimal places mentioned"
      ],
      "metadata": {
        "id": "tjoNqi9IMI-m"
      },
      "id": "tjoNqi9IMI-m"
    },
    {
      "cell_type": "markdown",
      "source": [
        "#### Example 3\n",
        "\n",
        "Consider the floating point number:"
      ],
      "metadata": {
        "id": "XUDwYwtFMXFu"
      },
      "id": "XUDwYwtFMXFu"
    },
    {
      "cell_type": "code",
      "source": [
        "a = 3.141592653589793\n",
        "num = -2.8\n",
        "num1 = -1.5"
      ],
      "metadata": {
        "id": "Ys6ckNJeMjk1"
      },
      "id": "Ys6ckNJeMjk1",
      "execution_count": 34,
      "outputs": []
    },
    {
      "cell_type": "markdown",
      "source": [
        "Let us perfrom various rounding operations"
      ],
      "metadata": {
        "id": "zosELBRqMm-C"
      },
      "id": "zosELBRqMm-C"
    },
    {
      "cell_type": "code",
      "source": [
        "print(f\"Rounded value without num_of_decimals: {round(a)}\")"
      ],
      "metadata": {
        "colab": {
          "base_uri": "https://localhost:8080/"
        },
        "id": "gztUEcA6MmNm",
        "outputId": "37e12114-b8e2-4e7b-e147-d52b89fce2ff"
      },
      "id": "gztUEcA6MmNm",
      "execution_count": 31,
      "outputs": [
        {
          "output_type": "stream",
          "name": "stdout",
          "text": [
            "Rounded value without num_of_decimals: 3\n"
          ]
        }
      ]
    },
    {
      "cell_type": "code",
      "source": [
        "print(f\"Rounded value with 2 decimals: {round(a, 2)}\")"
      ],
      "metadata": {
        "colab": {
          "base_uri": "https://localhost:8080/"
        },
        "id": "0zgSKovMMmK_",
        "outputId": "630821bc-ab80-46f2-ff4e-fc2529a2988b"
      },
      "id": "0zgSKovMMmK_",
      "execution_count": 32,
      "outputs": [
        {
          "output_type": "stream",
          "name": "stdout",
          "text": [
            "Rounded value with 2 decimals: 3.14\n"
          ]
        }
      ]
    },
    {
      "cell_type": "code",
      "source": [
        "print(f\"Rounded value with 4 decimals: {round(a, 4)}\")"
      ],
      "metadata": {
        "colab": {
          "base_uri": "https://localhost:8080/"
        },
        "id": "tqCveGC8MmH6",
        "outputId": "19e9cfd3-0936-4f78-8acc-e955aa84a277"
      },
      "id": "tqCveGC8MmH6",
      "execution_count": 33,
      "outputs": [
        {
          "output_type": "stream",
          "name": "stdout",
          "text": [
            "Rounded value with 4 decimals: 3.1416\n"
          ]
        }
      ]
    },
    {
      "cell_type": "code",
      "source": [
        "print(f\"The value after rounding is: {round(num)}\")"
      ],
      "metadata": {
        "colab": {
          "base_uri": "https://localhost:8080/"
        },
        "id": "upyCaIDyNBsV",
        "outputId": "db813f79-8104-4c6b-ba60-03ac98ef2bd9"
      },
      "id": "upyCaIDyNBsV",
      "execution_count": 35,
      "outputs": [
        {
          "output_type": "stream",
          "name": "stdout",
          "text": [
            "The value after rounding is: -3\n"
          ]
        }
      ]
    },
    {
      "cell_type": "code",
      "source": [
        "print(f\"The value after rounding is: {round(num1)}\")"
      ],
      "metadata": {
        "colab": {
          "base_uri": "https://localhost:8080/"
        },
        "id": "kxAd6necNExx",
        "outputId": "aa9e14a1-d09e-4a68-84b7-5846ebc65b61"
      },
      "id": "kxAd6necNExx",
      "execution_count": 36,
      "outputs": [
        {
          "output_type": "stream",
          "name": "stdout",
          "text": [
            "The value after rounding is: -2\n"
          ]
        }
      ]
    },
    {
      "cell_type": "markdown",
      "source": [
        "### Complex numbers\n",
        "\n",
        "- A complex number consists of an ordered pair of real floating point numbers denoted by `a + bj`, where `a` is the real part and `b` is the imaginary part of the complex number."
      ],
      "metadata": {
        "id": "G1tcvmDRNOmf"
      },
      "id": "G1tcvmDRNOmf"
    },
    {
      "cell_type": "code",
      "source": [
        "3.0 + 9j"
      ],
      "metadata": {
        "colab": {
          "base_uri": "https://localhost:8080/"
        },
        "id": "80GGNALNNUKK",
        "outputId": "5c5abc48-9232-42a4-8d73-35d8a2012412"
      },
      "id": "80GGNALNNUKK",
      "execution_count": 37,
      "outputs": [
        {
          "output_type": "execute_result",
          "data": {
            "text/plain": [
              "(3+9j)"
            ]
          },
          "metadata": {},
          "execution_count": 37
        }
      ]
    },
    {
      "cell_type": "code",
      "source": [
        "type(3.0 + 9j)"
      ],
      "metadata": {
        "colab": {
          "base_uri": "https://localhost:8080/"
        },
        "id": "K3X5Nn36NY-r",
        "outputId": "bad8d92d-1b7e-40cf-fcf7-cff9259295b9"
      },
      "id": "K3X5Nn36NY-r",
      "execution_count": 38,
      "outputs": [
        {
          "output_type": "execute_result",
          "data": {
            "text/plain": [
              "complex"
            ]
          },
          "metadata": {},
          "execution_count": 38
        }
      ]
    },
    {
      "cell_type": "markdown",
      "source": [
        "#### Example 4"
      ],
      "metadata": {
        "id": "5ldCy5kRNjzK"
      },
      "id": "5ldCy5kRNjzK"
    },
    {
      "cell_type": "code",
      "source": [
        "a = complex(3.0, 9)\n",
        "b = complex(1, 2)"
      ],
      "metadata": {
        "id": "8heQfM7sNmEI"
      },
      "id": "8heQfM7sNmEI",
      "execution_count": 39,
      "outputs": []
    },
    {
      "cell_type": "code",
      "source": [
        "print(a)"
      ],
      "metadata": {
        "colab": {
          "base_uri": "https://localhost:8080/"
        },
        "id": "-fRidMvWNp30",
        "outputId": "52f11a84-bd92-4588-8923-b75b05543a7f"
      },
      "id": "-fRidMvWNp30",
      "execution_count": 40,
      "outputs": [
        {
          "output_type": "stream",
          "name": "stdout",
          "text": [
            "(3+9j)\n"
          ]
        }
      ]
    },
    {
      "cell_type": "markdown",
      "source": [
        "We can extract the real and imaginary parts of complex number:"
      ],
      "metadata": {
        "id": "cWO-_I3CNy5-"
      },
      "id": "cWO-_I3CNy5-"
    },
    {
      "cell_type": "code",
      "source": [
        "print(f'Real part of complex number is: {a.real}')\n",
        "print(f'Imaginary part of complex number is: {a.imag}')"
      ],
      "metadata": {
        "colab": {
          "base_uri": "https://localhost:8080/"
        },
        "id": "2yHq-cH7N5eW",
        "outputId": "50b93a4d-bb4c-41a5-ad1f-04e0e51c1a56"
      },
      "id": "2yHq-cH7N5eW",
      "execution_count": 42,
      "outputs": [
        {
          "output_type": "stream",
          "name": "stdout",
          "text": [
            "Real part of complex number is: 3.0\n",
            "Imaginary part of complex number is: 9.0\n"
          ]
        }
      ]
    },
    {
      "cell_type": "markdown",
      "source": [
        "We can do different operation on complex numbers:"
      ],
      "metadata": {
        "id": "tJ9PRwwNOAw3"
      },
      "id": "tJ9PRwwNOAw3"
    },
    {
      "cell_type": "code",
      "source": [
        "print (f\"a+b = {a+b}\")\n",
        "print (f\"a-b = {a-b}\")\n",
        "print (f\"a*b = {a*b}\")\n",
        "print (f\"a/b = {a/b}\")"
      ],
      "metadata": {
        "colab": {
          "base_uri": "https://localhost:8080/"
        },
        "id": "0m6Lcmt8ab1b",
        "outputId": "1edc52ef-bbb7-4ec3-b56d-0fecd9feb04a"
      },
      "id": "0m6Lcmt8ab1b",
      "execution_count": 44,
      "outputs": [
        {
          "output_type": "stream",
          "name": "stdout",
          "text": [
            "a+b = (4+11j)\n",
            "a-b = (2+7j)\n",
            "a*b = (-15+15j)\n",
            "a/b = (4.2+0.6j)\n"
          ]
        }
      ]
    },
    {
      "cell_type": "code",
      "source": [
        "print(f'Complex conjugate = {a.conjugate()}')"
      ],
      "metadata": {
        "colab": {
          "base_uri": "https://localhost:8080/"
        },
        "id": "KAOF7mAzbgYk",
        "outputId": "e0aa3efb-bbc0-4f8a-8c37-5febdf1bb35f"
      },
      "id": "KAOF7mAzbgYk",
      "execution_count": 45,
      "outputs": [
        {
          "output_type": "stream",
          "name": "stdout",
          "text": [
            "Complex conjugate = (3-9j)\n"
          ]
        }
      ]
    },
    {
      "cell_type": "markdown",
      "id": "5de41f83",
      "metadata": {
        "id": "5de41f83"
      },
      "source": [
        "### Booleans (`bool`)\n",
        "\n",
        "**Boolean variables in Python:**\n",
        "- Can have only two values: `True` or `False`.\n",
        "- Often used for logical evaluations and conditions.\n",
        "- Fundamental for controlling program flow in loops or conditional statements.\n",
        "- Boolean values behave like integers in many cases (`False` = 0, `True` = 1)."
      ]
    },
    {
      "cell_type": "code",
      "execution_count": null,
      "id": "5e7ef8fa",
      "metadata": {
        "id": "5e7ef8fa",
        "outputId": "56347d4e-ac2a-4650-9dc5-d8210229867a"
      },
      "outputs": [
        {
          "name": "stdout",
          "output_type": "stream",
          "text": [
            "is_active: True type: <class 'bool'>\n",
            "is_admin: False type: <class 'bool'>\n",
            "from_int: True type: <class 'bool'>\n",
            "from_zero: False type: <class 'bool'>\n",
            "The account is active.\n"
          ]
        }
      ],
      "source": [
        "is_active = True\n",
        "is_admin = False\n",
        "from_int = bool(1)    # True because 1 is non-zero\n",
        "from_zero = bool(0)   # False because 0 is zero\n",
        "\n",
        "print(\"is_active:\", is_active, \"type:\", type(is_active))\n",
        "print(\"is_admin:\", is_admin, \"type:\", type(is_admin))\n",
        "print(\"from_int:\", from_int, \"type:\", type(from_int))\n",
        "print(\"from_zero:\", from_zero, \"type:\", type(from_zero))\n",
        "\n",
        "if is_active:\n",
        "    print(\"The account is active.\")\n"
      ]
    },
    {
      "cell_type": "markdown",
      "source": [
        "Booleans can be used when there is a need to compare two or more values.\n",
        "\n",
        "```python\n",
        "   x == y    # x is equal to y\n",
        "   x != y    # x is not equal to y\n",
        "   x > y     # x is greater than y\n",
        "   x < y     # x is less than y\n",
        "   x >= y    # x is greater than or equal to y\n",
        "   x <= y    # x is less than or equal to y\n",
        "```"
      ],
      "metadata": {
        "id": "PNJKyiMoc7ms"
      },
      "id": "PNJKyiMoc7ms"
    },
    {
      "cell_type": "code",
      "source": [
        "print(3 == 4)\n",
        "print(3 != 4)\n",
        "print(3 > 4)\n",
        "print(3 < 4)\n",
        "print(3 >= 4)\n",
        "print(3 <= 4)"
      ],
      "metadata": {
        "colab": {
          "base_uri": "https://localhost:8080/"
        },
        "id": "sizdsKMXc_x4",
        "outputId": "5b007724-bcbb-4757-9581-e7a8f8e27994"
      },
      "id": "sizdsKMXc_x4",
      "execution_count": 48,
      "outputs": [
        {
          "output_type": "stream",
          "name": "stdout",
          "text": [
            "False\n",
            "True\n",
            "False\n",
            "True\n",
            "False\n",
            "True\n"
          ]
        }
      ]
    },
    {
      "cell_type": "markdown",
      "id": "ce17bf0b",
      "metadata": {
        "id": "ce17bf0b"
      },
      "source": [
        "### Strings (`str`)\n",
        "\n",
        "**Strings in Python:**\n",
        "- A sequence of characters enclosed in single (`' '`) or double (`\" \"`) quotes.\n",
        "- Can include letters, numbers, special characters, and spaces.\n",
        "- Commonly used for storing text, processing strings, file names, user inputs, and mor\n",
        "- Strings are immutable"
      ]
    },
    {
      "cell_type": "code",
      "execution_count": 49,
      "id": "0c32b93e",
      "metadata": {
        "colab": {
          "base_uri": "https://localhost:8080/"
        },
        "id": "0c32b93e",
        "outputId": "b6953b7c-4576-4a68-95c9-be73ddcca207"
      },
      "outputs": [
        {
          "output_type": "stream",
          "name": "stdout",
          "text": [
            "name: Klaus type: <class 'str'>\n",
            "greeting: Hello, World!\n",
            "multi_line:\n",
            " This is\n",
            "a multi-line\n",
            "string.\n",
            "Hello, World! My name is Klaus.\n",
            "Hi! Hi! Hi! \n"
          ]
        }
      ],
      "source": [
        "name = \"Klaus\"\n",
        "greeting = 'Hello, World!'\n",
        "multi_line = \"\"\"This is\n",
        "a multi-line\n",
        "string.\"\"\"\n",
        "\n",
        "print(\"name:\", name, \"type:\", type(name))\n",
        "print(\"greeting:\", greeting)\n",
        "print(\"multi_line:\\n\", multi_line)\n",
        "\n",
        "full_message = greeting + \" My name is \" + name + \".\"\n",
        "print(full_message)\n",
        "\n",
        "repeat = \"Hi! \" * 3\n",
        "print(repeat)\n"
      ]
    },
    {
      "cell_type": "markdown",
      "source": [
        "#### Raw Strings\n",
        "\n",
        "- A raw string literal is preceded by `r` or `R`, which specifies that escape sequences in the associated string are not translated.\n",
        "- The backslash character is left in the string."
      ],
      "metadata": {
        "id": "Fpl4FDUfd4wJ"
      },
      "id": "Fpl4FDUfd4wJ"
    },
    {
      "cell_type": "code",
      "source": [
        "print('foo\\nbar')"
      ],
      "metadata": {
        "colab": {
          "base_uri": "https://localhost:8080/"
        },
        "id": "OPGbamH0d-5A",
        "outputId": "7db4ad99-23a8-4331-e572-b45b4e7e0fe8"
      },
      "id": "OPGbamH0d-5A",
      "execution_count": 54,
      "outputs": [
        {
          "output_type": "stream",
          "name": "stdout",
          "text": [
            "foo\n",
            "bar\n"
          ]
        }
      ]
    },
    {
      "cell_type": "code",
      "source": [
        "print(r'foo/nbar')"
      ],
      "metadata": {
        "colab": {
          "base_uri": "https://localhost:8080/"
        },
        "id": "Bmfu0SBieCkx",
        "outputId": "bc23253f-5207-4d27-fe22-134e9cb5c1a8"
      },
      "id": "Bmfu0SBieCkx",
      "execution_count": 55,
      "outputs": [
        {
          "output_type": "stream",
          "name": "stdout",
          "text": [
            "foo/nbar\n"
          ]
        }
      ]
    },
    {
      "cell_type": "code",
      "source": [
        "print('foo\\\\bar')"
      ],
      "metadata": {
        "colab": {
          "base_uri": "https://localhost:8080/"
        },
        "id": "f1qLz2Q1eG9q",
        "outputId": "8703593b-8b95-4531-e505-bfc40889af1e"
      },
      "id": "f1qLz2Q1eG9q",
      "execution_count": 56,
      "outputs": [
        {
          "output_type": "stream",
          "name": "stdout",
          "text": [
            "foo\\bar\n"
          ]
        }
      ]
    },
    {
      "cell_type": "code",
      "source": [
        "print(R'foo\\\\bar')"
      ],
      "metadata": {
        "colab": {
          "base_uri": "https://localhost:8080/"
        },
        "id": "RpInrozSeJci",
        "outputId": "e84acc80-57f8-4251-ea38-74172ac89580"
      },
      "id": "RpInrozSeJci",
      "execution_count": 57,
      "outputs": [
        {
          "output_type": "stream",
          "name": "stdout",
          "text": [
            "foo\\\\bar\n"
          ]
        }
      ]
    },
    {
      "cell_type": "markdown",
      "source": [
        "#### Triple Quotes\n",
        "\n",
        "- Triple-quoted strings are delimited by matching groups of three single quotes (`''' '''`) or three double quotes(`\"\"\" \"\"\"`).\n",
        "- Escape sequences still work in triple-quoted strings, but single quotes, double quotes, and newlines can be included without escaping them.\n",
        "- Provide a convenient way to create a string with both single and double quotes in it.\n",
        "- __They are used to document Python codes__."
      ],
      "metadata": {
        "id": "cLVpBU2IeQnN"
      },
      "id": "cLVpBU2IeQnN"
    },
    {
      "cell_type": "code",
      "source": [
        "print('''This string has a single (') and a double (\") quote.''')"
      ],
      "metadata": {
        "colab": {
          "base_uri": "https://localhost:8080/"
        },
        "id": "vH55-OrVeVy8",
        "outputId": "a567d2d1-73f9-4b02-9321-a1b727e5286b"
      },
      "id": "vH55-OrVeVy8",
      "execution_count": 58,
      "outputs": [
        {
          "output_type": "stream",
          "name": "stdout",
          "text": [
            "This string has a single (') and a double (\") quote.\n"
          ]
        }
      ]
    },
    {
      "cell_type": "code",
      "source": [
        "string1 = \"\"\"This is a\n",
        "string that spans\n",
        "\n",
        "across several lines\"\"\"\n",
        "print(string1)"
      ],
      "metadata": {
        "colab": {
          "base_uri": "https://localhost:8080/"
        },
        "id": "ahRRIg3ueWe-",
        "outputId": "8a18a014-4418-408c-cf29-90e0f9f5cab7"
      },
      "id": "ahRRIg3ueWe-",
      "execution_count": 63,
      "outputs": [
        {
          "output_type": "stream",
          "name": "stdout",
          "text": [
            "This is a\n",
            "string that spans\n",
            "\n",
            "across several lines\n"
          ]
        }
      ]
    },
    {
      "cell_type": "markdown",
      "source": [
        "#### Accessing values in strings\n",
        "- Python does not support a character type; these are treated as strings of length one, thus also considered a substring.\n",
        "- To access substrings, use the square brackets for slicing along with the index or indices to obtain your substring"
      ],
      "metadata": {
        "id": "p7pz_lJ8e0ap"
      },
      "id": "p7pz_lJ8e0ap"
    },
    {
      "cell_type": "code",
      "source": [
        "astring1 = \"Welcome To the Python Course Series!\"\n",
        "astring2 = \"A Training Course for Beginners.\""
      ],
      "metadata": {
        "id": "mKp8f0hUe9ZZ"
      },
      "id": "mKp8f0hUe9ZZ",
      "execution_count": 64,
      "outputs": []
    },
    {
      "cell_type": "code",
      "source": [
        "print(astring1[3:10])\n",
        "print(astring1[3:15:1])\n",
        "print(astring1[3:15:2])\n",
        "print(astring1[-2])"
      ],
      "metadata": {
        "colab": {
          "base_uri": "https://localhost:8080/"
        },
        "id": "_cE4WwJFe_8L",
        "outputId": "cd355c29-964a-4d1c-ea53-709e17143451"
      },
      "id": "_cE4WwJFe_8L",
      "execution_count": 65,
      "outputs": [
        {
          "output_type": "stream",
          "name": "stdout",
          "text": [
            "come To\n",
            "come To the \n",
            "cm ote\n",
            "s\n"
          ]
        }
      ]
    },
    {
      "cell_type": "markdown",
      "source": [
        "- Python allows to index from the zeroth position in Strings.\n",
        "- Python also supports negative indexes.\n",
        "- Index of ‘-1’ represents the last character of the String. Similarly, using ‘-2’, we can access the penultimate element of the string and so on.\n",
        "\n",
        "| P | Y | T | H | O | N | - | S | T | R | I | N | G |\n",
        "|---|---|---|---|---|---|---|---|---|---|---|---|---|\n",
        "| 0 | 1 | 2 | 3 | 4 | 5 | 6 | 7 | 8 | 9 |10 |11 |12 |\n",
        "|-13|-12|-11|-10|-9 |-8 |-7 |-6 |-5 |-4 |-3 |-2 |-1 |"
      ],
      "metadata": {
        "id": "WwgWgbkTfJWF"
      },
      "id": "WwgWgbkTfJWF"
    },
    {
      "cell_type": "markdown",
      "source": [
        "#### Common Built-in String Methods in Python\n",
        "\n",
        "| Method         | Description                                                                 |\n",
        "|----------------|-----------------------------------------------------------------------------|\n",
        "| `.capitalize()`| Capitalizes the first character of the string                               |\n",
        "| `.lower()`     | Converts all characters to lowercase                                        |\n",
        "| `.upper()`     | Converts all characters to uppercase                                        |\n",
        "| `.split()`     | Splits a string into a list (default: by whitespace, or by a given separator)|\n",
        "| `.strip()`     | Removes leading and trailing whitespace (or given characters)               |\n",
        "| `.join()`      | Joins elements of a list into a single string, using the string as a separator |\n",
        "| `.replace()`   | Replaces all occurrences of a substring with another                        |\n",
        "| `.index()`     | Returns the first index of a substring (error if not found)                 |\n",
        "| `.count()`     | Counts how many times a substring occurs                                    |\n",
        "| `.find()`      | Returns the first index of a substring (returns `-1` if not found)          |\n",
        "| `len()`        | Built-in function that returns the length of the string                     |\n"
      ],
      "metadata": {
        "id": "kFtKfTd2hnOA"
      },
      "id": "kFtKfTd2hnOA"
    },
    {
      "cell_type": "code",
      "source": [
        "# Capitalize\n",
        "print(\"funKY tOwn\".capitalize())\n",
        "\n",
        "# Lower and Upper\n",
        "print(\"funKY tOwn\".lower())\n",
        "print(\"funKY tOwn\".upper())\n",
        "\n",
        "# Split\n",
        "print(\"funKY tOwn\".split())\n",
        "print(\"I want to take you to, funKY tOwn\".split(\"u\"))\n",
        "\n",
        "# Strip\n",
        "csv_string = 'Dog,Cat,Spam,Defenestrate,1, 3.1415   \\n\\t'\n",
        "print(csv_string.strip())\n",
        "\n",
        "# Join\n",
        "clean_list = [x.strip() for x in csv_string.split(\",\")]\n",
        "print(\",\".join(clean_list))\n",
        "print(\"\\t\".join(clean_list))\n",
        "\n",
        "# Replace\n",
        "alt_csv = csv_string.strip().replace(',', ' ')\n",
        "print(alt_csv)\n",
        "\n",
        "# Index, Count, Find\n",
        "s = 'My Funny Valentine'\n",
        "print(s.index(\"y\"))      # first index of 'y'\n",
        "print(s.count(\"y\"))      # how many 'y'\n",
        "print(s.find(\"Funny\"))   # returns index if found\n",
        "print(s.find(\"X\"))       # returns -1 if not found\n",
        "\n",
        "# Length\n",
        "print(len(s))\n"
      ],
      "metadata": {
        "colab": {
          "base_uri": "https://localhost:8080/"
        },
        "id": "TBBw7VTahoRe",
        "outputId": "e8e2a15f-63fc-4411-dab1-cd1e74e9a264"
      },
      "id": "TBBw7VTahoRe",
      "execution_count": 70,
      "outputs": [
        {
          "output_type": "stream",
          "name": "stdout",
          "text": [
            "Funky town\n",
            "funky town\n",
            "FUNKY TOWN\n",
            "['funKY', 'tOwn']\n",
            "['I want to take yo', ' to, f', 'nKY tOwn']\n",
            "Dog,Cat,Spam,Defenestrate,1, 3.1415\n",
            "Dog,Cat,Spam,Defenestrate,1,3.1415\n",
            "Dog\tCat\tSpam\tDefenestrate\t1\t3.1415\n",
            "Dog Cat Spam Defenestrate 1  3.1415\n",
            "1\n",
            "2\n",
            "3\n",
            "-1\n",
            "18\n"
          ]
        }
      ]
    },
    {
      "cell_type": "markdown",
      "source": [
        "#### **Boolean Methods**\n",
        "\n",
        "| Method\t| True if |\n",
        "| --- | --- |\n",
        "| `str.isalnum()` |\tString consists of only alphanumeric characters (no symbols) |\n",
        "| `str.isalpha()` |\tString consists of only alphabetic characters (no symbols) |\n",
        "| `str.islower()` |\tString’s alphabetic characters are all lower case |\n",
        "| `str.isnumeric()` |\tString consists of only numeric characters |\n",
        "| `str.isspace()` |\tString consists of only whitespace characters |\n",
        "| `str.istitle()` |\tString is in title case |\n",
        "| `str.isupper()` |\tString’s alphabetic characters are all upper case |\n",
        "| `str.startswith()` | String starts with the specified value |\n",
        "| `str.endswith()` | String ends with the specified value |"
      ],
      "metadata": {
        "id": "EhU1egd-h7b9"
      },
      "id": "EhU1egd-h7b9"
    },
    {
      "cell_type": "code",
      "source": [
        "s1 = \"Python3\"\n",
        "s2 = \"Python\"\n",
        "s3 = \"12345\"\n",
        "s4 = \"   \"\n",
        "s5 = \"hello\"\n",
        "s6 = \"HELLO\"\n",
        "s7 = \"Hello World\"\n",
        "\n",
        "print(s1.isalnum())     # True (letters + digits, no symbols)\n",
        "print(s2.isalpha())     # True (only letters)\n",
        "print(s5.islower())     # True (all lowercase)\n",
        "print(s3.isnumeric())   # True (only numbers)\n",
        "print(s4.isspace())     # True (only spaces)\n",
        "print(s7.istitle())     # True (\"Hello World\" is title case)\n",
        "print(s6.isupper())     # True (all uppercase)\n",
        "print(s2.startswith(\"Py\"))   # True\n",
        "print(s2.endswith(\"on\"))     # True\n"
      ],
      "metadata": {
        "colab": {
          "base_uri": "https://localhost:8080/"
        },
        "id": "8fXkej3RiCAy",
        "outputId": "4e0fdf90-e703-4d71-a9d1-d9127815e4af"
      },
      "id": "8fXkej3RiCAy",
      "execution_count": 71,
      "outputs": [
        {
          "output_type": "stream",
          "name": "stdout",
          "text": [
            "True\n",
            "True\n",
            "True\n",
            "True\n",
            "True\n",
            "True\n",
            "True\n",
            "True\n",
            "True\n"
          ]
        }
      ]
    },
    {
      "cell_type": "markdown",
      "id": "84f48f55",
      "metadata": {
        "id": "84f48f55"
      },
      "source": [
        "### Type Conversion (Casting)\n",
        "In Python, type conversion (also called casting) is the process of converting a value from one data type to another.  \n",
        "This is useful when you need to perform operations that require values to be in a specific type — for example, converting user input (which is always a string) into a number for calculations.  \n",
        "\n",
        "Casting operators:\n",
        "- int(x): convert to integer\n",
        "- float(x): convert to float\n",
        "- str(x): convert to string\n",
        "- bool(x): convert to boolean\n"
      ]
    },
    {
      "cell_type": "markdown",
      "id": "98b6d55c",
      "metadata": {
        "id": "98b6d55c"
      },
      "source": [
        "Why is type conversion important?\n",
        "Python is dynamically typed, but sometimes you manually need to change the type. For example:"
      ]
    },
    {
      "cell_type": "code",
      "execution_count": null,
      "id": "6f9aa5e4",
      "metadata": {
        "id": "6f9aa5e4"
      },
      "outputs": [],
      "source": [
        "age = input(\"Enter your age: \")     # input() returns a string\n",
        "print(age + 1)                      #  This will cause an error"
      ]
    },
    {
      "cell_type": "code",
      "execution_count": null,
      "id": "19fd3e9f",
      "metadata": {
        "id": "19fd3e9f",
        "outputId": "b5886f17-b532-4ae1-d30d-5c941efe05cf"
      },
      "outputs": [
        {
          "name": "stdout",
          "output_type": "stream",
          "text": [
            "13\n"
          ]
        }
      ],
      "source": [
        "# to fix it\n",
        "age = int(input(\"Enter your age: \"))  # convert input to integer\n",
        "print(age + 1)                      # now this works"
      ]
    },
    {
      "cell_type": "code",
      "execution_count": null,
      "id": "0637d11b",
      "metadata": {
        "id": "0637d11b",
        "outputId": "99176ef3-b921-4ca9-f805-7137d23d0c2d"
      },
      "outputs": [
        {
          "name": "stdout",
          "output_type": "stream",
          "text": [
            "Type conversions:\n",
            "int(3.14): 3\n",
            "int(3.99): 3\n",
            "float(10): 10.0\n",
            "str(1000): 1000\n",
            "bool(0): False\n",
            "bool(1): True\n"
          ]
        }
      ],
      "source": [
        "now_an_int = int(3.14)\n",
        "also_an_int = int(3.99)\n",
        "float_example = float(10)\n",
        "string_example = str(1000)\n",
        "bool_false = bool(0)\n",
        "bool_true = bool(1)\n",
        "\n",
        "print(\"Type conversions:\")\n",
        "print(\"int(3.14):\", now_an_int)\n",
        "print(\"int(3.99):\", also_an_int)\n",
        "print(\"float(10):\", float_example)\n",
        "print(\"str(1000):\", string_example)\n",
        "print(\"bool(0):\", bool_false)\n",
        "print(\"bool(1):\", bool_true)"
      ]
    },
    {
      "cell_type": "markdown",
      "id": "1bef5d62",
      "metadata": {
        "id": "1bef5d62"
      },
      "source": [
        "#### Example 5\n",
        "Using the + operator to paste together two strings can be very useful in building custom messages.\n",
        "\n",
        "Suppose, for example, that you've calculated the return of your investment and want to summarize the results in a string. Assuming the floats savings and result are defined, you can try something like this:\n",
        "\n",
        "```python\n",
        "print(\"I started with $\" + savings + \" and now have $\" + result + \". Awesome!\")\n",
        "```  \n",
        "This will not work, though, as you cannot simply sum strings and floats.\n",
        "\n",
        "To fix the error, you'll need to explicitly convert the types of your variables. More specifically, you'll need str(), to convert a value into a string. str(savings), for example, will convert the float savings to a string.\n",
        "\n",
        "Similar functions such as int(), float() and bool() will help you convert Python values into any type."
      ]
    },
    {
      "cell_type": "code",
      "execution_count": 68,
      "id": "4b16a602",
      "metadata": {
        "colab": {
          "base_uri": "https://localhost:8080/"
        },
        "id": "4b16a602",
        "outputId": "7b4b00fc-460e-484c-cce4-0f37714025dd"
      },
      "outputs": [
        {
          "output_type": "stream",
          "name": "stdout",
          "text": [
            "I started with $100 and now have $194.87171000000012. Awesome!\n"
          ]
        }
      ],
      "source": [
        "# Definition of savings and result\n",
        "savings = 100\n",
        "result = 100 * 1.10 ** 7\n",
        "\n",
        "# Fix the printout\n",
        "print(\"I started with $\" + str(savings) + \" and now have $\" + str(result) + \". Awesome!\")\n",
        "\n",
        "# Definition of pi_string\n",
        "pi_string = \"3.1415926\"\n",
        "\n",
        "# Convert pi_string into float: pi_float\n",
        "pi_float=float(pi_string)"
      ]
    },
    {
      "cell_type": "markdown",
      "source": [
        "Another, often easier, way to combine variables with text is to use f-strings.\n",
        "With an f-string, you place an `f` before the quotation marks and then put variables directly inside curly braces `{}`.\n",
        "\n",
        "This avoids the need for converting numbers with `str()`. Python does it automatically inside an f-string."
      ],
      "metadata": {
        "id": "kqYuLPrIf_DL"
      },
      "id": "kqYuLPrIf_DL"
    },
    {
      "cell_type": "code",
      "source": [
        "print(f\"I started with ${savings} and now have ${result}. Awesome!\")"
      ],
      "metadata": {
        "colab": {
          "base_uri": "https://localhost:8080/"
        },
        "id": "IEx7kKv-gOoz",
        "outputId": "cd121ab2-3af4-4b3e-8d06-e1c9ecb3ea7b"
      },
      "id": "IEx7kKv-gOoz",
      "execution_count": 69,
      "outputs": [
        {
          "output_type": "stream",
          "name": "stdout",
          "text": [
            "I started with $100 and now have $194.87171000000012. Awesome!\n"
          ]
        }
      ]
    },
    {
      "cell_type": "markdown",
      "id": "1b0159b0",
      "metadata": {
        "id": "1b0159b0"
      },
      "source": [
        "---"
      ]
    },
    {
      "cell_type": "markdown",
      "id": "297be790",
      "metadata": {
        "id": "297be790"
      },
      "source": [
        "## Section 2: Data Structures\n",
        "Python provides powerful structures to store and manipulate collections of data.\n",
        "\n",
        "We will cover:\n",
        "- List : is a collection which is ordered and changeable. Allows duplicate members.\n",
        "- Tuple : is a collection which is ordered and unchangeable. Allows duplicate members.\n",
        "- Set: is a collection which is unordered and unindexed. No duplicate members.\n",
        "- Dictionary : is a collection which is ordered and changeable. No duplicate members."
      ]
    },
    {
      "cell_type": "markdown",
      "id": "98de4cee",
      "metadata": {
        "id": "98de4cee"
      },
      "source": [
        "### Lists\n",
        "- Ordered: items have a defined index\n",
        "- Mutable: you can change, add, or remove items\n",
        "- Allows duplicates\n",
        "\n",
        "Lists are used to store multiple items in a single variable."
      ]
    },
    {
      "cell_type": "markdown",
      "id": "5a8505c8",
      "metadata": {
        "id": "5a8505c8"
      },
      "source": [
        "#### Create a list\n",
        "As opposed to int, bool etc., a list is a compound data type; you can group values together:\n",
        "\n",
        "a = \"is\"\n",
        "b = \"nice\"\n",
        "my_list = [\"my\", \"list\", a, b]\n"
      ]
    },
    {
      "cell_type": "code",
      "execution_count": 72,
      "id": "bde49a84",
      "metadata": {
        "colab": {
          "base_uri": "https://localhost:8080/"
        },
        "id": "bde49a84",
        "outputId": "fdbf5ba5-1e14-4c7b-b6aa-09a112fbada1"
      },
      "outputs": [
        {
          "output_type": "stream",
          "name": "stdout",
          "text": [
            "Grades: [85, 90, 78, 92]\n"
          ]
        }
      ],
      "source": [
        "#student grade variables\n",
        "alice = 85\n",
        "bob = 90\n",
        "carol = 78\n",
        "dave = 92\n",
        "\n",
        "#create list grades\n",
        "grades= [alice, bob, carol,dave]\n",
        "\n",
        "# Print areas\n",
        "print(\"Grades:\", grades)"
      ]
    },
    {
      "cell_type": "markdown",
      "id": "96b86b24",
      "metadata": {
        "id": "96b86b24"
      },
      "source": [
        "#### Create list with different types\n",
        "A list can contain any Python type. Although it's not really common, a list can also contain a mix of Python types including strings, floats, booleans, etc.\n",
        "\n",
        "The printout of the previous exercise wasn't really satisfying. It's just a list of numbers representing the grades, but you can't tell which grade belongs to which student."
      ]
    },
    {
      "cell_type": "code",
      "execution_count": 73,
      "id": "65754e51",
      "metadata": {
        "colab": {
          "base_uri": "https://localhost:8080/"
        },
        "id": "65754e51",
        "outputId": "842a72df-0086-4fa4-c4f4-0f8424627ca5"
      },
      "outputs": [
        {
          "output_type": "stream",
          "name": "stdout",
          "text": [
            "['Alice', 85.5, 'Bob', 90.0, 'Carol', 78.0, 'Dave', 92.5, 'Eve', 88.0]\n"
          ]
        }
      ],
      "source": [
        "# grade variables (out of 100)\n",
        "alice = 85.5\n",
        "bob = 90.0\n",
        "carol = 78.0\n",
        "dave = 92.5\n",
        "eve = 88.0\n",
        "\n",
        "# Adapt list grades with names\n",
        "grades = [\"Alice\", alice, \"Bob\", bob, \"Carol\", carol, \"Dave\", dave, \"Eve\", eve]\n",
        "\n",
        "# Print grades\n",
        "print(grades)\n"
      ]
    },
    {
      "cell_type": "markdown",
      "id": "7337af7e",
      "metadata": {
        "id": "7337af7e"
      },
      "source": [
        "#### List of Lists\n",
        "As a data scientist, you'll often be dealing with a lot of data, and it will make sense to group related data together.\n",
        "\n",
        "Instead of creating a flat list containing strings and floats, representing the names and grades of students, you can create a list of lists, where each inner list contains a student's name and their corresponding grade.\n",
        "\n",
        "Don't get confused here: \"Alice\" is a string, while alice is a variable that holds the float 85.5 you specified earlier."
      ]
    },
    {
      "cell_type": "code",
      "execution_count": null,
      "id": "0591db1b",
      "metadata": {
        "id": "0591db1b",
        "outputId": "917f1c8e-2896-47a6-f7a9-e3de4a6bed63"
      },
      "outputs": [
        {
          "name": "stdout",
          "output_type": "stream",
          "text": [
            "[['Alice', 85.5], ['Bob', 90.0], ['Carol', 78.0], ['Dave', 92.5], ['Eve', 88.0]]\n",
            "<class 'list'>\n"
          ]
        }
      ],
      "source": [
        "# grade variables (out of 100)\n",
        "alice = 85.5\n",
        "bob = 90.0\n",
        "carol = 78.0\n",
        "dave = 92.5\n",
        "eve = 88.0\n",
        "\n",
        "# student information as list of lists\n",
        "students = [[\"Alice\", alice],\n",
        "            [\"Bob\", bob],\n",
        "            [\"Carol\", carol],\n",
        "            [\"Dave\", dave],\n",
        "            [\"Eve\", eve]]\n",
        "\n",
        "# Print out students\n",
        "print(students)\n",
        "\n",
        "# Print out the type of students\n",
        "print(type(students))\n"
      ]
    },
    {
      "cell_type": "markdown",
      "id": "fbe0a93d",
      "metadata": {
        "id": "fbe0a93d"
      },
      "source": [
        "#### Subset and conquer\n",
        "Subsetting Python lists is a piece of cake. Take the code sample below, which creates a list x and then selects \"b\" from it. Remember that this is the second element, so it has index 1. You can also use negative indexing.\n",
        "\n",
        "```python\n",
        "x = [\"a\", \"b\", \"c\", \"d\"]\n",
        "x[1]\n",
        "x[-3] # same result!\n",
        "```\n",
        "Remember the areas list from before, containing both strings and floats?. Can you add the correct code to do some Python subsetting?"
      ]
    },
    {
      "cell_type": "code",
      "execution_count": null,
      "id": "96d34bb9",
      "metadata": {
        "id": "96d34bb9",
        "outputId": "1a78b132-0357-4a8d-e7bf-13985e08c290"
      },
      "outputs": [
        {
          "name": "stdout",
          "output_type": "stream",
          "text": [
            "85.5\n",
            "88.0\n",
            "78.0\n"
          ]
        }
      ],
      "source": [
        "# Create the grades list\n",
        "grades = [\"Alice\", 85.5, \"Bob\", 90.0, \"Carol\", 78.0, \"Dave\", 92.5, \"Eve\", 88.0]\n",
        "\n",
        "# Print out second element from grades (Alice's grade)\n",
        "print(grades[1])\n",
        "\n",
        "# Print out last element from grades (Eve's grade)\n",
        "print(grades[-1])\n",
        "\n",
        "# Print out Carol's grade\n",
        "print(grades[5])\n"
      ]
    },
    {
      "cell_type": "markdown",
      "id": "9a739593",
      "metadata": {
        "id": "9a739593"
      },
      "source": [
        "#### Subset and calculate\n",
        "\n",
        "After you've extracted values from a list, you can use them to perform additional calculations. Take this example, where the second and fourth element of a list `x` are extracted. The strings that result are pasted together using the `+` operator:\n",
        "\n",
        "```python\n",
        "x = [\"Alice\", \"scored \", \"Bob\", \"90\"]\n",
        "print(x[1] + x[3])\n",
        "```"
      ]
    },
    {
      "cell_type": "code",
      "execution_count": null,
      "id": "be139d6f",
      "metadata": {
        "id": "be139d6f",
        "outputId": "1c9499c0-328c-460d-bac2-d5e3d0a34b40"
      },
      "outputs": [
        {
          "name": "stdout",
          "output_type": "stream",
          "text": [
            "182.5\n"
          ]
        }
      ],
      "source": [
        "# Create the grades list\n",
        "grades = [\"Alice\", 85.5, \"Bob\", 90.0, \"Carol\", 78.0, \"Dave\", 92.5, \"Eve\", 88.0]\n",
        "\n",
        "# Sum of Bob's and Dave's grades: group_total\n",
        "group_total = grades[3] + grades[7]\n",
        "\n",
        "# Print the variable group_total\n",
        "print(group_total)\n"
      ]
    },
    {
      "cell_type": "markdown",
      "id": "c2296e90",
      "metadata": {
        "id": "c2296e90"
      },
      "source": [
        "#### Slicing and dicing\n",
        "\n",
        "Selecting single values from a list is just one part of the story. It's also possible to slice your list, which means selecting multiple elements from your list. Use the following syntax:\n",
        "\n",
        "`my_list[start:end]`  \n",
        "The start index will be included, while the end index is not.\n",
        "\n",
        "The code sample below shows an example. A list with `\"b\"` and `\"c\"`, corresponding to indexes 1 and 2, are selected from a list `x`:\n",
        "\n",
        "```python\n",
        "x = [\"a\", \"b\", \"c\", \"d\"]\n",
        "x[1:3]\n",
        "```\n"
      ]
    },
    {
      "cell_type": "code",
      "execution_count": 22,
      "id": "660ee379",
      "metadata": {
        "colab": {
          "base_uri": "https://localhost:8080/"
        },
        "id": "660ee379",
        "outputId": "bc0b1d31-ed4a-4e09-bb91-425e0118fac3"
      },
      "outputs": [
        {
          "output_type": "stream",
          "name": "stdout",
          "text": [
            "['Alice', 85.5, 'Bob', 90.0, 'Carol', 78.0] ['Dave', 92.5, 'Eve', 88.0]\n"
          ]
        }
      ],
      "source": [
        "# Create the grades list\n",
        "grades = [\"Alice\", 85.5, \"Bob\", 90.0, \"Carol\", 78.0, \"Dave\", 92.5, \"Eve\", 88.0]\n",
        "\n",
        "# Use slicing to create group_1 (first 3 students)\n",
        "group_1 = grades[:6]\n",
        "\n",
        "# Use slicing to create group_2 (last 2 students)\n",
        "group_2 = grades[6:10]\n",
        "\n",
        "# Print out both groups\n",
        "print(group_1, group_2)\n"
      ]
    },
    {
      "cell_type": "markdown",
      "source": [
        "#### Index of an entry\n",
        "\n",
        "use the `index()` method"
      ],
      "metadata": {
        "id": "lPyFq_XmpPfx"
      },
      "id": "lPyFq_XmpPfx"
    },
    {
      "cell_type": "code",
      "source": [
        "grades.index('Bob')"
      ],
      "metadata": {
        "id": "ZL8GtCd3pOXF",
        "outputId": "77a2374f-0b91-4623-fd0c-0887a10899e6",
        "colab": {
          "base_uri": "https://localhost:8080/"
        }
      },
      "id": "ZL8GtCd3pOXF",
      "execution_count": 78,
      "outputs": [
        {
          "output_type": "execute_result",
          "data": {
            "text/plain": [
              "2"
            ]
          },
          "metadata": {},
          "execution_count": 78
        }
      ]
    },
    {
      "cell_type": "code",
      "source": [
        "grades.index(90.0)"
      ],
      "metadata": {
        "id": "0cgmbVrupgGn",
        "outputId": "b30e0d13-e5ee-4a52-8c56-43831f4cd412",
        "colab": {
          "base_uri": "https://localhost:8080/"
        }
      },
      "id": "0cgmbVrupgGn",
      "execution_count": 79,
      "outputs": [
        {
          "output_type": "execute_result",
          "data": {
            "text/plain": [
              "3"
            ]
          },
          "metadata": {},
          "execution_count": 79
        }
      ]
    },
    {
      "cell_type": "markdown",
      "id": "13870702",
      "metadata": {
        "id": "13870702"
      },
      "source": [
        "#### Subsetting lists of lists\n",
        "\n",
        "You saw before that a Python list can contain practically anything — even other lists! To subset lists of lists, you can use the same technique as before: square brackets.\n"
      ]
    },
    {
      "cell_type": "code",
      "execution_count": null,
      "id": "4d300941",
      "metadata": {
        "id": "4d300941",
        "outputId": "2f5f6eb9-a3da-4085-bbd8-4ee77616a991"
      },
      "outputs": [
        {
          "name": "stdout",
          "output_type": "stream",
          "text": [
            "g\n",
            "['g', 'h']\n"
          ]
        }
      ],
      "source": [
        "x = [[\"a\", \"b\", \"c\"],\n",
        "     [\"d\", \"e\", \"f\"],\n",
        "     [\"g\", \"h\", \"i\"]]\n",
        "print(x[2][0])\n",
        "print(x[2][:2])"
      ]
    },
    {
      "cell_type": "markdown",
      "id": "5d6e10b2",
      "metadata": {
        "id": "5d6e10b2"
      },
      "source": [
        "`x[2]` results in a list, which you can subset again by adding additional square brackets."
      ]
    },
    {
      "cell_type": "code",
      "execution_count": null,
      "id": "d28ce9b9",
      "metadata": {
        "id": "d28ce9b9"
      },
      "outputs": [],
      "source": [
        "students = [[\"Alice\", 85.5],\n",
        "            [\"Bob\", 90.0],\n",
        "            [\"Carol\", 78.0],\n",
        "            [\"Dave\", 92.5],\n",
        "            [\"Eve\", 88.0]]\n",
        "\n",
        "#What will `students[-1][1]` return?"
      ]
    },
    {
      "cell_type": "code",
      "execution_count": null,
      "id": "62e64dda",
      "metadata": {
        "id": "62e64dda",
        "outputId": "f89f2109-33a5-4f05-f1c3-3d5c156ccd97"
      },
      "outputs": [
        {
          "name": "stdout",
          "output_type": "stream",
          "text": [
            "88.0\n"
          ]
        }
      ],
      "source": [
        "print(students[-1][1])"
      ]
    },
    {
      "cell_type": "markdown",
      "id": "33a7933e",
      "metadata": {
        "id": "33a7933e"
      },
      "source": [
        "#### Replace list elements\n",
        "\n",
        "Replacing list elements is pretty easy. Simply subset the list and assign new values to the subset. You can select single elements or change entire list slices at once.\n"
      ]
    },
    {
      "cell_type": "code",
      "execution_count": null,
      "id": "0112c616",
      "metadata": {
        "id": "0112c616",
        "outputId": "6fcd92e3-1fda-46cb-e3a4-865d318b9a4f"
      },
      "outputs": [
        {
          "name": "stdout",
          "output_type": "stream",
          "text": [
            "['a', 'r', 's', 't']\n"
          ]
        }
      ],
      "source": [
        "x = [\"a\", \"b\", \"c\", \"d\"]\n",
        "x[1] = \"r\"\n",
        "x[2:] = [\"s\", \"t\"]\n",
        "print(x)"
      ]
    },
    {
      "cell_type": "code",
      "execution_count": null,
      "id": "e219bd2d",
      "metadata": {
        "id": "e219bd2d",
        "outputId": "2ef39c2a-0848-4bcf-e282-6bfae79e1443"
      },
      "outputs": [
        {
          "name": "stdout",
          "output_type": "stream",
          "text": [
            "['Alice', 85.5, 'Bob', 90.0, 'Caroline', 78.0, 'Dave', 92.5, 'Eve', 91.0]\n"
          ]
        }
      ],
      "source": [
        "grades = [\"Alice\", 85.5, \"Bob\", 90.0, \"Carol\", 78.0, \"Dave\", 92.5, \"Eve\", 88.0]\n",
        "\n",
        "# Correct Eve's grade\n",
        "grades[-1] = 91.0\n",
        "\n",
        "# Change \"Carol\" to \"Caroline\"\n",
        "grades[4] = \"Caroline\"\n",
        "\n",
        "print(grades)\n"
      ]
    },
    {
      "cell_type": "markdown",
      "id": "99c8afe7",
      "metadata": {
        "id": "99c8afe7"
      },
      "source": [
        "#### Extend a list\n",
        "\n",
        "If you can change elements in a list, you can also add elements to it using the `+` operator.\n"
      ]
    },
    {
      "cell_type": "code",
      "execution_count": null,
      "id": "d35fdd18",
      "metadata": {
        "id": "d35fdd18",
        "outputId": "42ef62f4-acc3-4ec8-d535-91dd09122f95"
      },
      "outputs": [
        {
          "name": "stdout",
          "output_type": "stream",
          "text": [
            "['Alice', 85.5, 'Bob', 90.0, 'Caroline', 78.0, 'Dave', 92.5, 'Eve', 91.0, 'Frank', 84.0, 'Grace', 89.5]\n"
          ]
        }
      ],
      "source": [
        "grades = [\"Alice\", 85.5, \"Bob\", 90.0, \"Caroline\", 78.0,\n",
        "          \"Dave\", 92.5, \"Eve\", 91.0]\n",
        "\n",
        "# Add Frank's data\n",
        "grades_1 = grades + [\"Frank\", 84.0]\n",
        "\n",
        "# Add Grace's data\n",
        "grades_2 = grades_1 + [\"Grace\", 89.5]\n",
        "\n",
        "print(grades_2)\n"
      ]
    },
    {
      "cell_type": "markdown",
      "source": [
        "Adding an item: `append()`"
      ],
      "metadata": {
        "id": "aF5CLkFtqcqp"
      },
      "id": "aF5CLkFtqcqp"
    },
    {
      "cell_type": "code",
      "source": [
        "fruits = ['apple', 'mango', 'orange', 'kiwi', 'blueberry']\n",
        "fruits.append('banana')\n",
        "print(fruits)"
      ],
      "metadata": {
        "id": "TAZQiqrEqOn-",
        "outputId": "cc02c65f-d7e3-40b6-e85c-4812149ab618",
        "colab": {
          "base_uri": "https://localhost:8080/"
        }
      },
      "id": "TAZQiqrEqOn-",
      "execution_count": 86,
      "outputs": [
        {
          "output_type": "stream",
          "name": "stdout",
          "text": [
            "['apple', 'mango', 'orange', 'kiwi', 'blueberry', 'banana']\n"
          ]
        }
      ]
    },
    {
      "cell_type": "markdown",
      "source": [
        "Extending (like +) a list: `extend()`"
      ],
      "metadata": {
        "id": "fbtYT3-cqqHU"
      },
      "id": "fbtYT3-cqqHU"
    },
    {
      "cell_type": "code",
      "source": [
        "morefruits = ['guava', 'peach']\n",
        "fruits.extend(morefruits)\n",
        "print (fruits)"
      ],
      "metadata": {
        "id": "VnGM4GQfqqtR",
        "outputId": "37082db7-5a95-4a71-aa57-049344047025",
        "colab": {
          "base_uri": "https://localhost:8080/"
        }
      },
      "id": "VnGM4GQfqqtR",
      "execution_count": 87,
      "outputs": [
        {
          "output_type": "stream",
          "name": "stdout",
          "text": [
            "['apple', 'mango', 'orange', 'kiwi', 'blueberry', 'banana', 'guava', 'peach']\n"
          ]
        }
      ]
    },
    {
      "cell_type": "markdown",
      "id": "81b61d9c",
      "metadata": {
        "id": "81b61d9c"
      },
      "source": [
        "#### Delete list elements\n",
        "\n",
        "You can remove elements from your list using the `del` statement:\n"
      ]
    },
    {
      "cell_type": "code",
      "execution_count": null,
      "id": "92981527",
      "metadata": {
        "id": "92981527",
        "outputId": "83d50920-2fe5-4f74-b8ea-367b69877acf"
      },
      "outputs": [
        {
          "name": "stdout",
          "output_type": "stream",
          "text": [
            "['Alice', 85.5, 'Bob', 90.0, 'Caroline', 78.0, 'Dave', 92.5, 'Eve', 91.0, 'Grace', 89.5]\n"
          ]
        }
      ],
      "source": [
        "grades = [\"Alice\", 85.5, \"Bob\", 90.0, \"Caroline\", 78.0,\n",
        "          \"Dave\", 92.5, \"Eve\", 91.0, \"Frank\", 84.0, \"Grace\", 89.5]\n",
        "\n",
        "del grades[10:12]\n",
        "print(grades)\n"
      ]
    },
    {
      "cell_type": "markdown",
      "source": [
        "Deleting the an entry: `pop()`"
      ],
      "metadata": {
        "id": "d3G9a1blq2Ul"
      },
      "id": "d3G9a1blq2Ul"
    },
    {
      "cell_type": "code",
      "source": [
        "# Last entry\n",
        "fruits.pop()\n",
        "print(fruits)"
      ],
      "metadata": {
        "id": "pPabWqKPq0jj",
        "outputId": "2caf2b67-45ba-4594-c3ec-02a167cd34e7",
        "colab": {
          "base_uri": "https://localhost:8080/"
        }
      },
      "id": "pPabWqKPq0jj",
      "execution_count": 88,
      "outputs": [
        {
          "output_type": "stream",
          "name": "stdout",
          "text": [
            "['apple', 'mango', 'orange', 'kiwi', 'blueberry', 'banana', 'guava']\n"
          ]
        }
      ]
    },
    {
      "cell_type": "code",
      "source": [
        "# Specific entry\n",
        "fruits.pop(2)\n",
        "print(fruits)"
      ],
      "metadata": {
        "id": "IZ66P9Kzq-Oc",
        "outputId": "9fd13e2f-1dd8-4d7f-bdbb-154b5ae2e1f6",
        "colab": {
          "base_uri": "https://localhost:8080/"
        }
      },
      "id": "IZ66P9Kzq-Oc",
      "execution_count": 89,
      "outputs": [
        {
          "output_type": "stream",
          "name": "stdout",
          "text": [
            "['apple', 'mango', 'kiwi', 'blueberry', 'banana', 'guava']\n"
          ]
        }
      ]
    },
    {
      "cell_type": "markdown",
      "source": [
        "Deleting the entire list and create an empty list: `clear()`"
      ],
      "metadata": {
        "id": "WwsmXIcKrB6n"
      },
      "id": "WwsmXIcKrB6n"
    },
    {
      "cell_type": "code",
      "source": [
        "fruits.clear()\n",
        "print(fruits)"
      ],
      "metadata": {
        "id": "Jompq5VvrCst",
        "outputId": "b8f83fa7-8e4f-4b27-f04c-47514290716d",
        "colab": {
          "base_uri": "https://localhost:8080/"
        }
      },
      "id": "Jompq5VvrCst",
      "execution_count": 90,
      "outputs": [
        {
          "output_type": "stream",
          "name": "stdout",
          "text": [
            "[]\n"
          ]
        }
      ]
    },
    {
      "cell_type": "markdown",
      "id": "a731ca37",
      "metadata": {
        "id": "a731ca37"
      },
      "source": [
        "#### Inner workings of lists\n",
        "\n",
        "The code below creates a list `grades` and assigns it to `grades_copy`. Modifying `grades_copy` also changes `grades`, because both refer to the same list.\n"
      ]
    },
    {
      "cell_type": "code",
      "execution_count": null,
      "id": "f225d3ab",
      "metadata": {
        "id": "f225d3ab",
        "outputId": "7920cf54-15c9-4f41-9fed-2c0eef446904"
      },
      "outputs": [
        {
          "name": "stdout",
          "output_type": "stream",
          "text": [
            "[50.0, 90.0, 78.0, 92.5, 91.0]\n",
            "[50.0, 90.0, 78.0, 92.5, 91.0]\n"
          ]
        }
      ],
      "source": [
        "grades = [85.5, 90.0, 78.0, 92.5, 91.0]\n",
        "grades_copy = grades\n",
        "grades_copy[0] = 50.0\n",
        "\n",
        "print(grades)\n",
        "print(grades_copy)\n"
      ]
    },
    {
      "cell_type": "code",
      "execution_count": null,
      "id": "2f47a181",
      "metadata": {
        "id": "2f47a181",
        "outputId": "0355d95e-6e78-4221-cee4-5329ae55ebf6"
      },
      "outputs": [
        {
          "name": "stdout",
          "output_type": "stream",
          "text": [
            "[85.5, 90.0, 78.0, 92.5, 91.0]\n",
            "[50.0, 90.0, 78.0, 92.5, 91.0]\n"
          ]
        }
      ],
      "source": [
        "# To avoid this, make an **explicit copy** using `list()` or slicing.\n",
        "\n",
        "grades = [85.5, 90.0, 78.0, 92.5, 91.0]\n",
        "grades_copy = list(grades)\n",
        "grades_copy[0] = 50.0\n",
        "\n",
        "print(grades)\n",
        "print(grades_copy)"
      ]
    },
    {
      "cell_type": "markdown",
      "source": [
        "__Common list methods__\n",
        "\n",
        "| Method | Description |\n",
        "| ---- | ---- |\n",
        "| `list.append(elem)` | Adds a single element to the end of the list. |\n",
        "| `list.insert(index, elem)` | Inserts the element at the given index, shifting elements to the right. |\n",
        "| `list.extend(list2)` | Adds the elements in list2 to the end of the list. |\n",
        "| `list.index(elem)` | Searches for the given element from the start of the list and returns its index. |\n",
        "| `list.remove(elem)` | Searches for the first instance of the given element and removes it. |\n",
        "| `list.sort()` | Sorts the list in place (does not return it). |\n",
        "| `list.reverse()` | Reverses the list in place (does not return it). |\n",
        "| `list.pop(index)` | Removes and returns the element at the given index. |"
      ],
      "metadata": {
        "id": "sDiTAAUpnwF0"
      },
      "id": "sDiTAAUpnwF0"
    },
    {
      "cell_type": "markdown",
      "source": [
        "**Basic List Operations**\n",
        "\n",
        "| **Python Expression** | **Results** | **Description** |\n",
        "| --- | --- | --- |\n",
        "| `len([1, 2, 3])` | 3 | Length |\n",
        "| `[1, 2, 3] + [4, 5, 6]` | [1, 2, 3, 4, 5, 6] | Concatenation|\n",
        "| `['Hi!'] * 4` | ['Hi!', 'Hi!', 'Hi!', 'Hi!'] | Repetition |\n",
        "| `3 in [1, 2, 3]` | True | Membership |\n",
        "| `for x in [1, 2, 3]: print(x)`  | 1 2 3 | Iteration |"
      ],
      "metadata": {
        "id": "wn3kNzvanyhL"
      },
      "id": "wn3kNzvanyhL"
    },
    {
      "cell_type": "markdown",
      "source": [
        "---\n",
        "\n",
        "#### Excersise\n",
        "```python\n",
        "   fruits = ['apple', 'mango', 'orange', 'kiwi', 'blueberry']\n",
        "```\n",
        "* Assign `fruits` to `fruits2` and print both lists\n",
        "* Use list operations to remove the `'orange'` from the `fruits` list.\n",
        "* Print both lists - does the output make sense? What is happening?\n",
        "\n",
        "<details><summary><b>Click here to access the solution</b></summary>\n",
        "<p>\n",
        "\n",
        "```python\n",
        "fruits = ['apple', 'mango', 'orange', 'kiwi', 'blueberry']\n",
        "fruits2 = fruits\n",
        "    \n",
        "idx = fruits.index('orange')\n",
        "fruits.pop(idx)\n",
        "print(f\"Fruits:   {fruits}\")\n",
        "print(f\"Fruits-2: {fruits2}\")\n",
        "```\n",
        "    \n",
        "</p>\n",
        "</details>\n",
        "\n",
        "---"
      ],
      "metadata": {
        "id": "8htNyq9yn_ug"
      },
      "id": "8htNyq9yn_ug"
    },
    {
      "cell_type": "markdown",
      "id": "c422ed91",
      "metadata": {
        "id": "c422ed91"
      },
      "source": [
        "### Tuples\n",
        "- Ordered\n",
        "- Immutable: once created, it cannot be changed\n",
        "- Allows duplicates\n",
        "\n",
        "Tuples are useful for fixed data collections (e.g., GPS coordinates)."
      ]
    },
    {
      "cell_type": "code",
      "execution_count": null,
      "id": "4e698277",
      "metadata": {
        "id": "4e698277",
        "outputId": "38087804-1784-476d-8ac1-126adf022b75"
      },
      "outputs": [
        {
          "name": "stdout",
          "output_type": "stream",
          "text": [
            "Tuple: (1, 2, 3)\n",
            "First element: 1\n"
          ]
        }
      ],
      "source": [
        "tuple_example = (1, 2, 3)\n",
        "print(\"Tuple:\", tuple_example)\n",
        "print(\"First element:\", tuple_example[0])"
      ]
    },
    {
      "cell_type": "markdown",
      "id": "49a59040",
      "metadata": {
        "id": "49a59040"
      },
      "source": [
        "### Sets\n",
        "- Unordered\n",
        "- Mutable\n",
        "- No duplicate elements\n",
        "\n",
        "Sets are often used to store unique values."
      ]
    },
    {
      "cell_type": "code",
      "execution_count": null,
      "id": "2ec7caad",
      "metadata": {
        "id": "2ec7caad",
        "outputId": "9e60eeb7-b97d-4e1c-bb35-e86fd3bbbc2c"
      },
      "outputs": [
        {
          "name": "stdout",
          "output_type": "stream",
          "text": [
            "Set: {'blue', 'red', 'green'}\n",
            "After add: {'blue', 'red', 'green', 'yellow'}\n"
          ]
        }
      ],
      "source": [
        "colors = {\"red\", \"green\", \"blue\", \"red\"}\n",
        "print(\"Set:\", colors)\n",
        "colors.add(\"yellow\")\n",
        "print(\"After add:\", colors)"
      ]
    },
    {
      "cell_type": "markdown",
      "id": "c87280e5",
      "metadata": {
        "id": "c87280e5"
      },
      "source": [
        "### Dictionaries\n",
        "- Collection of key-value pairs\n",
        "- Keys must be unique\n",
        "- Values can be any type\n",
        "- Mutable\n",
        "\n",
        "Dictionaries are ideal for storing data that’s logically connected."
      ]
    },
    {
      "cell_type": "code",
      "execution_count": null,
      "id": "6298f740",
      "metadata": {
        "id": "6298f740",
        "outputId": "4b7b8127-8439-485c-8916-0791d48475da"
      },
      "outputs": [
        {
          "name": "stdout",
          "output_type": "stream",
          "text": [
            "Student dictionary: {'name': 'Alice', 'age': 23, 'major': 'Data Science'}\n",
            "Name: Alice\n",
            "After adding grade: {'name': 'Alice', 'age': 23, 'major': 'Data Science', 'grade': 'A'}\n",
            "Updated age: {'name': 'Alice', 'age': 24, 'major': 'Data Science', 'grade': 'A'}\n"
          ]
        }
      ],
      "source": [
        "student = {\n",
        "    \"name\": \"Alice\",\n",
        "    \"age\": 23,\n",
        "    \"major\": \"Data Science\"\n",
        "}\n",
        "print(\"Student dictionary:\", student)\n",
        "print(\"Name:\", student[\"name\"])\n",
        "student[\"grade\"] = \"A\"\n",
        "print(\"After adding grade:\", student)\n",
        "student[\"age\"] = 24\n",
        "print(\"Updated age:\", student)"
      ]
    },
    {
      "cell_type": "markdown",
      "id": "69997bac",
      "metadata": {
        "id": "69997bac"
      },
      "source": [
        "### Summary Table\n",
        "\n",
        "| Structure   | Constructor | Mutable | Ordered | Allows Duplicates |\n",
        "|-------------|--|---------|---------|--------------------|\n",
        "| List        | [] |✅      | ✅      | ✅                |\n",
        "| Tuple       | {}|❌      | ✅      | ✅                |\n",
        "| Set         | ()|✅      | ❌      | ❌                |\n",
        "| Dictionary  | {\"key\": value}|✅      | ✅ (keys) | ❌ (keys)       |\n"
      ]
    },
    {
      "cell_type": "markdown",
      "id": "76323128",
      "metadata": {
        "id": "76323128"
      },
      "source": [
        "\n",
        "<img src=\"https://github.com/haboalr/python101/blob/main/notebooks/figures/fig3.png?raw=1\" alt=\"Summary of Data Structures\" width=\"600\"/>\n",
        "\n",
        "<small>Source: <a href=\"https://medium.com/@aitarurachel/data-structures-with-lists-tuples-dictionaries-and-sets-in-python-612245a712af\" target=\"_blank\">Data Structures in Python – Medium</a></small>\n"
      ]
    },
    {
      "cell_type": "markdown",
      "id": "5dd4f18c",
      "metadata": {
        "id": "5dd4f18c"
      },
      "source": [
        "---"
      ]
    },
    {
      "cell_type": "markdown",
      "id": "35045969",
      "metadata": {
        "id": "35045969"
      },
      "source": [
        "\n",
        "### References\n",
        "\n",
        "1. [DataCamp – Introduction to Python for Data Science](https://www.datacamp.com/courses/intro-to-python-for-data-science?utm_cid=22785184694&utm_aid=185890095721&utm_campaign=220808_1-ps-brd~brd~branded-variations_2-b2c_3-emea_4-rtw_5-na_6-na_7-le_8-pdsh-go_9-b-e_10-na_11-na&utm_loc=9041859-&utm_mtd=e-c&utm_kw=datacamp%20python%20course&utm_source=google&utm_medium=paid_search&utm_content=ps-other~emea-en~brd~tech~python&gad_source=1&gad_campaignid=22785184694&gbraid=0AAAAADQ9WsFGbwt0khugCn-zS_JkuMAfh&gclid=CjwKCAjwy7HEBhBJEiwA5hQNothFvZtzAJZuYzMvsuZIdqptprOQa2hdhbdrVfwN7K09czVXQu-7ihoC4ScQAvD_BwE)\n",
        "\n",
        "2. [HS Offenburg – Introductory to Python course materials](https://elearning.hs-offenburg.de/moodle/course/view.php?id=6551)\n"
      ]
    },
    {
      "cell_type": "code",
      "source": [],
      "metadata": {
        "id": "lxnpz7FB_TYr"
      },
      "id": "lxnpz7FB_TYr",
      "execution_count": null,
      "outputs": []
    }
  ],
  "metadata": {
    "kernelspec": {
      "display_name": "base",
      "language": "python",
      "name": "python3"
    },
    "language_info": {
      "codemirror_mode": {
        "name": "ipython",
        "version": 3
      },
      "file_extension": ".py",
      "mimetype": "text/x-python",
      "name": "python",
      "nbconvert_exporter": "python",
      "pygments_lexer": "ipython3",
      "version": "3.12.3"
    },
    "colab": {
      "provenance": [],
      "toc_visible": true
    }
  },
  "nbformat": 4,
  "nbformat_minor": 5
}